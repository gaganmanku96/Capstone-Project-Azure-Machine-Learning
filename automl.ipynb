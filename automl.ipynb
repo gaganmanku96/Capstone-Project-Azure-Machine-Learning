{
  "cells": [
    {
      "cell_type": "markdown",
      "source": [
        "# Automated ML\n",
        "\n",
        "TODO: Import Dependencies. In the cell below, import all the dependencies that you will need to complete the project."
      ],
      "metadata": {}
    },
    {
      "cell_type": "code",
      "source": [
        "from azureml.core import Experiment, Workspace\r\n",
        "import pandas as pd"
      ],
      "outputs": [],
      "execution_count": 1,
      "metadata": {
        "gather": {
          "logged": 1613061729821
        },
        "jupyter": {
          "outputs_hidden": false,
          "source_hidden": false
        },
        "nteract": {
          "transient": {
            "deleting": false
          }
        }
      }
    },
    {
      "cell_type": "markdown",
      "source": [
        "## Dataset\n",
        "\n",
        "### Overview\n",
        "TODO: In this markdown cell, give an overview of the dataset you are using. Also mention the task you will be performing.\n",
        "\n",
        "\n",
        "TODO: Get data. In the cell below, write code to access the data you will be using in this project. Remember that the dataset needs to be external."
      ],
      "metadata": {}
    },
    {
      "cell_type": "code",
      "source": [
        "ws = Workspace.from_config()\n",
        "\n",
        "# choose a name for experiment\n",
        "experiment_name = 'CapstoneProject'\n",
        "\n",
        "experiment=Experiment(ws, experiment_name)"
      ],
      "outputs": [],
      "execution_count": 2,
      "metadata": {
        "gather": {
          "logged": 1613061738086
        },
        "jupyter": {
          "outputs_hidden": false,
          "source_hidden": false
        },
        "nteract": {
          "transient": {
            "deleting": false
          }
        }
      }
    },
    {
      "cell_type": "markdown",
      "source": [
        "## Creating Compute Cluster"
      ],
      "metadata": {
        "nteract": {
          "transient": {
            "deleting": false
          }
        }
      }
    },
    {
      "cell_type": "code",
      "source": [
        "from azureml.core.compute_target import ComputeTargetException\r\n",
        "from azureml.core.compute import ComputeTarget, AmlCompute\r\n",
        "\r\n",
        "# TODO: Create compute cluster\r\n",
        "# Use vm_size = \"Standard_D2_V2\" in your provisioning configuration.\r\n",
        "# max_nodes should be no greater than 4.\r\n",
        "\r\n",
        "cluster_name = \"computeluster\"\r\n",
        "try:\r\n",
        "    compute_cluster = ComputeTarget(ws, cluster_name)\r\n",
        "    print(\"Found exisitng compute cluster\")\r\n",
        "except ComputeTargetException:\r\n",
        "    print(\"Creating new computer cluster\")\r\n",
        "    compute_config = AmlCompute.provisioning_configuration(vm_size='STANDARD_D2_V2', max_nodes=4)\r\n",
        "\r\n",
        "    compute_cluster = ComputeTarget.create(ws, cluster_name, compute_config)\r\n",
        "    print(\"Created computer cluster\")"
      ],
      "outputs": [
        {
          "output_type": "stream",
          "name": "stdout",
          "text": [
            "Found exisitng compute cluster\n"
          ]
        }
      ],
      "execution_count": 3,
      "metadata": {
        "collapsed": true,
        "jupyter": {
          "source_hidden": false,
          "outputs_hidden": false
        },
        "nteract": {
          "transient": {
            "deleting": false
          }
        },
        "gather": {
          "logged": 1613061744103
        }
      }
    },
    {
      "cell_type": "markdown",
      "source": [
        "## Importing Dataset"
      ],
      "metadata": {
        "nteract": {
          "transient": {
            "deleting": false
          }
        }
      }
    },
    {
      "cell_type": "code",
      "source": [
        "from azureml.data.dataset_factory import TabularDatasetFactory\r\n",
        "\r\n",
        "ds = TabularDatasetFactory.from_delimited_files(path='https://raw.githubusercontent.com/gaganmanku96/Capstone-Project-Azure-Machine-Learning/master/students_placement_data.csv')"
      ],
      "outputs": [],
      "execution_count": 20,
      "metadata": {
        "collapsed": true,
        "jupyter": {
          "source_hidden": false,
          "outputs_hidden": false
        },
        "nteract": {
          "transient": {
            "deleting": false
          }
        },
        "gather": {
          "logged": 1613063511548
        }
      }
    },
    {
      "cell_type": "markdown",
      "source": [
        "## AutoML Configuration\n",
        "\n",
        "TODO: Explain why you chose the automl settings and cofiguration you used below."
      ],
      "metadata": {}
    },
    {
      "cell_type": "code",
      "source": [
        "from azureml.train.automl import AutoMLConfig\n",
        "\n",
        "# TODO: Put your automl settings here\n",
        "automl_settings = {\n",
        "    \"n_cross_validations\": 3,\n",
        "    \"primary_metric\": 'accuracy',\n",
        "    \"enable_early_stopping\": True,\n",
        "    \"experiment_timeout_hours\": 0.3,\n",
        "    \"max_concurrent_iterations\": 4,\n",
        "    \"max_cores_per_iteration\": -1,\n",
        "    \"verbosity\": logging.INFO\n",
        "}\n",
        "\n",
        "# TODO: Put your automl config here\n",
        "automl_config = AutoMLConfig(\n",
        "    experiment_timeout_minutes=30,\n",
        "    compute_target='computeluster',\n",
        "    task='classification',\n",
        "    training_data=ds,\n",
        "    label_column_name='placement_status',\n",
        "    **automl_settings\n",
        "    )"
      ],
      "outputs": [],
      "execution_count": 24,
      "metadata": {
        "gather": {
          "logged": 1613063560162
        },
        "jupyter": {
          "outputs_hidden": false,
          "source_hidden": false
        },
        "nteract": {
          "transient": {
            "deleting": false
          }
        }
      }
    },
    {
      "cell_type": "code",
      "source": [
        "# TODO: Submit your experiment\n",
        "experiment_name = 'placement_prediction'\n",
        "experiment=Experiment(ws, experiment_name)\n",
        "\n",
        "# TODO: Submit your experiment\n",
        "remote_run = experiment.submit(automl_config, show_output=True)"
      ],
      "outputs": [
        {
          "output_type": "stream",
          "name": "stdout",
          "text": [
            "Running on remote.\n",
            "Running on remote compute: computeluster\n",
            "Parent Run ID: AutoML_1a05dc79-dcc8-4e4f-bb6b-f7065252b6df\n",
            "\n",
            "Current status: FeaturesGeneration. Generating features for the dataset.\n",
            "Current status: DatasetCrossValidationSplit. Generating individually featurized CV splits.\n",
            "Current status: ModelSelection. Beginning model selection.\n",
            "\n",
            "****************************************************************************************************\n",
            "DATA GUARDRAILS: \n",
            "\n",
            "TYPE:         Class balancing detection\n",
            "STATUS:       PASSED\n",
            "DESCRIPTION:  Your inputs were analyzed, and all classes are balanced in your training data.\n",
            "              Learn more about imbalanced data: https://aka.ms/AutomatedMLImbalancedData\n",
            "\n",
            "****************************************************************************************************\n",
            "\n",
            "TYPE:         Missing feature values imputation\n",
            "STATUS:       PASSED\n",
            "DESCRIPTION:  No feature missing values were detected in the training data.\n",
            "              Learn more about missing value imputation: https://aka.ms/AutomatedMLFeaturization\n",
            "\n",
            "****************************************************************************************************\n",
            "\n",
            "TYPE:         High cardinality feature detection\n",
            "STATUS:       PASSED\n",
            "DESCRIPTION:  Your inputs were analyzed, and no high cardinality features were detected.\n",
            "              Learn more about high cardinality feature handling: https://aka.ms/AutomatedMLFeaturization\n",
            "\n",
            "****************************************************************************************************\n",
            "\n",
            "****************************************************************************************************\n",
            "ITERATION: The iteration being evaluated.\n",
            "PIPELINE: A summary description of the pipeline being evaluated.\n",
            "DURATION: Time taken for the current iteration.\n",
            "METRIC: The result of computing score on the fitted pipeline.\n",
            "BEST: The best observed score thus far.\n",
            "****************************************************************************************************\n",
            "\n",
            " ITERATION   PIPELINE                                       DURATION      METRIC      BEST\n",
            "         3   MinMaxScaler RandomForest                      0:00:54       0.8547    0.8547\n",
            "         2   MinMaxScaler RandomForest                      0:00:52       0.8205    0.8547\n",
            "         5   MinMaxScaler SVM                               0:00:49       0.7778    0.8547\n",
            "         6   MaxAbsScaler GradientBoosting                  0:01:03       0.7863    0.8547\n",
            "         1   MaxAbsScaler XGBoostClassifier                 0:03:36       0.8034    0.8547\n",
            "         7   SparseNormalizer LightGBM                      0:00:57       0.7778    0.8547\n",
            "         0   MaxAbsScaler LightGBM                          0:03:59       0.7778    0.8547\n",
            "         4   MinMaxScaler RandomForest                      0:03:50       0.8120    0.8547\n",
            "         8   SparseNormalizer XGBoostClassifier             0:01:02       0.8547    0.8547\n",
            "         9   SparseNormalizer XGBoostClassifier             0:00:55       0.8120    0.8547\n",
            "        10   StandardScalerWrapper RandomForest             0:00:56       0.8205    0.8547\n",
            "        11   RobustScaler ExtremeRandomTrees                0:00:55       0.8291    0.8547\n",
            "        12   MinMaxScaler LightGBM                          0:00:50       0.8205    0.8547\n",
            "        13   MaxAbsScaler LightGBM                          0:00:55       0.8120    0.8547\n",
            "        14   StandardScalerWrapper RandomForest             0:00:52       0.8376    0.8547\n",
            "        15   StandardScalerWrapper LightGBM                 0:00:52       0.8462    0.8547\n",
            "        16   RobustScaler LightGBM                          0:01:00       0.8291    0.8547\n",
            "        17   MinMaxScaler LightGBM                          0:00:57       0.8376    0.8547\n",
            "        18   SparseNormalizer LightGBM                      0:00:45       0.8376    0.8547\n",
            "        19   RobustScaler LightGBM                          0:00:50       0.8120    0.8547\n",
            "        20   StandardScalerWrapper RandomForest             0:00:53       0.8462    0.8547\n",
            "        21   StandardScalerWrapper LightGBM                 0:00:53       0.8462    0.8547\n",
            "        22   MaxAbsScaler LightGBM                          0:00:50       0.8205    0.8547\n",
            "        23   SparseNormalizer XGBoostClassifier             0:00:56       0.8547    0.8547\n",
            "        24   MinMaxScaler LightGBM                          0:00:51       0.8205    0.8547\n",
            "        25   StandardScalerWrapper RandomForest             0:00:53       0.6667    0.8547\n",
            "        26   StandardScalerWrapper XGBoostClassifier        0:00:53       0.8291    0.8547\n",
            "        27   StandardScalerWrapper ExtremeRandomTrees       0:00:55       0.8803    0.8803\n",
            "        28   RobustScaler RandomForest                      0:01:07       0.8376    0.8803\n",
            "        30   SparseNormalizer RandomForest                  0:00:51       0.7179    0.8803\n",
            "        29   MaxAbsScaler ExtremeRandomTrees                0:00:58       0.7949    0.8803\n",
            "        31   MinMaxScaler LightGBM                          0:00:47       0.8120    0.8803\n",
            "        32   MinMaxScaler LogisticRegression                0:00:52       0.8120    0.8803\n",
            "        33   StandardScalerWrapper XGBoostClassifier        0:00:54       0.8205    0.8803\n",
            "        34   StandardScalerWrapper XGBoostClassifier        0:00:49       0.8376    0.8803\n",
            "        35   RobustScaler ExtremeRandomTrees                0:00:51       0.8718    0.8803\n",
            "        36   StandardScalerWrapper LightGBM                 0:00:53       0.8462    0.8803\n",
            "        37   StandardScalerWrapper XGBoostClassifier        0:00:46       0.8120    0.8803\n",
            "        38   StandardScalerWrapper LightGBM                 0:00:48       0.8462    0.8803\n",
            "        39   StandardScalerWrapper LightGBM                 0:00:52       0.8291    0.8803\n",
            "        41   MaxAbsScaler RandomForest                      0:00:54       0.8120    0.8803\n",
            "        40   StandardScalerWrapper ExtremeRandomTrees       0:01:05       0.8462    0.8803\n",
            "        42   StandardScalerWrapper ExtremeRandomTrees       0:00:59       0.8547    0.8803\n",
            "        43   MinMaxScaler RandomForest                      0:00:49       0.8205    0.8803\n",
            "        44    VotingEnsemble                                0:01:35       0.9145    0.9145\n",
            "        45    StackEnsemble                                 0:01:33       0.8889    0.9145\n"
          ]
        }
      ],
      "execution_count": 27,
      "metadata": {
        "gather": {
          "logged": 1613065224217
        },
        "jupyter": {
          "outputs_hidden": false,
          "source_hidden": false
        },
        "nteract": {
          "transient": {
            "deleting": false
          }
        }
      }
    },
    {
      "cell_type": "markdown",
      "source": [
        "## Run Details\n",
        "\n",
        "OPTIONAL: Write about the different models trained and their performance. Why do you think some models did better than others?\n",
        "\n",
        "TODO: In the cell below, use the `RunDetails` widget to show the different experiments."
      ],
      "metadata": {}
    },
    {
      "cell_type": "code",
      "source": [
        "from azureml.widgets import RunDetails\r\n",
        "\r\n",
        "RunDetails(remote_run).show()\r\n",
        "remote_run.wait_for_completion(show_output=True)"
      ],
      "outputs": [
        {
          "output_type": "display_data",
          "data": {
            "text/plain": "_AutoMLWidget(widget_settings={'childWidgetDisplay': 'popup', 'send_telemetry': False, 'log_level': 'INFO', 's…",
            "application/vnd.jupyter.widget-view+json": {
              "version_major": 2,
              "version_minor": 0,
              "model_id": "668b4f85c4184c36a2061b4fca1fb3fc"
            }
          },
          "metadata": {}
        },
        {
          "output_type": "display_data",
          "data": {
            "application/aml.mini.widget.v1": "{\"status\": \"Completed\", \"workbench_run_details_uri\": \"https://ml.azure.com/experiments/placement_prediction/runs/AutoML_1a05dc79-dcc8-4e4f-bb6b-f7065252b6df?wsid=/subscriptions/6b4af8be-9931-443e-90f6-c4c34a1f9737/resourcegroups/aml-quickstarts-138594/workspaces/quick-starts-ws-138594\", \"run_id\": \"AutoML_1a05dc79-dcc8-4e4f-bb6b-f7065252b6df\", \"run_properties\": {\"run_id\": \"AutoML_1a05dc79-dcc8-4e4f-bb6b-f7065252b6df\", \"created_utc\": \"2021-02-11T17:16:11.730191Z\", \"properties\": {\"num_iterations\": \"1000\", \"training_type\": \"TrainFull\", \"acquisition_function\": \"EI\", \"primary_metric\": \"accuracy\", \"train_split\": \"0\", \"acquisition_parameter\": \"0\", \"num_cross_validation\": \"3\", \"target\": \"computeluster\", \"AMLSettingsJsonString\": \"{\\\"path\\\":null,\\\"name\\\":\\\"placement_prediction\\\",\\\"subscription_id\\\":\\\"6b4af8be-9931-443e-90f6-c4c34a1f9737\\\",\\\"resource_group\\\":\\\"aml-quickstarts-138594\\\",\\\"workspace_name\\\":\\\"quick-starts-ws-138594\\\",\\\"region\\\":\\\"southcentralus\\\",\\\"compute_target\\\":\\\"computeluster\\\",\\\"spark_service\\\":null,\\\"azure_service\\\":\\\"remote\\\",\\\"many_models\\\":false,\\\"pipeline_fetch_max_batch_size\\\":1,\\\"iterations\\\":1000,\\\"primary_metric\\\":\\\"accuracy\\\",\\\"task_type\\\":\\\"classification\\\",\\\"data_script\\\":null,\\\"validation_size\\\":0.0,\\\"n_cross_validations\\\":3,\\\"y_min\\\":null,\\\"y_max\\\":null,\\\"num_classes\\\":null,\\\"featurization\\\":\\\"auto\\\",\\\"_ignore_package_version_incompatibilities\\\":false,\\\"is_timeseries\\\":false,\\\"max_cores_per_iteration\\\":-1,\\\"max_concurrent_iterations\\\":4,\\\"iteration_timeout_minutes\\\":null,\\\"mem_in_mb\\\":null,\\\"enforce_time_on_windows\\\":false,\\\"experiment_timeout_minutes\\\":30,\\\"experiment_exit_score\\\":null,\\\"whitelist_models\\\":null,\\\"blacklist_algos\\\":[\\\"TensorFlowLinearClassifier\\\",\\\"TensorFlowDNN\\\"],\\\"supported_models\\\":[\\\"GradientBoosting\\\",\\\"AveragedPerceptronClassifier\\\",\\\"ExtremeRandomTrees\\\",\\\"SVM\\\",\\\"DecisionTree\\\",\\\"LightGBM\\\",\\\"TensorFlowLinearClassifier\\\",\\\"KNN\\\",\\\"XGBoostClassifier\\\",\\\"LinearSVM\\\",\\\"SGD\\\",\\\"MultinomialNaiveBayes\\\",\\\"BernoulliNaiveBayes\\\",\\\"TensorFlowDNN\\\",\\\"RandomForest\\\",\\\"LogisticRegression\\\"],\\\"auto_blacklist\\\":true,\\\"blacklist_samples_reached\\\":false,\\\"exclude_nan_labels\\\":true,\\\"verbosity\\\":20,\\\"_debug_log\\\":\\\"azureml_automl.log\\\",\\\"show_warnings\\\":false,\\\"model_explainability\\\":true,\\\"service_url\\\":null,\\\"sdk_url\\\":null,\\\"sdk_packages\\\":null,\\\"enable_onnx_compatible_models\\\":false,\\\"enable_split_onnx_featurizer_estimator_models\\\":false,\\\"vm_type\\\":\\\"STANDARD_D2_V2\\\",\\\"telemetry_verbosity\\\":20,\\\"send_telemetry\\\":true,\\\"enable_dnn\\\":false,\\\"scenario\\\":\\\"SDK-1.13.0\\\",\\\"environment_label\\\":null,\\\"force_text_dnn\\\":false,\\\"enable_feature_sweeping\\\":true,\\\"enable_early_stopping\\\":true,\\\"early_stopping_n_iters\\\":10,\\\"metrics\\\":null,\\\"enable_ensembling\\\":true,\\\"enable_stack_ensembling\\\":true,\\\"ensemble_iterations\\\":15,\\\"enable_tf\\\":false,\\\"enable_subsampling\\\":null,\\\"subsample_seed\\\":null,\\\"enable_nimbusml\\\":false,\\\"enable_streaming\\\":false,\\\"force_streaming\\\":false,\\\"track_child_runs\\\":true,\\\"allowed_private_models\\\":[],\\\"label_column_name\\\":\\\"placement_status\\\",\\\"weight_column_name\\\":null,\\\"cv_split_column_names\\\":null,\\\"enable_local_managed\\\":false,\\\"_local_managed_run_id\\\":null,\\\"cost_mode\\\":1,\\\"lag_length\\\":0,\\\"metric_operation\\\":\\\"maximize\\\",\\\"preprocess\\\":true}\", \"DataPrepJsonString\": \"{\\\\\\\"training_data\\\\\\\": \\\\\\\"{\\\\\\\\\\\\\\\"blocks\\\\\\\\\\\\\\\": [{\\\\\\\\\\\\\\\"id\\\\\\\\\\\\\\\": \\\\\\\\\\\\\\\"70c2cd63-3306-4435-a347-e82401622e3e\\\\\\\\\\\\\\\", \\\\\\\\\\\\\\\"type\\\\\\\\\\\\\\\": \\\\\\\\\\\\\\\"Microsoft.DPrep.GetFilesBlock\\\\\\\\\\\\\\\", \\\\\\\\\\\\\\\"arguments\\\\\\\\\\\\\\\": {\\\\\\\\\\\\\\\"isArchive\\\\\\\\\\\\\\\": false, \\\\\\\\\\\\\\\"path\\\\\\\\\\\\\\\": {\\\\\\\\\\\\\\\"target\\\\\\\\\\\\\\\": 4, \\\\\\\\\\\\\\\"resourceDetails\\\\\\\\\\\\\\\": [{\\\\\\\\\\\\\\\"path\\\\\\\\\\\\\\\": \\\\\\\\\\\\\\\"https://raw.githubusercontent.com/gaganmanku96/Capstone-Project-Azure-Machine-Learning/master/students_placement_data.csv\\\\\\\\\\\\\\\"}]}}, \\\\\\\\\\\\\\\"localData\\\\\\\\\\\\\\\": {}, \\\\\\\\\\\\\\\"isEnabled\\\\\\\\\\\\\\\": true, \\\\\\\\\\\\\\\"name\\\\\\\\\\\\\\\": null, \\\\\\\\\\\\\\\"annotation\\\\\\\\\\\\\\\": null}, {\\\\\\\\\\\\\\\"id\\\\\\\\\\\\\\\": \\\\\\\\\\\\\\\"c2b56b1d-e955-4254-a60e-a7661e12f184\\\\\\\\\\\\\\\", \\\\\\\\\\\\\\\"type\\\\\\\\\\\\\\\": \\\\\\\\\\\\\\\"Microsoft.DPrep.ParseDelimitedBlock\\\\\\\\\\\\\\\", \\\\\\\\\\\\\\\"arguments\\\\\\\\\\\\\\\": {\\\\\\\\\\\\\\\"columnHeadersMode\\\\\\\\\\\\\\\": 3, \\\\\\\\\\\\\\\"fileEncoding\\\\\\\\\\\\\\\": 0, \\\\\\\\\\\\\\\"handleQuotedLineBreaks\\\\\\\\\\\\\\\": false, \\\\\\\\\\\\\\\"preview\\\\\\\\\\\\\\\": false, \\\\\\\\\\\\\\\"separator\\\\\\\\\\\\\\\": \\\\\\\\\\\\\\\",\\\\\\\\\\\\\\\", \\\\\\\\\\\\\\\"skipRows\\\\\\\\\\\\\\\": 0, \\\\\\\\\\\\\\\"skipRowsMode\\\\\\\\\\\\\\\": 0}, \\\\\\\\\\\\\\\"localData\\\\\\\\\\\\\\\": {}, \\\\\\\\\\\\\\\"isEnabled\\\\\\\\\\\\\\\": true, \\\\\\\\\\\\\\\"name\\\\\\\\\\\\\\\": null, \\\\\\\\\\\\\\\"annotation\\\\\\\\\\\\\\\": null}, {\\\\\\\\\\\\\\\"id\\\\\\\\\\\\\\\": \\\\\\\\\\\\\\\"be447d1b-4496-4ca9-b590-24ee6b1a403b\\\\\\\\\\\\\\\", \\\\\\\\\\\\\\\"type\\\\\\\\\\\\\\\": \\\\\\\\\\\\\\\"Microsoft.DPrep.DropColumnsBlock\\\\\\\\\\\\\\\", \\\\\\\\\\\\\\\"arguments\\\\\\\\\\\\\\\": {\\\\\\\\\\\\\\\"columns\\\\\\\\\\\\\\\": {\\\\\\\\\\\\\\\"type\\\\\\\\\\\\\\\": 0, \\\\\\\\\\\\\\\"details\\\\\\\\\\\\\\\": {\\\\\\\\\\\\\\\"selectedColumns\\\\\\\\\\\\\\\": [\\\\\\\\\\\\\\\"Path\\\\\\\\\\\\\\\"]}}}, \\\\\\\\\\\\\\\"localData\\\\\\\\\\\\\\\": {}, \\\\\\\\\\\\\\\"isEnabled\\\\\\\\\\\\\\\": true, \\\\\\\\\\\\\\\"name\\\\\\\\\\\\\\\": null, \\\\\\\\\\\\\\\"annotation\\\\\\\\\\\\\\\": null}, {\\\\\\\\\\\\\\\"id\\\\\\\\\\\\\\\": \\\\\\\\\\\\\\\"9b08006a-2260-4e46-94cc-dfdb390cb24f\\\\\\\\\\\\\\\", \\\\\\\\\\\\\\\"type\\\\\\\\\\\\\\\": \\\\\\\\\\\\\\\"Microsoft.DPrep.SetColumnTypesBlock\\\\\\\\\\\\\\\", \\\\\\\\\\\\\\\"arguments\\\\\\\\\\\\\\\": {\\\\\\\\\\\\\\\"columnConversion\\\\\\\\\\\\\\\": [{\\\\\\\\\\\\\\\"column\\\\\\\\\\\\\\\": {\\\\\\\\\\\\\\\"type\\\\\\\\\\\\\\\": 2, \\\\\\\\\\\\\\\"details\\\\\\\\\\\\\\\": {\\\\\\\\\\\\\\\"selectedColumn\\\\\\\\\\\\\\\": \\\\\\\\\\\\\\\"roll_no\\\\\\\\\\\\\\\"}}, \\\\\\\\\\\\\\\"typeProperty\\\\\\\\\\\\\\\": 2}, {\\\\\\\\\\\\\\\"column\\\\\\\\\\\\\\\": {\\\\\\\\\\\\\\\"type\\\\\\\\\\\\\\\": 2, \\\\\\\\\\\\\\\"details\\\\\\\\\\\\\\\": {\\\\\\\\\\\\\\\"selectedColumn\\\\\\\\\\\\\\\": \\\\\\\\\\\\\\\"gender\\\\\\\\\\\\\\\"}}, \\\\\\\\\\\\\\\"typeProperty\\\\\\\\\\\\\\\": 0}, {\\\\\\\\\\\\\\\"column\\\\\\\\\\\\\\\": {\\\\\\\\\\\\\\\"type\\\\\\\\\\\\\\\": 2, \\\\\\\\\\\\\\\"details\\\\\\\\\\\\\\\": {\\\\\\\\\\\\\\\"selectedColumn\\\\\\\\\\\\\\\": \\\\\\\\\\\\\\\"section\\\\\\\\\\\\\\\"}}, \\\\\\\\\\\\\\\"typeProperty\\\\\\\\\\\\\\\": 0}, {\\\\\\\\\\\\\\\"column\\\\\\\\\\\\\\\": {\\\\\\\\\\\\\\\"type\\\\\\\\\\\\\\\": 2, \\\\\\\\\\\\\\\"details\\\\\\\\\\\\\\\": {\\\\\\\\\\\\\\\"selectedColumn\\\\\\\\\\\\\\\": \\\\\\\\\\\\\\\"SSC_percentage\\\\\\\\\\\\\\\"}}, \\\\\\\\\\\\\\\"typeProperty\\\\\\\\\\\\\\\": 3}, {\\\\\\\\\\\\\\\"column\\\\\\\\\\\\\\\": {\\\\\\\\\\\\\\\"type\\\\\\\\\\\\\\\": 2, \\\\\\\\\\\\\\\"details\\\\\\\\\\\\\\\": {\\\\\\\\\\\\\\\"selectedColumn\\\\\\\\\\\\\\\": \\\\\\\\\\\\\\\"inter_diploma_percentage\\\\\\\\\\\\\\\"}}, \\\\\\\\\\\\\\\"typeProperty\\\\\\\\\\\\\\\": 3}, {\\\\\\\\\\\\\\\"column\\\\\\\\\\\\\\\": {\\\\\\\\\\\\\\\"type\\\\\\\\\\\\\\\": 2, \\\\\\\\\\\\\\\"details\\\\\\\\\\\\\\\": {\\\\\\\\\\\\\\\"selectedColumn\\\\\\\\\\\\\\\": \\\\\\\\\\\\\\\"undergraduation_percentage\\\\\\\\\\\\\\\"}}, \\\\\\\\\\\\\\\"typeProperty\\\\\\\\\\\\\\\": 3}, {\\\\\\\\\\\\\\\"column\\\\\\\\\\\\\\\": {\\\\\\\\\\\\\\\"type\\\\\\\\\\\\\\\": 2, \\\\\\\\\\\\\\\"details\\\\\\\\\\\\\\\": {\\\\\\\\\\\\\\\"selectedColumn\\\\\\\\\\\\\\\": \\\\\\\\\\\\\\\"n_backlogs\\\\\\\\\\\\\\\"}}, \\\\\\\\\\\\\\\"typeProperty\\\\\\\\\\\\\\\": 2}, {\\\\\\\\\\\\\\\"column\\\\\\\\\\\\\\\": {\\\\\\\\\\\\\\\"type\\\\\\\\\\\\\\\": 2, \\\\\\\\\\\\\\\"details\\\\\\\\\\\\\\\": {\\\\\\\\\\\\\\\"selectedColumn\\\\\\\\\\\\\\\": \\\\\\\\\\\\\\\"registered_for_placement_training\\\\\\\\\\\\\\\"}}, \\\\\\\\\\\\\\\"typeProperty\\\\\\\\\\\\\\\": 1}, {\\\\\\\\\\\\\\\"column\\\\\\\\\\\\\\\": {\\\\\\\\\\\\\\\"type\\\\\\\\\\\\\\\": 2, \\\\\\\\\\\\\\\"details\\\\\\\\\\\\\\\": {\\\\\\\\\\\\\\\"selectedColumn\\\\\\\\\\\\\\\": \\\\\\\\\\\\\\\"placement_status\\\\\\\\\\\\\\\"}}, \\\\\\\\\\\\\\\"typeProperty\\\\\\\\\\\\\\\": 0}]}, \\\\\\\\\\\\\\\"localData\\\\\\\\\\\\\\\": {}, \\\\\\\\\\\\\\\"isEnabled\\\\\\\\\\\\\\\": true, \\\\\\\\\\\\\\\"name\\\\\\\\\\\\\\\": null, \\\\\\\\\\\\\\\"annotation\\\\\\\\\\\\\\\": null}], \\\\\\\\\\\\\\\"inspectors\\\\\\\\\\\\\\\": [], \\\\\\\\\\\\\\\"meta\\\\\\\\\\\\\\\": {\\\\\\\\\\\\\\\"savedDatasetId\\\\\\\\\\\\\\\": \\\\\\\\\\\\\\\"87193310-c9ea-4daf-8683-a72862e09ee6\\\\\\\\\\\\\\\", \\\\\\\\\\\\\\\"datasetType\\\\\\\\\\\\\\\": \\\\\\\\\\\\\\\"tabular\\\\\\\\\\\\\\\", \\\\\\\\\\\\\\\"subscriptionId\\\\\\\\\\\\\\\": \\\\\\\\\\\\\\\"6b4af8be-9931-443e-90f6-c4c34a1f9737\\\\\\\\\\\\\\\", \\\\\\\\\\\\\\\"workspaceId\\\\\\\\\\\\\\\": \\\\\\\\\\\\\\\"0750d223-0157-43e4-a234-85c6b611aa98\\\\\\\\\\\\\\\", \\\\\\\\\\\\\\\"workspaceLocation\\\\\\\\\\\\\\\": \\\\\\\\\\\\\\\"southcentralus\\\\\\\\\\\\\\\"}}\\\\\\\", \\\\\\\"activities\\\\\\\": 0}\", \"EnableSubsampling\": null, \"runTemplate\": \"AutoML\", \"azureml.runsource\": \"automl\", \"display_task_type\": \"classification\", \"dependencies_versions\": \"{\\\"azureml-widgets\\\": \\\"1.20.0\\\", \\\"azureml-train\\\": \\\"1.20.0\\\", \\\"azureml-train-restclients-hyperdrive\\\": \\\"1.20.0\\\", \\\"azureml-train-core\\\": \\\"1.20.0\\\", \\\"azureml-train-automl\\\": \\\"1.20.0\\\", \\\"azureml-train-automl-runtime\\\": \\\"1.20.0\\\", \\\"azureml-train-automl-client\\\": \\\"1.20.0\\\", \\\"azureml-tensorboard\\\": \\\"1.20.0\\\", \\\"azureml-telemetry\\\": \\\"1.20.0\\\", \\\"azureml-sdk\\\": \\\"1.20.0\\\", \\\"azureml-samples\\\": \\\"0+unknown\\\", \\\"azureml-pipeline\\\": \\\"1.20.0\\\", \\\"azureml-pipeline-steps\\\": \\\"1.20.0\\\", \\\"azureml-pipeline-core\\\": \\\"1.20.0\\\", \\\"azureml-opendatasets\\\": \\\"1.20.0\\\", \\\"azureml-model-management-sdk\\\": \\\"1.0.1b6.post1\\\", \\\"azureml-mlflow\\\": \\\"1.20.0.post1\\\", \\\"azureml-interpret\\\": \\\"1.20.0\\\", \\\"azureml-explain-model\\\": \\\"1.20.0\\\", \\\"azureml-defaults\\\": \\\"1.20.0\\\", \\\"azureml-dataset-runtime\\\": \\\"1.20.0\\\", \\\"azureml-dataprep\\\": \\\"2.7.3\\\", \\\"azureml-dataprep-rslex\\\": \\\"1.5.0\\\", \\\"azureml-dataprep-native\\\": \\\"27.0.0\\\", \\\"azureml-datadrift\\\": \\\"1.20.0\\\", \\\"azureml-core\\\": \\\"1.20.0\\\", \\\"azureml-contrib-services\\\": \\\"1.20.0\\\", \\\"azureml-contrib-server\\\": \\\"1.20.0\\\", \\\"azureml-contrib-reinforcementlearning\\\": \\\"1.20.0\\\", \\\"azureml-contrib-pipeline-steps\\\": \\\"1.20.0\\\", \\\"azureml-contrib-notebook\\\": \\\"1.20.0\\\", \\\"azureml-contrib-interpret\\\": \\\"1.20.0\\\", \\\"azureml-contrib-gbdt\\\": \\\"1.20.0\\\", \\\"azureml-contrib-fairness\\\": \\\"1.20.0\\\", \\\"azureml-contrib-dataset\\\": \\\"1.20.0\\\", \\\"azureml-cli-common\\\": \\\"1.20.0\\\", \\\"azureml-automl-runtime\\\": \\\"1.20.0\\\", \\\"azureml-automl-core\\\": \\\"1.20.0\\\", \\\"azureml-accel-models\\\": \\\"1.20.0\\\"}\", \"_aml_system_scenario_identification\": \"Remote.Parent\", \"ClientType\": \"SDK\", \"environment_cpu_name\": \"AzureML-AutoML\", \"environment_cpu_label\": \"prod\", \"environment_gpu_name\": \"AzureML-AutoML-GPU\", \"environment_gpu_label\": \"prod\", \"root_attribution\": \"automl\", \"attribution\": \"AutoML\", \"Orchestrator\": \"AutoML\", \"CancelUri\": \"https://southcentralus.experiments.azureml.net/jasmine/v1.0/subscriptions/6b4af8be-9931-443e-90f6-c4c34a1f9737/resourceGroups/aml-quickstarts-138594/providers/Microsoft.MachineLearningServices/workspaces/quick-starts-ws-138594/experimentids/a005ef7a-ad4c-44e9-a450-9544310313f2/cancel/AutoML_1a05dc79-dcc8-4e4f-bb6b-f7065252b6df\", \"ClientSdkVersion\": \"1.21.0\", \"snapshotId\": \"00000000-0000-0000-0000-000000000000\", \"SetupRunId\": \"AutoML_1a05dc79-dcc8-4e4f-bb6b-f7065252b6df_setup\", \"SetupRunContainerId\": \"dcid.AutoML_1a05dc79-dcc8-4e4f-bb6b-f7065252b6df_setup\", \"FeaturizationRunJsonPath\": \"featurizer_container.json\", \"FeaturizationRunId\": \"AutoML_1a05dc79-dcc8-4e4f-bb6b-f7065252b6df_featurize\", \"ProblemInfoJsonString\": \"{\\\"dataset_num_categorical\\\": 0, \\\"is_sparse\\\": false, \\\"subsampling\\\": false, \\\"dataset_classes\\\": 2, \\\"dataset_features\\\": 8, \\\"dataset_samples\\\": 117, \\\"single_frequency_class_detected\\\": false}\", \"ModelExplainRunId\": \"AutoML_1a05dc79-dcc8-4e4f-bb6b-f7065252b6df_ModelExplain\"}, \"tags\": {\"model_explain_run\": \"best_run\", \"_aml_system_azureml.automlComponent\": \"AutoML\", \"pipeline_id\": \"\", \"score\": \"\", \"predicted_cost\": \"\", \"fit_time\": \"\", \"training_percent\": \"\", \"iteration\": \"\", \"run_preprocessor\": \"\", \"run_algorithm\": \"\", \"dynamic_whitelisting_iterations\": \"<25>;<30>;<35>;<40>;\", \"automl_best_child_run_id\": \"AutoML_1a05dc79-dcc8-4e4f-bb6b-f7065252b6df_44\", \"model_explain_best_run_child_id\": \"AutoML_1a05dc79-dcc8-4e4f-bb6b-f7065252b6df_44\"}, \"end_time_utc\": \"2021-02-11T17:40:13.451169Z\", \"status\": \"Completed\", \"log_files\": {}, \"log_groups\": [], \"run_duration\": \"0:24:01\"}, \"child_runs\": [{\"run_id\": \"AutoML_1a05dc79-dcc8-4e4f-bb6b-f7065252b6df_3\", \"run_number\": 5, \"metric\": null, \"status\": \"Completed\", \"run_type\": \"azureml.scriptrun\", \"training_percent\": \"100\", \"start_time\": \"2021-02-11T17:22:19.998753Z\", \"end_time\": \"2021-02-11T17:23:13.56928Z\", \"created_time\": \"2021-02-11T17:22:07.640551Z\", \"created_time_dt\": \"2021-02-11T17:22:07.640551Z\", \"duration\": \"0:01:05\", \"iteration\": \"3\", \"goal\": \"accuracy_max\", \"run_name\": \"MinMaxScaler, RandomForest\", \"run_properties\": \"copy=True, feature_range=(0, 1\", \"primary_metric\": 0.85470085, \"best_metric\": 0.85470085}, {\"run_id\": \"AutoML_1a05dc79-dcc8-4e4f-bb6b-f7065252b6df_0\", \"run_number\": 6, \"metric\": null, \"status\": \"Completed\", \"run_type\": \"azureml.scriptrun\", \"training_percent\": \"100\", \"start_time\": \"2021-02-11T17:24:09.884554Z\", \"end_time\": \"2021-02-11T17:28:08.389342Z\", \"created_time\": \"2021-02-11T17:22:07.647246Z\", \"created_time_dt\": \"2021-02-11T17:22:07.647246Z\", \"duration\": \"0:06:00\", \"iteration\": \"0\", \"goal\": \"accuracy_max\", \"run_name\": \"MaxAbsScaler, LightGBM\", \"run_properties\": \"copy=True\", \"primary_metric\": 0.77777778, \"best_metric\": 0.77777778}, {\"run_id\": \"AutoML_1a05dc79-dcc8-4e4f-bb6b-f7065252b6df_2\", \"run_number\": 7, \"metric\": null, \"status\": \"Completed\", \"run_type\": \"azureml.scriptrun\", \"training_percent\": \"100\", \"start_time\": \"2021-02-11T17:23:20.104198Z\", \"end_time\": \"2021-02-11T17:24:12.151613Z\", \"created_time\": \"2021-02-11T17:22:07.679227Z\", \"created_time_dt\": \"2021-02-11T17:22:07.679227Z\", \"duration\": \"0:02:04\", \"iteration\": \"2\", \"goal\": \"accuracy_max\", \"run_name\": \"MinMaxScaler, RandomForest\", \"run_properties\": \"copy=True, feature_range=(0, 1\", \"primary_metric\": 0.82051282, \"best_metric\": 0.82051282}, {\"run_id\": \"AutoML_1a05dc79-dcc8-4e4f-bb6b-f7065252b6df_1\", \"run_number\": 8, \"metric\": null, \"status\": \"Completed\", \"run_type\": \"azureml.scriptrun\", \"training_percent\": \"100\", \"start_time\": \"2021-02-11T17:24:11.306415Z\", \"end_time\": \"2021-02-11T17:27:47.779544Z\", \"created_time\": \"2021-02-11T17:22:07.697355Z\", \"created_time_dt\": \"2021-02-11T17:22:07.697355Z\", \"duration\": \"0:05:40\", \"iteration\": \"1\", \"goal\": \"accuracy_max\", \"run_name\": \"MaxAbsScaler, XGBoostClassifier\", \"run_properties\": \"copy=True\", \"primary_metric\": 0.8034188, \"best_metric\": 0.8034188}, {\"run_id\": \"AutoML_1a05dc79-dcc8-4e4f-bb6b-f7065252b6df_4\", \"run_number\": 9, \"metric\": null, \"status\": \"Completed\", \"run_type\": \"azureml.scriptrun\", \"training_percent\": \"100\", \"start_time\": \"2021-02-11T17:24:10.946976Z\", \"end_time\": \"2021-02-11T17:28:00.989107Z\", \"created_time\": \"2021-02-11T17:23:17.229872Z\", \"created_time_dt\": \"2021-02-11T17:23:17.229872Z\", \"duration\": \"0:04:43\", \"iteration\": \"4\", \"goal\": \"accuracy_max\", \"run_name\": \"MinMaxScaler, RandomForest\", \"run_properties\": \"copy=True, feature_range=(0, 1\", \"primary_metric\": 0.81196581, \"best_metric\": 0.85470085}, {\"run_id\": \"AutoML_1a05dc79-dcc8-4e4f-bb6b-f7065252b6df_5\", \"run_number\": 10, \"metric\": null, \"status\": \"Completed\", \"run_type\": \"azureml.scriptrun\", \"training_percent\": \"100\", \"start_time\": \"2021-02-11T17:24:27.74505Z\", \"end_time\": \"2021-02-11T17:25:16.88448Z\", \"created_time\": \"2021-02-11T17:24:14.536262Z\", \"created_time_dt\": \"2021-02-11T17:24:14.536262Z\", \"duration\": \"0:01:02\", \"iteration\": \"5\", \"goal\": \"accuracy_max\", \"run_name\": \"MinMaxScaler, SVM\", \"run_properties\": \"copy=True, feature_range=(0, 1\", \"primary_metric\": 0.77777778, \"best_metric\": 0.85470085}, {\"run_id\": \"AutoML_1a05dc79-dcc8-4e4f-bb6b-f7065252b6df_6\", \"run_number\": 11, \"metric\": null, \"status\": \"Completed\", \"run_type\": \"azureml.scriptrun\", \"training_percent\": \"100\", \"start_time\": \"2021-02-11T17:25:32.30861Z\", \"end_time\": \"2021-02-11T17:26:35.669265Z\", \"created_time\": \"2021-02-11T17:25:19.661363Z\", \"created_time_dt\": \"2021-02-11T17:25:19.661363Z\", \"duration\": \"0:01:16\", \"iteration\": \"6\", \"goal\": \"accuracy_max\", \"run_name\": \"MaxAbsScaler, GradientBoosting\", \"run_properties\": \"copy=True\", \"primary_metric\": 0.78632479, \"best_metric\": 0.85470085}, {\"run_id\": \"AutoML_1a05dc79-dcc8-4e4f-bb6b-f7065252b6df_7\", \"run_number\": 12, \"metric\": null, \"status\": \"Completed\", \"run_type\": \"azureml.scriptrun\", \"training_percent\": \"100\", \"start_time\": \"2021-02-11T17:26:50.73643Z\", \"end_time\": \"2021-02-11T17:27:47.285719Z\", \"created_time\": \"2021-02-11T17:26:39.029395Z\", \"created_time_dt\": \"2021-02-11T17:26:39.029395Z\", \"duration\": \"0:01:08\", \"iteration\": \"7\", \"goal\": \"accuracy_max\", \"run_name\": \"SparseNormalizer, LightGBM\", \"run_properties\": \"<azureml.automl.runtime.shared.model_wrappers.SparseNormalizer object at 0x7f82765d8240\", \"primary_metric\": 0.77777778, \"best_metric\": 0.85470085}, {\"run_id\": \"AutoML_1a05dc79-dcc8-4e4f-bb6b-f7065252b6df_8\", \"run_number\": 13, \"metric\": null, \"status\": \"Completed\", \"run_type\": \"azureml.scriptrun\", \"training_percent\": \"100\", \"start_time\": \"2021-02-11T17:28:00.940625Z\", \"end_time\": \"2021-02-11T17:29:02.786213Z\", \"created_time\": \"2021-02-11T17:27:50.306337Z\", \"created_time_dt\": \"2021-02-11T17:27:50.306337Z\", \"duration\": \"0:01:12\", \"iteration\": \"8\", \"goal\": \"accuracy_max\", \"run_name\": \"SparseNormalizer, XGBoostClassifier\", \"run_properties\": \"<azureml.automl.runtime.shared.model_wrappers.SparseNormalizer object at 0x7fef5d328278\", \"primary_metric\": 0.85470085, \"best_metric\": 0.85470085}, {\"run_id\": \"AutoML_1a05dc79-dcc8-4e4f-bb6b-f7065252b6df_9\", \"run_number\": 14, \"metric\": null, \"status\": \"Completed\", \"run_type\": \"azureml.scriptrun\", \"training_percent\": \"100\", \"start_time\": \"2021-02-11T17:28:01.011979Z\", \"end_time\": \"2021-02-11T17:28:56.225291Z\", \"created_time\": \"2021-02-11T17:27:50.318636Z\", \"created_time_dt\": \"2021-02-11T17:27:50.318636Z\", \"duration\": \"0:01:05\", \"iteration\": \"9\", \"goal\": \"accuracy_max\", \"run_name\": \"SparseNormalizer, XGBoostClassifier\", \"run_properties\": \"<azureml.automl.runtime.shared.model_wrappers.SparseNormalizer object at 0x7f24b02f4320\", \"primary_metric\": 0.81196581, \"best_metric\": 0.85470085}, {\"run_id\": \"AutoML_1a05dc79-dcc8-4e4f-bb6b-f7065252b6df_10\", \"run_number\": 15, \"metric\": null, \"status\": \"Completed\", \"run_type\": \"azureml.scriptrun\", \"training_percent\": \"100\", \"start_time\": \"2021-02-11T17:28:15.303808Z\", \"end_time\": \"2021-02-11T17:29:11.003648Z\", \"created_time\": \"2021-02-11T17:28:02.881616Z\", \"created_time_dt\": \"2021-02-11T17:28:02.881616Z\", \"duration\": \"0:01:08\", \"iteration\": \"10\", \"goal\": \"accuracy_max\", \"run_name\": \"StandardScalerWrapper, RandomForest\", \"run_properties\": \"<azureml.automl.runtime.shared.model_wrappers.StandardScalerWrapper object at 0x7f579709deb8\", \"primary_metric\": 0.82051282, \"best_metric\": 0.85470085}, {\"run_id\": \"AutoML_1a05dc79-dcc8-4e4f-bb6b-f7065252b6df_11\", \"run_number\": 16, \"metric\": null, \"status\": \"Completed\", \"run_type\": \"azureml.scriptrun\", \"training_percent\": \"100\", \"start_time\": \"2021-02-11T17:28:21.877984Z\", \"end_time\": \"2021-02-11T17:29:16.698899Z\", \"created_time\": \"2021-02-11T17:28:10.496353Z\", \"created_time_dt\": \"2021-02-11T17:28:10.496353Z\", \"duration\": \"0:01:06\", \"iteration\": \"11\", \"goal\": \"accuracy_max\", \"run_name\": \"RobustScaler, ExtremeRandomTrees\", \"run_properties\": \"copy=True, quantile_range=[25, 75], with_centering=True,\\n             with_scaling=False\", \"primary_metric\": 0.82905983, \"best_metric\": 0.85470085}, {\"run_id\": \"AutoML_1a05dc79-dcc8-4e4f-bb6b-f7065252b6df_12\", \"run_number\": 17, \"metric\": null, \"status\": \"Completed\", \"run_type\": \"azureml.scriptrun\", \"training_percent\": \"100\", \"start_time\": \"2021-02-11T17:29:09.998642Z\", \"end_time\": \"2021-02-11T17:30:00.459784Z\", \"created_time\": \"2021-02-11T17:28:58.091738Z\", \"created_time_dt\": \"2021-02-11T17:28:58.091738Z\", \"duration\": \"0:01:02\", \"iteration\": \"12\", \"goal\": \"accuracy_max\", \"run_name\": \"MinMaxScaler, LightGBM\", \"run_properties\": \"copy=True, feature_range=(0, 1\", \"primary_metric\": 0.82051282, \"best_metric\": 0.85470085}, {\"run_id\": \"AutoML_1a05dc79-dcc8-4e4f-bb6b-f7065252b6df_13\", \"run_number\": 18, \"metric\": null, \"status\": \"Completed\", \"run_type\": \"azureml.scriptrun\", \"training_percent\": \"100\", \"start_time\": \"2021-02-11T17:29:18.418611Z\", \"end_time\": \"2021-02-11T17:30:13.552467Z\", \"created_time\": \"2021-02-11T17:29:04.58086Z\", \"created_time_dt\": \"2021-02-11T17:29:04.58086Z\", \"duration\": \"0:01:08\", \"iteration\": \"13\", \"goal\": \"accuracy_max\", \"run_name\": \"MaxAbsScaler, LightGBM\", \"run_properties\": \"copy=True\", \"primary_metric\": 0.81196581, \"best_metric\": 0.85470085}, {\"run_id\": \"AutoML_1a05dc79-dcc8-4e4f-bb6b-f7065252b6df_14\", \"run_number\": 19, \"metric\": null, \"status\": \"Completed\", \"run_type\": \"azureml.scriptrun\", \"training_percent\": \"100\", \"start_time\": \"2021-02-11T17:29:25.416125Z\", \"end_time\": \"2021-02-11T17:30:17.241375Z\", \"created_time\": \"2021-02-11T17:29:12.923511Z\", \"created_time_dt\": \"2021-02-11T17:29:12.923511Z\", \"duration\": \"0:01:04\", \"iteration\": \"14\", \"goal\": \"accuracy_max\", \"run_name\": \"StandardScalerWrapper, RandomForest\", \"run_properties\": \"<azureml.automl.runtime.shared.model_wrappers.StandardScalerWrapper object at 0x7fdcb56de668\", \"primary_metric\": 0.83760684, \"best_metric\": 0.85470085}, {\"run_id\": \"AutoML_1a05dc79-dcc8-4e4f-bb6b-f7065252b6df_15\", \"run_number\": 20, \"metric\": null, \"status\": \"Completed\", \"run_type\": \"azureml.scriptrun\", \"training_percent\": \"100\", \"start_time\": \"2021-02-11T17:29:30.770205Z\", \"end_time\": \"2021-02-11T17:30:22.738838Z\", \"created_time\": \"2021-02-11T17:29:18.843709Z\", \"created_time_dt\": \"2021-02-11T17:29:18.843709Z\", \"duration\": \"0:01:03\", \"iteration\": \"15\", \"goal\": \"accuracy_max\", \"run_name\": \"StandardScalerWrapper, LightGBM\", \"run_properties\": \"<azureml.automl.runtime.shared.model_wrappers.StandardScalerWrapper object at 0x7f0760c872e8\", \"primary_metric\": 0.84615385, \"best_metric\": 0.85470085}, {\"run_id\": \"AutoML_1a05dc79-dcc8-4e4f-bb6b-f7065252b6df_16\", \"run_number\": 21, \"metric\": null, \"status\": \"Completed\", \"run_type\": \"azureml.scriptrun\", \"training_percent\": \"100\", \"start_time\": \"2021-02-11T17:30:15.08732Z\", \"end_time\": \"2021-02-11T17:31:15.507288Z\", \"created_time\": \"2021-02-11T17:30:02.190819Z\", \"created_time_dt\": \"2021-02-11T17:30:02.190819Z\", \"duration\": \"0:01:13\", \"iteration\": \"16\", \"goal\": \"accuracy_max\", \"run_name\": \"RobustScaler, LightGBM\", \"run_properties\": \"copy=True, quantile_range=[10, 90], with_centering=False,\\n             with_scaling=False\", \"primary_metric\": 0.82905983, \"best_metric\": 0.85470085}, {\"run_id\": \"AutoML_1a05dc79-dcc8-4e4f-bb6b-f7065252b6df_17\", \"run_number\": 22, \"metric\": null, \"status\": \"Completed\", \"run_type\": \"azureml.scriptrun\", \"training_percent\": \"100\", \"start_time\": \"2021-02-11T17:30:27.621991Z\", \"end_time\": \"2021-02-11T17:31:24.436835Z\", \"created_time\": \"2021-02-11T17:30:15.601621Z\", \"created_time_dt\": \"2021-02-11T17:30:15.601621Z\", \"duration\": \"0:01:08\", \"iteration\": \"17\", \"goal\": \"accuracy_max\", \"run_name\": \"MinMaxScaler, LightGBM\", \"run_properties\": \"copy=True, feature_range=(0, 1\", \"primary_metric\": 0.83760684, \"best_metric\": 0.85470085}, {\"run_id\": \"AutoML_1a05dc79-dcc8-4e4f-bb6b-f7065252b6df_18\", \"run_number\": 23, \"metric\": null, \"status\": \"Completed\", \"run_type\": \"azureml.scriptrun\", \"training_percent\": \"100\", \"start_time\": \"2021-02-11T17:30:32.687373Z\", \"end_time\": \"2021-02-11T17:31:17.523816Z\", \"created_time\": \"2021-02-11T17:30:19.199836Z\", \"created_time_dt\": \"2021-02-11T17:30:19.199836Z\", \"duration\": \"0:00:58\", \"iteration\": \"18\", \"goal\": \"accuracy_max\", \"run_name\": \"SparseNormalizer, LightGBM\", \"run_properties\": \"<azureml.automl.runtime.shared.model_wrappers.SparseNormalizer object at 0x7efc14a8f1d0\", \"primary_metric\": 0.83760684, \"best_metric\": 0.85470085}, {\"run_id\": \"AutoML_1a05dc79-dcc8-4e4f-bb6b-f7065252b6df_19\", \"run_number\": 24, \"metric\": null, \"status\": \"Completed\", \"run_type\": \"azureml.scriptrun\", \"training_percent\": \"100\", \"start_time\": \"2021-02-11T17:30:34.982204Z\", \"end_time\": \"2021-02-11T17:31:25.450113Z\", \"created_time\": \"2021-02-11T17:30:24.969915Z\", \"created_time_dt\": \"2021-02-11T17:30:24.969915Z\", \"duration\": \"0:01:00\", \"iteration\": \"19\", \"goal\": \"accuracy_max\", \"run_name\": \"RobustScaler, LightGBM\", \"run_properties\": \"copy=True, quantile_range=[25, 75], with_centering=False,\\n             with_scaling=False\", \"primary_metric\": 0.81196581, \"best_metric\": 0.85470085}, {\"run_id\": \"AutoML_1a05dc79-dcc8-4e4f-bb6b-f7065252b6df_20\", \"run_number\": 25, \"metric\": null, \"status\": \"Completed\", \"run_type\": \"azureml.scriptrun\", \"training_percent\": \"100\", \"start_time\": \"2021-02-11T17:31:27.955962Z\", \"end_time\": \"2021-02-11T17:32:21.319574Z\", \"created_time\": \"2021-02-11T17:31:17.155696Z\", \"created_time_dt\": \"2021-02-11T17:31:17.155696Z\", \"duration\": \"0:01:04\", \"iteration\": \"20\", \"goal\": \"accuracy_max\", \"run_name\": \"StandardScalerWrapper, RandomForest\", \"run_properties\": \"<azureml.automl.runtime.shared.model_wrappers.StandardScalerWrapper object at 0x7f148c1b9550\", \"primary_metric\": 0.84615385, \"best_metric\": 0.85470085}, {\"run_id\": \"AutoML_1a05dc79-dcc8-4e4f-bb6b-f7065252b6df_21\", \"run_number\": 26, \"metric\": null, \"status\": \"Completed\", \"run_type\": \"azureml.scriptrun\", \"training_percent\": \"100\", \"start_time\": \"2021-02-11T17:31:31.03461Z\", \"end_time\": \"2021-02-11T17:32:24.400257Z\", \"created_time\": \"2021-02-11T17:31:20.913471Z\", \"created_time_dt\": \"2021-02-11T17:31:20.913471Z\", \"duration\": \"0:01:03\", \"iteration\": \"21\", \"goal\": \"accuracy_max\", \"run_name\": \"StandardScalerWrapper, LightGBM\", \"run_properties\": \"<azureml.automl.runtime.shared.model_wrappers.StandardScalerWrapper object at 0x7f29307319b0\", \"primary_metric\": 0.84615385, \"best_metric\": 0.85470085}, {\"run_id\": \"AutoML_1a05dc79-dcc8-4e4f-bb6b-f7065252b6df_22\", \"run_number\": 27, \"metric\": null, \"status\": \"Completed\", \"run_type\": \"azureml.scriptrun\", \"training_percent\": \"100\", \"start_time\": \"2021-02-11T17:31:36.702222Z\", \"end_time\": \"2021-02-11T17:32:27.144366Z\", \"created_time\": \"2021-02-11T17:31:26.652071Z\", \"created_time_dt\": \"2021-02-11T17:31:26.652071Z\", \"duration\": \"0:01:00\", \"iteration\": \"22\", \"goal\": \"accuracy_max\", \"run_name\": \"MaxAbsScaler, LightGBM\", \"run_properties\": \"copy=True\", \"primary_metric\": 0.82051282, \"best_metric\": 0.85470085}, {\"run_id\": \"AutoML_1a05dc79-dcc8-4e4f-bb6b-f7065252b6df_23\", \"run_number\": 28, \"metric\": null, \"status\": \"Completed\", \"run_type\": \"azureml.scriptrun\", \"training_percent\": \"100\", \"start_time\": \"2021-02-11T17:31:43.949217Z\", \"end_time\": \"2021-02-11T17:32:39.800761Z\", \"created_time\": \"2021-02-11T17:31:29.60758Z\", \"created_time_dt\": \"2021-02-11T17:31:29.60758Z\", \"duration\": \"0:01:10\", \"iteration\": \"23\", \"goal\": \"accuracy_max\", \"run_name\": \"SparseNormalizer, XGBoostClassifier\", \"run_properties\": \"<azureml.automl.runtime.shared.model_wrappers.SparseNormalizer object at 0x7fdd3c5893c8\", \"primary_metric\": 0.85470085, \"best_metric\": 0.85470085}, {\"run_id\": \"AutoML_1a05dc79-dcc8-4e4f-bb6b-f7065252b6df_24\", \"run_number\": 29, \"metric\": null, \"status\": \"Completed\", \"run_type\": \"azureml.scriptrun\", \"training_percent\": \"100\", \"start_time\": \"2021-02-11T17:32:33.707166Z\", \"end_time\": \"2021-02-11T17:33:24.617707Z\", \"created_time\": \"2021-02-11T17:32:23.376078Z\", \"created_time_dt\": \"2021-02-11T17:32:23.376078Z\", \"duration\": \"0:01:01\", \"iteration\": \"24\", \"goal\": \"accuracy_max\", \"run_name\": \"MinMaxScaler, LightGBM\", \"run_properties\": \"copy=True, feature_range=(0, 1\", \"primary_metric\": 0.82051282, \"best_metric\": 0.85470085}, {\"run_id\": \"AutoML_1a05dc79-dcc8-4e4f-bb6b-f7065252b6df_25\", \"run_number\": 30, \"metric\": null, \"status\": \"Completed\", \"run_type\": \"azureml.scriptrun\", \"training_percent\": \"100\", \"start_time\": \"2021-02-11T17:32:37.500043Z\", \"end_time\": \"2021-02-11T17:33:30.978821Z\", \"created_time\": \"2021-02-11T17:32:27.522532Z\", \"created_time_dt\": \"2021-02-11T17:32:27.522532Z\", \"duration\": \"0:01:03\", \"iteration\": \"25\", \"goal\": \"accuracy_max\", \"run_name\": \"StandardScalerWrapper, RandomForest\", \"run_properties\": \"<azureml.automl.runtime.shared.model_wrappers.StandardScalerWrapper object at 0x7fb513f85d30\", \"primary_metric\": 0.66666667, \"best_metric\": 0.85470085}, {\"run_id\": \"AutoML_1a05dc79-dcc8-4e4f-bb6b-f7065252b6df_26\", \"run_number\": 31, \"metric\": null, \"status\": \"Completed\", \"run_type\": \"azureml.scriptrun\", \"training_percent\": \"100\", \"start_time\": \"2021-02-11T17:32:40.847594Z\", \"end_time\": \"2021-02-11T17:33:34.230081Z\", \"created_time\": \"2021-02-11T17:32:30.6078Z\", \"created_time_dt\": \"2021-02-11T17:32:30.6078Z\", \"duration\": \"0:01:03\", \"iteration\": \"26\", \"goal\": \"accuracy_max\", \"run_name\": \"StandardScalerWrapper, XGBoostClassifier\", \"run_properties\": \"<azureml.automl.runtime.shared.model_wrappers.StandardScalerWrapper object at 0x7fe3509d49b0\", \"primary_metric\": 0.82905983, \"best_metric\": 0.85470085}, {\"run_id\": \"AutoML_1a05dc79-dcc8-4e4f-bb6b-f7065252b6df_27\", \"run_number\": 32, \"metric\": null, \"status\": \"Completed\", \"run_type\": \"azureml.scriptrun\", \"training_percent\": \"100\", \"start_time\": \"2021-02-11T17:32:59.063285Z\", \"end_time\": \"2021-02-11T17:33:54.332631Z\", \"created_time\": \"2021-02-11T17:32:42.379756Z\", \"created_time_dt\": \"2021-02-11T17:32:42.379756Z\", \"duration\": \"0:01:11\", \"iteration\": \"27\", \"goal\": \"accuracy_max\", \"run_name\": \"StandardScalerWrapper, ExtremeRandomTrees\", \"run_properties\": \"<azureml.automl.runtime.shared.model_wrappers.StandardScalerWrapper object at 0x7f373928dcf8\", \"primary_metric\": 0.88034188, \"best_metric\": 0.88034188}, {\"run_id\": \"AutoML_1a05dc79-dcc8-4e4f-bb6b-f7065252b6df_28\", \"run_number\": 33, \"metric\": null, \"status\": \"Completed\", \"run_type\": \"azureml.scriptrun\", \"training_percent\": \"100\", \"start_time\": \"2021-02-11T17:33:37.228741Z\", \"end_time\": \"2021-02-11T17:34:44.024744Z\", \"created_time\": \"2021-02-11T17:33:26.957317Z\", \"created_time_dt\": \"2021-02-11T17:33:26.957317Z\", \"duration\": \"0:01:17\", \"iteration\": \"28\", \"goal\": \"accuracy_max\", \"run_name\": \"RobustScaler, RandomForest\", \"run_properties\": \"copy=True, quantile_range=[10, 90], with_centering=True,\\n             with_scaling=False\", \"primary_metric\": 0.83760684, \"best_metric\": 0.88034188}, {\"run_id\": \"AutoML_1a05dc79-dcc8-4e4f-bb6b-f7065252b6df_29\", \"run_number\": 34, \"metric\": null, \"status\": \"Completed\", \"run_type\": \"azureml.scriptrun\", \"training_percent\": \"100\", \"start_time\": \"2021-02-11T17:33:46.050786Z\", \"end_time\": \"2021-02-11T17:34:44.540913Z\", \"created_time\": \"2021-02-11T17:33:33.382738Z\", \"created_time_dt\": \"2021-02-11T17:33:33.382738Z\", \"duration\": \"0:01:11\", \"iteration\": \"29\", \"goal\": \"accuracy_max\", \"run_name\": \"MaxAbsScaler, ExtremeRandomTrees\", \"run_properties\": \"copy=True\", \"primary_metric\": 0.79487179, \"best_metric\": 0.88034188}, {\"run_id\": \"AutoML_1a05dc79-dcc8-4e4f-bb6b-f7065252b6df_30\", \"run_number\": 35, \"metric\": null, \"status\": \"Completed\", \"run_type\": \"azureml.scriptrun\", \"training_percent\": \"100\", \"start_time\": \"2021-02-11T17:33:50.856546Z\", \"end_time\": \"2021-02-11T17:34:41.743812Z\", \"created_time\": \"2021-02-11T17:33:38.480607Z\", \"created_time_dt\": \"2021-02-11T17:33:38.480607Z\", \"duration\": \"0:01:03\", \"iteration\": \"30\", \"goal\": \"accuracy_max\", \"run_name\": \"SparseNormalizer, RandomForest\", \"run_properties\": \"<azureml.automl.runtime.shared.model_wrappers.SparseNormalizer object at 0x7f0a6e2b8390\", \"primary_metric\": 0.71794872, \"best_metric\": 0.88034188}, {\"run_id\": \"AutoML_1a05dc79-dcc8-4e4f-bb6b-f7065252b6df_31\", \"run_number\": 36, \"metric\": null, \"status\": \"Completed\", \"run_type\": \"azureml.scriptrun\", \"training_percent\": \"100\", \"start_time\": \"2021-02-11T17:34:09.897933Z\", \"end_time\": \"2021-02-11T17:34:56.470304Z\", \"created_time\": \"2021-02-11T17:33:56.049606Z\", \"created_time_dt\": \"2021-02-11T17:33:56.049606Z\", \"duration\": \"0:01:00\", \"iteration\": \"31\", \"goal\": \"accuracy_max\", \"run_name\": \"MinMaxScaler, LightGBM\", \"run_properties\": \"copy=True, feature_range=(0, 1\", \"primary_metric\": 0.81196581, \"best_metric\": 0.88034188}, {\"run_id\": \"AutoML_1a05dc79-dcc8-4e4f-bb6b-f7065252b6df_32\", \"run_number\": 37, \"metric\": null, \"status\": \"Completed\", \"run_type\": \"azureml.scriptrun\", \"training_percent\": \"100\", \"start_time\": \"2021-02-11T17:34:55.869492Z\", \"end_time\": \"2021-02-11T17:35:47.79794Z\", \"created_time\": \"2021-02-11T17:34:43.733557Z\", \"created_time_dt\": \"2021-02-11T17:34:43.733557Z\", \"duration\": \"0:01:04\", \"iteration\": \"32\", \"goal\": \"accuracy_max\", \"run_name\": \"MinMaxScaler, LogisticRegression\", \"run_properties\": \"copy=True, feature_range=(0, 1\", \"primary_metric\": 0.81196581, \"best_metric\": 0.88034188}, {\"run_id\": \"AutoML_1a05dc79-dcc8-4e4f-bb6b-f7065252b6df_34\", \"run_number\": 38, \"metric\": null, \"status\": \"Completed\", \"run_type\": \"azureml.scriptrun\", \"training_percent\": \"100\", \"start_time\": \"2021-02-11T17:35:01.794843Z\", \"end_time\": \"2021-02-11T17:35:50.837998Z\", \"created_time\": \"2021-02-11T17:34:48.424062Z\", \"created_time_dt\": \"2021-02-11T17:34:48.424062Z\", \"duration\": \"0:01:02\", \"iteration\": \"34\", \"goal\": \"accuracy_max\", \"run_name\": \"StandardScalerWrapper, XGBoostClassifier\", \"run_properties\": \"<azureml.automl.runtime.shared.model_wrappers.StandardScalerWrapper object at 0x7fa205ddc2e8\", \"primary_metric\": 0.83760684, \"best_metric\": 0.88034188}, {\"run_id\": \"AutoML_1a05dc79-dcc8-4e4f-bb6b-f7065252b6df_33\", \"run_number\": 39, \"metric\": null, \"status\": \"Completed\", \"run_type\": \"azureml.scriptrun\", \"training_percent\": \"100\", \"start_time\": \"2021-02-11T17:34:59.196662Z\", \"end_time\": \"2021-02-11T17:35:52.719601Z\", \"created_time\": \"2021-02-11T17:34:48.58999Z\", \"created_time_dt\": \"2021-02-11T17:34:48.58999Z\", \"duration\": \"0:01:04\", \"iteration\": \"33\", \"goal\": \"accuracy_max\", \"run_name\": \"StandardScalerWrapper, XGBoostClassifier\", \"run_properties\": \"<azureml.automl.runtime.shared.model_wrappers.StandardScalerWrapper object at 0x7f953365d908\", \"primary_metric\": 0.82051282, \"best_metric\": 0.88034188}, {\"run_id\": \"AutoML_1a05dc79-dcc8-4e4f-bb6b-f7065252b6df_35\", \"run_number\": 40, \"metric\": null, \"status\": \"Completed\", \"run_type\": \"azureml.scriptrun\", \"training_percent\": \"100\", \"start_time\": \"2021-02-11T17:35:11.807637Z\", \"end_time\": \"2021-02-11T17:36:02.41754Z\", \"created_time\": \"2021-02-11T17:35:00.278627Z\", \"created_time_dt\": \"2021-02-11T17:35:00.278627Z\", \"duration\": \"0:01:02\", \"iteration\": \"35\", \"goal\": \"accuracy_max\", \"run_name\": \"RobustScaler, ExtremeRandomTrees\", \"run_properties\": \"copy=True, quantile_range=[25, 75], with_centering=False,\\n             with_scaling=False\", \"primary_metric\": 0.87179487, \"best_metric\": 0.88034188}, {\"run_id\": \"AutoML_1a05dc79-dcc8-4e4f-bb6b-f7065252b6df_36\", \"run_number\": 41, \"metric\": null, \"status\": \"Completed\", \"run_type\": \"azureml.scriptrun\", \"training_percent\": \"100\", \"start_time\": \"2021-02-11T17:36:03.088427Z\", \"end_time\": \"2021-02-11T17:36:56.416462Z\", \"created_time\": \"2021-02-11T17:35:50.087771Z\", \"created_time_dt\": \"2021-02-11T17:35:50.087771Z\", \"duration\": \"0:01:06\", \"iteration\": \"36\", \"goal\": \"accuracy_max\", \"run_name\": \"StandardScalerWrapper, LightGBM\", \"run_properties\": \"<azureml.automl.runtime.shared.model_wrappers.StandardScalerWrapper object at 0x7f36652e2c88\", \"primary_metric\": 0.84615385, \"best_metric\": 0.88034188}, {\"run_id\": \"AutoML_1a05dc79-dcc8-4e4f-bb6b-f7065252b6df_37\", \"run_number\": 42, \"metric\": null, \"status\": \"Completed\", \"run_type\": \"azureml.scriptrun\", \"training_percent\": \"100\", \"start_time\": \"2021-02-11T17:36:05.642408Z\", \"end_time\": \"2021-02-11T17:36:51.305541Z\", \"created_time\": \"2021-02-11T17:35:53.683583Z\", \"created_time_dt\": \"2021-02-11T17:35:53.683583Z\", \"duration\": \"0:00:57\", \"iteration\": \"37\", \"goal\": \"accuracy_max\", \"run_name\": \"StandardScalerWrapper, XGBoostClassifier\", \"run_properties\": \"<azureml.automl.runtime.shared.model_wrappers.StandardScalerWrapper object at 0x7f778c4ef860\", \"primary_metric\": 0.81196581, \"best_metric\": 0.88034188}, {\"run_id\": \"AutoML_1a05dc79-dcc8-4e4f-bb6b-f7065252b6df_38\", \"run_number\": 43, \"metric\": null, \"status\": \"Completed\", \"run_type\": \"azureml.scriptrun\", \"training_percent\": \"100\", \"start_time\": \"2021-02-11T17:36:09.307864Z\", \"end_time\": \"2021-02-11T17:36:57.64138Z\", \"created_time\": \"2021-02-11T17:35:58.005521Z\", \"created_time_dt\": \"2021-02-11T17:35:58.005521Z\", \"duration\": \"0:00:59\", \"iteration\": \"38\", \"goal\": \"accuracy_max\", \"run_name\": \"StandardScalerWrapper, LightGBM\", \"run_properties\": \"<azureml.automl.runtime.shared.model_wrappers.StandardScalerWrapper object at 0x7f039478b048\", \"primary_metric\": 0.84615385, \"best_metric\": 0.88034188}, {\"run_id\": \"AutoML_1a05dc79-dcc8-4e4f-bb6b-f7065252b6df_39\", \"run_number\": 44, \"metric\": null, \"status\": \"Completed\", \"run_type\": \"azureml.scriptrun\", \"training_percent\": \"100\", \"start_time\": \"2021-02-11T17:36:14.875252Z\", \"end_time\": \"2021-02-11T17:37:06.900523Z\", \"created_time\": \"2021-02-11T17:36:04.098266Z\", \"created_time_dt\": \"2021-02-11T17:36:04.098266Z\", \"duration\": \"0:01:02\", \"iteration\": \"39\", \"goal\": \"accuracy_max\", \"run_name\": \"StandardScalerWrapper, LightGBM\", \"run_properties\": \"<azureml.automl.runtime.shared.model_wrappers.StandardScalerWrapper object at 0x7fd8187a0be0\", \"primary_metric\": 0.82905983, \"best_metric\": 0.88034188}, {\"run_id\": \"AutoML_1a05dc79-dcc8-4e4f-bb6b-f7065252b6df_40\", \"run_number\": 45, \"metric\": null, \"status\": \"Canceled\", \"run_type\": \"azureml.scriptrun\", \"training_percent\": \"100\", \"start_time\": \"2021-02-11T17:37:04.604517Z\", \"end_time\": \"2021-02-11T17:38:09.998426Z\", \"created_time\": \"2021-02-11T17:36:54.02201Z\", \"created_time_dt\": \"2021-02-11T17:36:54.02201Z\", \"duration\": \"0:01:15\", \"iteration\": \"40\", \"goal\": \"accuracy_max\", \"run_name\": \"StandardScalerWrapper, ExtremeRandomTrees\", \"run_properties\": \"<azureml.automl.runtime.shared.model_wrappers.StandardScalerWrapper object at 0x7fb89c732d68\", \"primary_metric\": 0.84615385, \"best_metric\": 0.88034188}, {\"run_id\": \"AutoML_1a05dc79-dcc8-4e4f-bb6b-f7065252b6df_41\", \"run_number\": 46, \"metric\": null, \"status\": \"Completed\", \"run_type\": \"azureml.scriptrun\", \"training_percent\": \"100\", \"start_time\": \"2021-02-11T17:37:08.401244Z\", \"end_time\": \"2021-02-11T17:38:01.977791Z\", \"created_time\": \"2021-02-11T17:36:58.11774Z\", \"created_time_dt\": \"2021-02-11T17:36:58.11774Z\", \"duration\": \"0:01:03\", \"iteration\": \"41\", \"goal\": \"accuracy_max\", \"run_name\": \"MaxAbsScaler, RandomForest\", \"run_properties\": \"copy=True\", \"primary_metric\": 0.81196581, \"best_metric\": 0.88034188}, {\"run_id\": \"AutoML_1a05dc79-dcc8-4e4f-bb6b-f7065252b6df_42\", \"run_number\": 47, \"metric\": null, \"status\": \"Canceled\", \"run_type\": \"azureml.scriptrun\", \"training_percent\": \"100\", \"start_time\": \"2021-02-11T17:37:12.788672Z\", \"end_time\": \"2021-02-11T17:38:12.211035Z\", \"created_time\": \"2021-02-11T17:37:01.215392Z\", \"created_time_dt\": \"2021-02-11T17:37:01.215392Z\", \"duration\": \"0:01:10\", \"iteration\": \"42\", \"goal\": \"accuracy_max\", \"run_name\": \"StandardScalerWrapper, ExtremeRandomTrees\", \"run_properties\": \"<azureml.automl.runtime.shared.model_wrappers.StandardScalerWrapper object at 0x7f9765aeed30\", \"primary_metric\": 0.85470085, \"best_metric\": 0.88034188}, {\"run_id\": \"AutoML_1a05dc79-dcc8-4e4f-bb6b-f7065252b6df_43\", \"run_number\": 48, \"metric\": null, \"status\": \"Canceled\", \"run_type\": \"azureml.scriptrun\", \"training_percent\": \"100\", \"start_time\": \"2021-02-11T17:37:21.57123Z\", \"end_time\": \"2021-02-11T17:38:10.678225Z\", \"created_time\": \"2021-02-11T17:37:08.99747Z\", \"created_time_dt\": \"2021-02-11T17:37:08.99747Z\", \"duration\": \"0:01:01\", \"iteration\": \"43\", \"goal\": \"accuracy_max\", \"run_name\": \"MinMaxScaler, RandomForest\", \"run_properties\": \"copy=True, feature_range=(0, 1\", \"primary_metric\": 0.82051282, \"best_metric\": 0.88034188}, {\"run_id\": \"AutoML_1a05dc79-dcc8-4e4f-bb6b-f7065252b6df_45\", \"run_number\": 49, \"metric\": null, \"status\": \"Completed\", \"run_type\": \"azureml.scriptrun\", \"training_percent\": \"100\", \"start_time\": \"2021-02-11T17:38:28.312478Z\", \"end_time\": \"2021-02-11T17:40:00.944959Z\", \"created_time\": \"2021-02-11T17:38:14.681199Z\", \"created_time_dt\": \"2021-02-11T17:38:14.681199Z\", \"duration\": \"0:01:46\", \"iteration\": \"45\", \"goal\": \"accuracy_max\", \"run_name\": \"StackEnsemble\", \"run_properties\": \"base_learners=[('27',\\n                                        Pipeline(memory=None,\\n                                                 steps=[('standardscalerwrapper',\\n                                                         <azureml.automl.runtime.shared.model_wrappers.StandardScalerWrapper object at 0x7f48ce0dd8d0>\", \"primary_metric\": 0.88888889, \"best_metric\": 0.91452991}, {\"run_id\": \"AutoML_1a05dc79-dcc8-4e4f-bb6b-f7065252b6df_44\", \"run_number\": 50, \"metric\": null, \"status\": \"Completed\", \"run_type\": \"azureml.scriptrun\", \"training_percent\": \"100\", \"start_time\": \"2021-02-11T17:38:27.816835Z\", \"end_time\": \"2021-02-11T17:40:03.214232Z\", \"created_time\": \"2021-02-11T17:38:14.694743Z\", \"created_time_dt\": \"2021-02-11T17:38:14.694743Z\", \"duration\": \"0:01:48\", \"iteration\": \"44\", \"goal\": \"accuracy_max\", \"run_name\": \"VotingEnsemble\", \"run_properties\": \"classification_labels=None,\\n                              estimators=[('27',\\n                                           Pipeline(memory=None,\\n                                                    steps=[('standardscalerwrapper',\\n                                                            <azureml.automl.runtime.shared.model_wrappers.StandardScalerWrapper object at 0x7f5c543f40f0>\", \"primary_metric\": 0.91452991, \"best_metric\": 0.91452991}], \"children_metrics\": {\"categories\": [0], \"series\": {\"AUC_weighted\": [{\"categories\": [\"0\", \"1\", \"2\", \"3\", \"4\", \"5\", \"6\", \"7\", \"8\", \"9\", \"10\", \"11\", \"12\", \"13\", \"14\", \"15\", \"16\", \"17\", \"18\", \"19\", \"20\", \"21\", \"22\", \"23\", \"24\", \"25\", \"26\", \"27\", \"28\", \"29\", \"30\", \"31\", \"32\", \"33\", \"34\", \"35\", \"36\", \"37\", \"38\", \"39\", \"40\", \"41\", \"42\", \"43\", \"44\", \"45\"], \"mode\": \"markers\", \"name\": \"AUC_weighted\", \"stepped\": false, \"type\": \"scatter\", \"data\": [0.848578726509761, 0.8460682357234081, 0.9064910600255428, 0.9051418536763366, 0.8817898193760262, 0.8202517788724686, 0.8812205801860974, 0.872271483305966, 0.9049261083743843, 0.8767241379310344, 0.8907836161284438, 0.9213638022258713, 0.8808538587848932, 0.8300748038679071, 0.8837648239372378, 0.852787812442985, 0.8984295748950922, 0.8901331873745667, 0.9153794927932859, 0.8595411421273491, 0.9065590220762635, 0.8955391351943075, 0.8909104178069697, 0.8928945447910966, 0.8729656996898375, 0.906725050173326, 0.8799261083743843, 0.9352946542601716, 0.9003867907316182, 0.9239390622149243, 0.7463227513227513, 0.8728886152162015, 0.9232421091041781, 0.8848836891078271, 0.8941497901842729, 0.9145201605546434, 0.8895174238277687, 0.8854761904761904, 0.8918577814267471, 0.8778790366721401, 0.9109268381682174, 0.8937360532188118, 0.9126801678525817, 0.9035458857872651, 0.9256203247582558, 0.9255938697318008]}, {\"categories\": [\"0\", \"1\", \"2\", \"3\", \"4\", \"5\", \"6\", \"7\", \"8\", \"9\", \"10\", \"11\", \"12\", \"13\", \"14\", \"15\", \"16\", \"17\", \"18\", \"19\", \"20\", \"21\", \"22\", \"23\", \"24\", \"25\", \"26\", \"27\", \"28\", \"29\", \"30\", \"31\", \"32\", \"33\", \"34\", \"35\", \"36\", \"37\", \"38\", \"39\", \"40\", \"41\", \"42\", \"43\", \"44\", \"45\"], \"mode\": \"lines\", \"name\": \"AUC_weighted_max\", \"stepped\": true, \"type\": \"scatter\", \"data\": [0.848578726509761, 0.848578726509761, 0.9064910600255428, 0.9064910600255428, 0.9064910600255428, 0.9064910600255428, 0.9064910600255428, 0.9064910600255428, 0.9064910600255428, 0.9064910600255428, 0.9064910600255428, 0.9213638022258713, 0.9213638022258713, 0.9213638022258713, 0.9213638022258713, 0.9213638022258713, 0.9213638022258713, 0.9213638022258713, 0.9213638022258713, 0.9213638022258713, 0.9213638022258713, 0.9213638022258713, 0.9213638022258713, 0.9213638022258713, 0.9213638022258713, 0.9213638022258713, 0.9213638022258713, 0.9352946542601716, 0.9352946542601716, 0.9352946542601716, 0.9352946542601716, 0.9352946542601716, 0.9352946542601716, 0.9352946542601716, 0.9352946542601716, 0.9352946542601716, 0.9352946542601716, 0.9352946542601716, 0.9352946542601716, 0.9352946542601716, 0.9352946542601716, 0.9352946542601716, 0.9352946542601716, 0.9352946542601716, 0.9352946542601716, 0.9352946542601716]}], \"precision_score_micro\": [{\"categories\": [\"0\", \"1\", \"2\", \"3\", \"4\", \"5\", \"6\", \"7\", \"8\", \"9\", \"10\", \"11\", \"12\", \"13\", \"14\", \"15\", \"16\", \"17\", \"18\", \"19\", \"20\", \"21\", \"22\", \"23\", \"24\", \"25\", \"26\", \"27\", \"28\", \"29\", \"30\", \"31\", \"32\", \"33\", \"34\", \"35\", \"36\", \"37\", \"38\", \"39\", \"40\", \"41\", \"42\", \"43\", \"44\", \"45\"], \"mode\": \"markers\", \"name\": \"precision_score_micro\", \"stepped\": false, \"type\": \"scatter\", \"data\": [0.7777777777777778, 0.8034188034188033, 0.8205128205128206, 0.8547008547008548, 0.8119658119658119, 0.7777777777777777, 0.7863247863247863, 0.7777777777777777, 0.8547008547008547, 0.8119658119658121, 0.8205128205128206, 0.8290598290598291, 0.8205128205128206, 0.8119658119658121, 0.8376068376068376, 0.8461538461538461, 0.8290598290598291, 0.8376068376068376, 0.8376068376068376, 0.8119658119658121, 0.8461538461538461, 0.8461538461538461, 0.8205128205128204, 0.8547008547008547, 0.8205128205128206, 0.6666666666666666, 0.8290598290598291, 0.8803418803418804, 0.8376068376068376, 0.7948717948717948, 0.717948717948718, 0.8119658119658121, 0.8119658119658119, 0.8205128205128206, 0.8376068376068376, 0.8717948717948718, 0.8461538461538461, 0.8119658119658119, 0.8461538461538461, 0.8290598290598291, 0.8461538461538461, 0.8119658119658119, 0.8547008547008547, 0.8205128205128204, 0.9145299145299145, 0.888888888888889]}, {\"categories\": [\"0\", \"1\", \"2\", \"3\", \"4\", \"5\", \"6\", \"7\", \"8\", \"9\", \"10\", \"11\", \"12\", \"13\", \"14\", \"15\", \"16\", \"17\", \"18\", \"19\", \"20\", \"21\", \"22\", \"23\", \"24\", \"25\", \"26\", \"27\", \"28\", \"29\", \"30\", \"31\", \"32\", \"33\", \"34\", \"35\", \"36\", \"37\", \"38\", \"39\", \"40\", \"41\", \"42\", \"43\", \"44\", \"45\"], \"mode\": \"lines\", \"name\": \"precision_score_micro_max\", \"stepped\": true, \"type\": \"scatter\", \"data\": [0.7777777777777778, 0.8034188034188033, 0.8205128205128206, 0.8547008547008548, 0.8547008547008548, 0.8547008547008548, 0.8547008547008548, 0.8547008547008548, 0.8547008547008548, 0.8547008547008548, 0.8547008547008548, 0.8547008547008548, 0.8547008547008548, 0.8547008547008548, 0.8547008547008548, 0.8547008547008548, 0.8547008547008548, 0.8547008547008548, 0.8547008547008548, 0.8547008547008548, 0.8547008547008548, 0.8547008547008548, 0.8547008547008548, 0.8547008547008548, 0.8547008547008548, 0.8547008547008548, 0.8547008547008548, 0.8803418803418804, 0.8803418803418804, 0.8803418803418804, 0.8803418803418804, 0.8803418803418804, 0.8803418803418804, 0.8803418803418804, 0.8803418803418804, 0.8803418803418804, 0.8803418803418804, 0.8803418803418804, 0.8803418803418804, 0.8803418803418804, 0.8803418803418804, 0.8803418803418804, 0.8803418803418804, 0.8803418803418804, 0.9145299145299145, 0.9145299145299145]}], \"AUC_macro\": [{\"categories\": [\"0\", \"1\", \"2\", \"3\", \"4\", \"5\", \"6\", \"7\", \"8\", \"9\", \"10\", \"11\", \"12\", \"13\", \"14\", \"15\", \"16\", \"17\", \"18\", \"19\", \"20\", \"21\", \"22\", \"23\", \"24\", \"25\", \"26\", \"27\", \"28\", \"29\", \"30\", \"31\", \"32\", \"33\", \"34\", \"35\", \"36\", \"37\", \"38\", \"39\", \"40\", \"41\", \"42\", \"43\", \"44\", \"45\"], \"mode\": \"markers\", \"name\": \"AUC_macro\", \"stepped\": false, \"type\": \"scatter\", \"data\": [0.848578726509761, 0.8460682357234081, 0.9064910600255428, 0.9051418536763364, 0.8817898193760262, 0.8202517788724686, 0.8812205801860974, 0.872271483305966, 0.9049261083743844, 0.8767241379310344, 0.8907836161284438, 0.9213638022258713, 0.8808538587848932, 0.8300748038679074, 0.8837648239372378, 0.852787812442985, 0.8984295748950922, 0.8901331873745667, 0.9153794927932859, 0.8595411421273491, 0.9065590220762635, 0.8955391351943076, 0.8909104178069694, 0.8928945447910964, 0.8729656996898375, 0.906725050173326, 0.8799261083743843, 0.9352946542601716, 0.9003867907316184, 0.9239390622149243, 0.7463227513227513, 0.8728886152162015, 0.9232421091041779, 0.8848836891078271, 0.8941497901842729, 0.9145201605546432, 0.8895174238277687, 0.8854761904761904, 0.8918577814267469, 0.8778790366721401, 0.9109268381682174, 0.8934674329501915, 0.9126801678525817, 0.9035458857872651, 0.9256203247582558, 0.9255938697318008]}, {\"categories\": [\"0\", \"1\", \"2\", \"3\", \"4\", \"5\", \"6\", \"7\", \"8\", \"9\", \"10\", \"11\", \"12\", \"13\", \"14\", \"15\", \"16\", \"17\", \"18\", \"19\", \"20\", \"21\", \"22\", \"23\", \"24\", \"25\", \"26\", \"27\", \"28\", \"29\", \"30\", \"31\", \"32\", \"33\", \"34\", \"35\", \"36\", \"37\", \"38\", \"39\", \"40\", \"41\", \"42\", \"43\", \"44\", \"45\"], \"mode\": \"lines\", \"name\": \"AUC_macro_max\", \"stepped\": true, \"type\": \"scatter\", \"data\": [0.848578726509761, 0.848578726509761, 0.9064910600255428, 0.9064910600255428, 0.9064910600255428, 0.9064910600255428, 0.9064910600255428, 0.9064910600255428, 0.9064910600255428, 0.9064910600255428, 0.9064910600255428, 0.9213638022258713, 0.9213638022258713, 0.9213638022258713, 0.9213638022258713, 0.9213638022258713, 0.9213638022258713, 0.9213638022258713, 0.9213638022258713, 0.9213638022258713, 0.9213638022258713, 0.9213638022258713, 0.9213638022258713, 0.9213638022258713, 0.9213638022258713, 0.9213638022258713, 0.9213638022258713, 0.9352946542601716, 0.9352946542601716, 0.9352946542601716, 0.9352946542601716, 0.9352946542601716, 0.9352946542601716, 0.9352946542601716, 0.9352946542601716, 0.9352946542601716, 0.9352946542601716, 0.9352946542601716, 0.9352946542601716, 0.9352946542601716, 0.9352946542601716, 0.9352946542601716, 0.9352946542601716, 0.9352946542601716, 0.9352946542601716, 0.9352946542601716]}], \"precision_score_macro\": [{\"categories\": [\"0\", \"1\", \"2\", \"3\", \"4\", \"5\", \"6\", \"7\", \"8\", \"9\", \"10\", \"11\", \"12\", \"13\", \"14\", \"15\", \"16\", \"17\", \"18\", \"19\", \"20\", \"21\", \"22\", \"23\", \"24\", \"25\", \"26\", \"27\", \"28\", \"29\", \"30\", \"31\", \"32\", \"33\", \"34\", \"35\", \"36\", \"37\", \"38\", \"39\", \"40\", \"41\", \"42\", \"43\", \"44\", \"45\"], \"mode\": \"markers\", \"name\": \"precision_score_macro\", \"stepped\": false, \"type\": \"scatter\", \"data\": [0.7499530075187971, 0.7862909697371773, 0.7891057312252965, 0.8348292271454035, 0.7883456412868178, 0.7498019409784115, 0.7570819409635199, 0.7567011633072352, 0.8328381857793623, 0.7731967448815275, 0.7999988505503213, 0.818716577540107, 0.7903250915750916, 0.7796894409937888, 0.816013198757764, 0.8278477167993298, 0.8135137085137085, 0.8106427217138998, 0.8113395555850799, 0.7862475701877415, 0.829672619047619, 0.8421952608794715, 0.7984329848540207, 0.8331943111354877, 0.792979678235639, 0.3333333333333333, 0.8099371693121693, 0.874873949579832, 0.8183586389101096, 0.7792397660818713, 0.7329188712522047, 0.7830413594737907, 0.7891458149859728, 0.7977702627888092, 0.8122392402283708, 0.8647945845004669, 0.8559249786871271, 0.7848225067152961, 0.8180840820964367, 0.8214019314019314, 0.8442602548785345, 0.7928699171055983, 0.8315806878306878, 0.8008816198103955, 0.9168956043956045, 0.8767852219465123]}, {\"categories\": [\"0\", \"1\", \"2\", \"3\", \"4\", \"5\", \"6\", \"7\", \"8\", \"9\", \"10\", \"11\", \"12\", \"13\", \"14\", \"15\", \"16\", \"17\", \"18\", \"19\", \"20\", \"21\", \"22\", \"23\", \"24\", \"25\", \"26\", \"27\", \"28\", \"29\", \"30\", \"31\", \"32\", \"33\", \"34\", \"35\", \"36\", \"37\", \"38\", \"39\", \"40\", \"41\", \"42\", \"43\", \"44\", \"45\"], \"mode\": \"lines\", \"name\": \"precision_score_macro_max\", \"stepped\": true, \"type\": \"scatter\", \"data\": [0.7499530075187971, 0.7862909697371773, 0.7891057312252965, 0.8348292271454035, 0.8348292271454035, 0.8348292271454035, 0.8348292271454035, 0.8348292271454035, 0.8348292271454035, 0.8348292271454035, 0.8348292271454035, 0.8348292271454035, 0.8348292271454035, 0.8348292271454035, 0.8348292271454035, 0.8348292271454035, 0.8348292271454035, 0.8348292271454035, 0.8348292271454035, 0.8348292271454035, 0.8348292271454035, 0.8421952608794715, 0.8421952608794715, 0.8421952608794715, 0.8421952608794715, 0.8421952608794715, 0.8421952608794715, 0.874873949579832, 0.874873949579832, 0.874873949579832, 0.874873949579832, 0.874873949579832, 0.874873949579832, 0.874873949579832, 0.874873949579832, 0.874873949579832, 0.874873949579832, 0.874873949579832, 0.874873949579832, 0.874873949579832, 0.874873949579832, 0.874873949579832, 0.874873949579832, 0.874873949579832, 0.9168956043956045, 0.9168956043956045]}], \"weighted_accuracy\": [{\"categories\": [\"0\", \"1\", \"2\", \"3\", \"4\", \"5\", \"6\", \"7\", \"8\", \"9\", \"10\", \"11\", \"12\", \"13\", \"14\", \"15\", \"16\", \"17\", \"18\", \"19\", \"20\", \"21\", \"22\", \"23\", \"24\", \"25\", \"26\", \"27\", \"28\", \"29\", \"30\", \"31\", \"32\", \"33\", \"34\", \"35\", \"36\", \"37\", \"38\", \"39\", \"40\", \"41\", \"42\", \"43\", \"44\", \"45\"], \"mode\": \"markers\", \"name\": \"weighted_accuracy\", \"stepped\": false, \"type\": \"scatter\", \"data\": [0.7930984350748681, 0.817226456408637, 0.8500918571232061, 0.8776396731398547, 0.833496449066502, 0.8148306826143966, 0.8030859506803613, 0.8094381602964736, 0.8761856977978496, 0.836316086703413, 0.8372014876196233, 0.8539194318471498, 0.855480871158874, 0.8414226218024816, 0.8610845448820892, 0.8798817208250832, 0.8694989489866688, 0.8525878844056257, 0.8433202970832805, 0.8262079482417867, 0.8670013267366832, 0.8667284984042429, 0.8411095136711029, 0.8630100844240248, 0.8363581715466993, 0.7913659819509689, 0.8428856126703744, 0.9143326485783673, 0.8609218371826693, 0.7958797062275295, 0.6911070107678458, 0.8306740464959482, 0.8222999221903072, 0.8322874377958004, 0.8637844112818206, 0.9041824252734546, 0.8716425482280661, 0.8267660204444688, 0.8627381077105385, 0.8637343726083818, 0.8880931374313047, 0.8272139720141302, 0.8873822246740445, 0.837364195319043, 0.9415550491961767, 0.9109818431106161]}, {\"categories\": [\"0\", \"1\", \"2\", \"3\", \"4\", \"5\", \"6\", \"7\", \"8\", \"9\", \"10\", \"11\", \"12\", \"13\", \"14\", \"15\", \"16\", \"17\", \"18\", \"19\", \"20\", \"21\", \"22\", \"23\", \"24\", \"25\", \"26\", \"27\", \"28\", \"29\", \"30\", \"31\", \"32\", \"33\", \"34\", \"35\", \"36\", \"37\", \"38\", \"39\", \"40\", \"41\", \"42\", \"43\", \"44\", \"45\"], \"mode\": \"lines\", \"name\": \"weighted_accuracy_max\", \"stepped\": true, \"type\": \"scatter\", \"data\": [0.7930984350748681, 0.817226456408637, 0.8500918571232061, 0.8776396731398547, 0.8776396731398547, 0.8776396731398547, 0.8776396731398547, 0.8776396731398547, 0.8776396731398547, 0.8776396731398547, 0.8776396731398547, 0.8776396731398547, 0.8776396731398547, 0.8776396731398547, 0.8776396731398547, 0.8798817208250832, 0.8798817208250832, 0.8798817208250832, 0.8798817208250832, 0.8798817208250832, 0.8798817208250832, 0.8798817208250832, 0.8798817208250832, 0.8798817208250832, 0.8798817208250832, 0.8798817208250832, 0.8798817208250832, 0.9143326485783673, 0.9143326485783673, 0.9143326485783673, 0.9143326485783673, 0.9143326485783673, 0.9143326485783673, 0.9143326485783673, 0.9143326485783673, 0.9143326485783673, 0.9143326485783673, 0.9143326485783673, 0.9143326485783673, 0.9143326485783673, 0.9143326485783673, 0.9143326485783673, 0.9143326485783673, 0.9143326485783673, 0.9415550491961767, 0.9415550491961767]}], \"average_precision_score_micro\": [{\"categories\": [\"0\", \"1\", \"2\", \"3\", \"4\", \"5\", \"6\", \"7\", \"8\", \"9\", \"10\", \"11\", \"12\", \"13\", \"14\", \"15\", \"16\", \"17\", \"18\", \"19\", \"20\", \"21\", \"22\", \"23\", \"24\", \"25\", \"26\", \"27\", \"28\", \"29\", \"30\", \"31\", \"32\", \"33\", \"34\", \"35\", \"36\", \"37\", \"38\", \"39\", \"40\", \"41\", \"42\", \"43\", \"44\", \"45\"], \"mode\": \"markers\", \"name\": \"average_precision_score_micro\", \"stepped\": false, \"type\": \"scatter\", \"data\": [0.8636524078825482, 0.8729393504593371, 0.9182788672185679, 0.9193468981256774, 0.8857832560271749, 0.8497355540308854, 0.9000711005398915, 0.8880290288007789, 0.9068117006150619, 0.8927125465858253, 0.9090022013861008, 0.9310340166884926, 0.9010267497526255, 0.8544249566165649, 0.9036992782114192, 0.8681508890412849, 0.9107300359666023, 0.9075803506011549, 0.9145796463727653, 0.8726145231967672, 0.9203639194858572, 0.9085902182656153, 0.9088079307703544, 0.8952654734689637, 0.8975688100955294, 0.8602281624703964, 0.9001762592278753, 0.9463031141697158, 0.9194722649803623, 0.9205460639199342, 0.7759201397101029, 0.8786474000105953, 0.9257274206436111, 0.8877889338931251, 0.9056639889220293, 0.9275701916824041, 0.9038081429276993, 0.901720029543546, 0.9070262555441503, 0.8984073345889142, 0.9165423618468406, 0.9081772757822083, 0.9223459649633085, 0.9118149692371901, 0.9345898326701384, 0.9328997119929906]}, {\"categories\": [\"0\", \"1\", \"2\", \"3\", \"4\", \"5\", \"6\", \"7\", \"8\", \"9\", \"10\", \"11\", \"12\", \"13\", \"14\", \"15\", \"16\", \"17\", \"18\", \"19\", \"20\", \"21\", \"22\", \"23\", \"24\", \"25\", \"26\", \"27\", \"28\", \"29\", \"30\", \"31\", \"32\", \"33\", \"34\", \"35\", \"36\", \"37\", \"38\", \"39\", \"40\", \"41\", \"42\", \"43\", \"44\", \"45\"], \"mode\": \"lines\", \"name\": \"average_precision_score_micro_max\", \"stepped\": true, \"type\": \"scatter\", \"data\": [0.8636524078825482, 0.8729393504593371, 0.9182788672185679, 0.9193468981256774, 0.9193468981256774, 0.9193468981256774, 0.9193468981256774, 0.9193468981256774, 0.9193468981256774, 0.9193468981256774, 0.9193468981256774, 0.9310340166884926, 0.9310340166884926, 0.9310340166884926, 0.9310340166884926, 0.9310340166884926, 0.9310340166884926, 0.9310340166884926, 0.9310340166884926, 0.9310340166884926, 0.9310340166884926, 0.9310340166884926, 0.9310340166884926, 0.9310340166884926, 0.9310340166884926, 0.9310340166884926, 0.9310340166884926, 0.9463031141697158, 0.9463031141697158, 0.9463031141697158, 0.9463031141697158, 0.9463031141697158, 0.9463031141697158, 0.9463031141697158, 0.9463031141697158, 0.9463031141697158, 0.9463031141697158, 0.9463031141697158, 0.9463031141697158, 0.9463031141697158, 0.9463031141697158, 0.9463031141697158, 0.9463031141697158, 0.9463031141697158, 0.9463031141697158, 0.9463031141697158]}], \"log_loss\": [{\"categories\": [\"0\", \"1\", \"2\", \"3\", \"4\", \"5\", \"6\", \"7\", \"8\", \"9\", \"10\", \"11\", \"12\", \"13\", \"14\", \"15\", \"16\", \"17\", \"18\", \"19\", \"20\", \"21\", \"22\", \"23\", \"24\", \"25\", \"26\", \"27\", \"28\", \"29\", \"30\", \"31\", \"32\", \"33\", \"34\", \"35\", \"36\", \"37\", \"38\", \"39\", \"40\", \"41\", \"42\", \"43\", \"44\", \"45\"], \"mode\": \"markers\", \"name\": \"log_loss\", \"stepped\": false, \"type\": \"scatter\", \"data\": [0.565606838782052, 0.5253486811665041, 0.370588010850538, 0.3734573676087701, 0.929350239958008, 0.4760091926957217, 0.43556601883858104, 0.4547603347408861, 0.3660330474524227, 0.434073925903109, 0.3938692212552834, 0.3565768842063175, 0.40940995036594113, 0.47665233867483797, 0.4383883727547659, 0.47783063122469427, 0.437171909641825, 0.40661245706112625, 0.35794583592263485, 0.45653632219706863, 0.3889442021694278, 0.40292852496945725, 0.39892724786699424, 0.3709461360646736, 0.40773836313405765, 0.5816447630558966, 0.43226571801948305, 0.33782360484749846, 0.3729252330803156, 0.38532277136169707, 0.6150462716284956, 0.4476130872228834, 0.3594445647762532, 0.5081864069386819, 0.48488734606768097, 0.36988708316815594, 0.3972610294668814, 0.4112415737021837, 0.4096317928311404, 0.4242527792438649, 0.44604292398645046, 0.392549400013561, 0.42239791386087727, 0.37366220188839144, 0.3922144640399667, 0.37047061245786067]}, {\"categories\": [\"0\", \"1\", \"2\", \"3\", \"4\", \"5\", \"6\", \"7\", \"8\", \"9\", \"10\", \"11\", \"12\", \"13\", \"14\", \"15\", \"16\", \"17\", \"18\", \"19\", \"20\", \"21\", \"22\", \"23\", \"24\", \"25\", \"26\", \"27\", \"28\", \"29\", \"30\", \"31\", \"32\", \"33\", \"34\", \"35\", \"36\", \"37\", \"38\", \"39\", \"40\", \"41\", \"42\", \"43\", \"44\", \"45\"], \"mode\": \"lines\", \"name\": \"log_loss_min\", \"stepped\": true, \"type\": \"scatter\", \"data\": [0.565606838782052, 0.5253486811665041, 0.370588010850538, 0.370588010850538, 0.370588010850538, 0.370588010850538, 0.370588010850538, 0.370588010850538, 0.3660330474524227, 0.3660330474524227, 0.3660330474524227, 0.3565768842063175, 0.3565768842063175, 0.3565768842063175, 0.3565768842063175, 0.3565768842063175, 0.3565768842063175, 0.3565768842063175, 0.3565768842063175, 0.3565768842063175, 0.3565768842063175, 0.3565768842063175, 0.3565768842063175, 0.3565768842063175, 0.3565768842063175, 0.3565768842063175, 0.3565768842063175, 0.33782360484749846, 0.33782360484749846, 0.33782360484749846, 0.33782360484749846, 0.33782360484749846, 0.33782360484749846, 0.33782360484749846, 0.33782360484749846, 0.33782360484749846, 0.33782360484749846, 0.33782360484749846, 0.33782360484749846, 0.33782360484749846, 0.33782360484749846, 0.33782360484749846, 0.33782360484749846, 0.33782360484749846, 0.33782360484749846, 0.33782360484749846]}], \"f1_score_weighted\": [{\"categories\": [\"0\", \"1\", \"2\", \"3\", \"4\", \"5\", \"6\", \"7\", \"8\", \"9\", \"10\", \"11\", \"12\", \"13\", \"14\", \"15\", \"16\", \"17\", \"18\", \"19\", \"20\", \"21\", \"22\", \"23\", \"24\", \"25\", \"26\", \"27\", \"28\", \"29\", \"30\", \"31\", \"32\", \"33\", \"34\", \"35\", \"36\", \"37\", \"38\", \"39\", \"40\", \"41\", \"42\", \"43\", \"44\", \"45\"], \"mode\": \"markers\", \"name\": \"f1_score_weighted\", \"stepped\": false, \"type\": \"scatter\", \"data\": [0.7753501186480936, 0.8016187251258232, 0.8119649739416385, 0.851380763300075, 0.8074128516800326, 0.7704431092337015, 0.7837082093591254, 0.7738841405508072, 0.8533620403796099, 0.8102947484703306, 0.8184157093646679, 0.8229357414581421, 0.8148111804620966, 0.8076239943586544, 0.834440034946303, 0.8418394173885698, 0.8207461135500838, 0.836157888851283, 0.8395389684989801, 0.8108439159914794, 0.8434662060575032, 0.8423057781207047, 0.817996333719993, 0.8567545563564781, 0.8191577304647142, 0.5346346872082167, 0.8269526752850304, 0.8725640958810089, 0.8344837865164889, 0.7961977832818188, 0.7199344584168433, 0.8106207645443518, 0.8111656573826224, 0.8194595757974712, 0.8321411810945097, 0.8643178265509958, 0.841696705177602, 0.8110951112762707, 0.8444333639025929, 0.8234979715624876, 0.8396749094106298, 0.810057618653636, 0.8494354610614568, 0.8182601364134633, 0.9113179656991935, 0.8869267058429621]}, {\"categories\": [\"0\", \"1\", \"2\", \"3\", \"4\", \"5\", \"6\", \"7\", \"8\", \"9\", \"10\", \"11\", \"12\", \"13\", \"14\", \"15\", \"16\", \"17\", \"18\", \"19\", \"20\", \"21\", \"22\", \"23\", \"24\", \"25\", \"26\", \"27\", \"28\", \"29\", \"30\", \"31\", \"32\", \"33\", \"34\", \"35\", \"36\", \"37\", \"38\", \"39\", \"40\", \"41\", \"42\", \"43\", \"44\", \"45\"], \"mode\": \"lines\", \"name\": \"f1_score_weighted_max\", \"stepped\": true, \"type\": \"scatter\", \"data\": [0.7753501186480936, 0.8016187251258232, 0.8119649739416385, 0.851380763300075, 0.851380763300075, 0.851380763300075, 0.851380763300075, 0.851380763300075, 0.8533620403796099, 0.8533620403796099, 0.8533620403796099, 0.8533620403796099, 0.8533620403796099, 0.8533620403796099, 0.8533620403796099, 0.8533620403796099, 0.8533620403796099, 0.8533620403796099, 0.8533620403796099, 0.8533620403796099, 0.8533620403796099, 0.8533620403796099, 0.8533620403796099, 0.8567545563564781, 0.8567545563564781, 0.8567545563564781, 0.8567545563564781, 0.8725640958810089, 0.8725640958810089, 0.8725640958810089, 0.8725640958810089, 0.8725640958810089, 0.8725640958810089, 0.8725640958810089, 0.8725640958810089, 0.8725640958810089, 0.8725640958810089, 0.8725640958810089, 0.8725640958810089, 0.8725640958810089, 0.8725640958810089, 0.8725640958810089, 0.8725640958810089, 0.8725640958810089, 0.9113179656991935, 0.9113179656991935]}], \"recall_score_weighted\": [{\"categories\": [\"0\", \"1\", \"2\", \"3\", \"4\", \"5\", \"6\", \"7\", \"8\", \"9\", \"10\", \"11\", \"12\", \"13\", \"14\", \"15\", \"16\", \"17\", \"18\", \"19\", \"20\", \"21\", \"22\", \"23\", \"24\", \"25\", \"26\", \"27\", \"28\", \"29\", \"30\", \"31\", \"32\", \"33\", \"34\", \"35\", \"36\", \"37\", \"38\", \"39\", \"40\", \"41\", \"42\", \"43\", \"44\", \"45\"], \"mode\": \"markers\", \"name\": \"recall_score_weighted\", \"stepped\": false, \"type\": \"scatter\", \"data\": [0.7777777777777778, 0.8034188034188033, 0.8205128205128206, 0.8547008547008548, 0.8119658119658119, 0.7777777777777777, 0.7863247863247863, 0.7777777777777777, 0.8547008547008547, 0.8119658119658121, 0.8205128205128206, 0.8290598290598291, 0.8205128205128206, 0.8119658119658121, 0.8376068376068376, 0.8461538461538461, 0.8290598290598291, 0.8376068376068376, 0.8376068376068376, 0.8119658119658121, 0.8461538461538461, 0.8461538461538461, 0.8205128205128204, 0.8547008547008547, 0.8205128205128206, 0.6666666666666666, 0.8290598290598291, 0.8803418803418804, 0.8376068376068376, 0.7948717948717948, 0.717948717948718, 0.8119658119658121, 0.8119658119658119, 0.8205128205128206, 0.8376068376068376, 0.8717948717948718, 0.8461538461538461, 0.8119658119658119, 0.8461538461538461, 0.8290598290598291, 0.8461538461538461, 0.8119658119658119, 0.8547008547008547, 0.8205128205128204, 0.9145299145299145, 0.888888888888889]}, {\"categories\": [\"0\", \"1\", \"2\", \"3\", \"4\", \"5\", \"6\", \"7\", \"8\", \"9\", \"10\", \"11\", \"12\", \"13\", \"14\", \"15\", \"16\", \"17\", \"18\", \"19\", \"20\", \"21\", \"22\", \"23\", \"24\", \"25\", \"26\", \"27\", \"28\", \"29\", \"30\", \"31\", \"32\", \"33\", \"34\", \"35\", \"36\", \"37\", \"38\", \"39\", \"40\", \"41\", \"42\", \"43\", \"44\", \"45\"], \"mode\": \"lines\", \"name\": \"recall_score_weighted_max\", \"stepped\": true, \"type\": \"scatter\", \"data\": [0.7777777777777778, 0.8034188034188033, 0.8205128205128206, 0.8547008547008548, 0.8547008547008548, 0.8547008547008548, 0.8547008547008548, 0.8547008547008548, 0.8547008547008548, 0.8547008547008548, 0.8547008547008548, 0.8547008547008548, 0.8547008547008548, 0.8547008547008548, 0.8547008547008548, 0.8547008547008548, 0.8547008547008548, 0.8547008547008548, 0.8547008547008548, 0.8547008547008548, 0.8547008547008548, 0.8547008547008548, 0.8547008547008548, 0.8547008547008548, 0.8547008547008548, 0.8547008547008548, 0.8547008547008548, 0.8803418803418804, 0.8803418803418804, 0.8803418803418804, 0.8803418803418804, 0.8803418803418804, 0.8803418803418804, 0.8803418803418804, 0.8803418803418804, 0.8803418803418804, 0.8803418803418804, 0.8803418803418804, 0.8803418803418804, 0.8803418803418804, 0.8803418803418804, 0.8803418803418804, 0.8803418803418804, 0.8803418803418804, 0.9145299145299145, 0.9145299145299145]}], \"average_precision_score_macro\": [{\"categories\": [\"0\", \"1\", \"2\", \"3\", \"4\", \"5\", \"6\", \"7\", \"8\", \"9\", \"10\", \"11\", \"12\", \"13\", \"14\", \"15\", \"16\", \"17\", \"18\", \"19\", \"20\", \"21\", \"22\", \"23\", \"24\", \"25\", \"26\", \"27\", \"28\", \"29\", \"30\", \"31\", \"32\", \"33\", \"34\", \"35\", \"36\", \"37\", \"38\", \"39\", \"40\", \"41\", \"42\", \"43\", \"44\", \"45\"], \"mode\": \"markers\", \"name\": \"average_precision_score_macro\", \"stepped\": false, \"type\": \"scatter\", \"data\": [0.8477256794026028, 0.8445326231964447, 0.8966486038160628, 0.9003839447913543, 0.8668851147753426, 0.8077331572826717, 0.8733200140768064, 0.8518006677557457, 0.8864520941384885, 0.8499315074707273, 0.8875250817775683, 0.9128686873239555, 0.8805313392999404, 0.8084107681737417, 0.8794334826768632, 0.833640124334717, 0.8880169979544171, 0.8829292084620924, 0.8925176643600157, 0.8047679647640504, 0.9064015089369489, 0.8844976576827427, 0.888119132316645, 0.8738896722052406, 0.8753428015930044, 0.8735749304208218, 0.8759008817646174, 0.9283334399706883, 0.8990336790233213, 0.9194955137191387, 0.716973404126812, 0.8593780665215401, 0.9107379216657412, 0.8607339121329076, 0.8730069098567603, 0.9076926887714327, 0.878867719743612, 0.8786363949798183, 0.8762634902876504, 0.8799804496554343, 0.9044994024208166, 0.8908056841848876, 0.9040470200173955, 0.8949010345101329, 0.9171005964009072, 0.917430010622728]}, {\"categories\": [\"0\", \"1\", \"2\", \"3\", \"4\", \"5\", \"6\", \"7\", \"8\", \"9\", \"10\", \"11\", \"12\", \"13\", \"14\", \"15\", \"16\", \"17\", \"18\", \"19\", \"20\", \"21\", \"22\", \"23\", \"24\", \"25\", \"26\", \"27\", \"28\", \"29\", \"30\", \"31\", \"32\", \"33\", \"34\", \"35\", \"36\", \"37\", \"38\", \"39\", \"40\", \"41\", \"42\", \"43\", \"44\", \"45\"], \"mode\": \"lines\", \"name\": \"average_precision_score_macro_max\", \"stepped\": true, \"type\": \"scatter\", \"data\": [0.8477256794026028, 0.8477256794026028, 0.8966486038160628, 0.9003839447913543, 0.9003839447913543, 0.9003839447913543, 0.9003839447913543, 0.9003839447913543, 0.9003839447913543, 0.9003839447913543, 0.9003839447913543, 0.9128686873239555, 0.9128686873239555, 0.9128686873239555, 0.9128686873239555, 0.9128686873239555, 0.9128686873239555, 0.9128686873239555, 0.9128686873239555, 0.9128686873239555, 0.9128686873239555, 0.9128686873239555, 0.9128686873239555, 0.9128686873239555, 0.9128686873239555, 0.9128686873239555, 0.9128686873239555, 0.9283334399706883, 0.9283334399706883, 0.9283334399706883, 0.9283334399706883, 0.9283334399706883, 0.9283334399706883, 0.9283334399706883, 0.9283334399706883, 0.9283334399706883, 0.9283334399706883, 0.9283334399706883, 0.9283334399706883, 0.9283334399706883, 0.9283334399706883, 0.9283334399706883, 0.9283334399706883, 0.9283334399706883, 0.9283334399706883, 0.9283334399706883]}], \"f1_score_micro\": [{\"categories\": [\"0\", \"1\", \"2\", \"3\", \"4\", \"5\", \"6\", \"7\", \"8\", \"9\", \"10\", \"11\", \"12\", \"13\", \"14\", \"15\", \"16\", \"17\", \"18\", \"19\", \"20\", \"21\", \"22\", \"23\", \"24\", \"25\", \"26\", \"27\", \"28\", \"29\", \"30\", \"31\", \"32\", \"33\", \"34\", \"35\", \"36\", \"37\", \"38\", \"39\", \"40\", \"41\", \"42\", \"43\", \"44\", \"45\"], \"mode\": \"markers\", \"name\": \"f1_score_micro\", \"stepped\": false, \"type\": \"scatter\", \"data\": [0.7777777777777778, 0.8034188034188033, 0.8205128205128206, 0.8547008547008548, 0.8119658119658119, 0.7777777777777778, 0.7863247863247863, 0.7777777777777778, 0.8547008547008547, 0.8119658119658121, 0.8205128205128206, 0.8290598290598291, 0.8205128205128206, 0.8119658119658121, 0.8376068376068376, 0.8461538461538461, 0.8290598290598291, 0.8376068376068376, 0.8376068376068376, 0.8119658119658121, 0.8461538461538461, 0.8461538461538461, 0.8205128205128204, 0.8547008547008547, 0.8205128205128206, 0.6666666666666666, 0.8290598290598291, 0.8803418803418804, 0.8376068376068376, 0.7948717948717948, 0.717948717948718, 0.8119658119658121, 0.8119658119658119, 0.8205128205128206, 0.8376068376068376, 0.8717948717948718, 0.8461538461538461, 0.8119658119658119, 0.8461538461538461, 0.8290598290598291, 0.8461538461538461, 0.8119658119658119, 0.8547008547008547, 0.8205128205128204, 0.9145299145299145, 0.888888888888889]}, {\"categories\": [\"0\", \"1\", \"2\", \"3\", \"4\", \"5\", \"6\", \"7\", \"8\", \"9\", \"10\", \"11\", \"12\", \"13\", \"14\", \"15\", \"16\", \"17\", \"18\", \"19\", \"20\", \"21\", \"22\", \"23\", \"24\", \"25\", \"26\", \"27\", \"28\", \"29\", \"30\", \"31\", \"32\", \"33\", \"34\", \"35\", \"36\", \"37\", \"38\", \"39\", \"40\", \"41\", \"42\", \"43\", \"44\", \"45\"], \"mode\": \"lines\", \"name\": \"f1_score_micro_max\", \"stepped\": true, \"type\": \"scatter\", \"data\": [0.7777777777777778, 0.8034188034188033, 0.8205128205128206, 0.8547008547008548, 0.8547008547008548, 0.8547008547008548, 0.8547008547008548, 0.8547008547008548, 0.8547008547008548, 0.8547008547008548, 0.8547008547008548, 0.8547008547008548, 0.8547008547008548, 0.8547008547008548, 0.8547008547008548, 0.8547008547008548, 0.8547008547008548, 0.8547008547008548, 0.8547008547008548, 0.8547008547008548, 0.8547008547008548, 0.8547008547008548, 0.8547008547008548, 0.8547008547008548, 0.8547008547008548, 0.8547008547008548, 0.8547008547008548, 0.8803418803418804, 0.8803418803418804, 0.8803418803418804, 0.8803418803418804, 0.8803418803418804, 0.8803418803418804, 0.8803418803418804, 0.8803418803418804, 0.8803418803418804, 0.8803418803418804, 0.8803418803418804, 0.8803418803418804, 0.8803418803418804, 0.8803418803418804, 0.8803418803418804, 0.8803418803418804, 0.8803418803418804, 0.9145299145299145, 0.9145299145299145]}], \"balanced_accuracy\": [{\"categories\": [\"0\", \"1\", \"2\", \"3\", \"4\", \"5\", \"6\", \"7\", \"8\", \"9\", \"10\", \"11\", \"12\", \"13\", \"14\", \"15\", \"16\", \"17\", \"18\", \"19\", \"20\", \"21\", \"22\", \"23\", \"24\", \"25\", \"26\", \"27\", \"28\", \"29\", \"30\", \"31\", \"32\", \"33\", \"34\", \"35\", \"36\", \"37\", \"38\", \"39\", \"40\", \"41\", \"42\", \"43\", \"44\", \"45\"], \"mode\": \"markers\", \"name\": \"balanced_accuracy\", \"stepped\": false, \"type\": \"scatter\", \"data\": [0.7483935413245758, 0.777196223316913, 0.7716406677613573, 0.8180295566502463, 0.774696223316913, 0.7223549534756432, 0.7553379857690201, 0.7341611932129174, 0.8217733990147783, 0.7740818281335523, 0.7910851122058018, 0.7871100164203613, 0.7687110016420361, 0.7664887794198139, 0.8005295566502463, 0.7979173508483853, 0.7702914614121511, 0.8111316365626711, 0.8273289545703338, 0.7864094143404489, 0.812196223316913, 0.811792556102901, 0.7866406677613574, 0.8424151614668857, 0.7930760810071155, 0.5, 0.8029898741105637, 0.8279433497536947, 0.8008073344280241, 0.7866871921182267, 0.7491680350301039, 0.7811713191023536, 0.7908538587848932, 0.7977983032293378, 0.7949740010946907, 0.821276683087028, 0.8050793650793651, 0.7856157635467981, 0.8177983032293378, 0.7783004926108376, 0.7885125889436234, 0.7841406677613575, 0.8056157635467981, 0.790807334428024, 0.8748877941981391, 0.855807334428024]}, {\"categories\": [\"0\", \"1\", \"2\", \"3\", \"4\", \"5\", \"6\", \"7\", \"8\", \"9\", \"10\", \"11\", \"12\", \"13\", \"14\", \"15\", \"16\", \"17\", \"18\", \"19\", \"20\", \"21\", \"22\", \"23\", \"24\", \"25\", \"26\", \"27\", \"28\", \"29\", \"30\", \"31\", \"32\", \"33\", \"34\", \"35\", \"36\", \"37\", \"38\", \"39\", \"40\", \"41\", \"42\", \"43\", \"44\", \"45\"], \"mode\": \"lines\", \"name\": \"balanced_accuracy_max\", \"stepped\": true, \"type\": \"scatter\", \"data\": [0.7483935413245758, 0.777196223316913, 0.777196223316913, 0.8180295566502463, 0.8180295566502463, 0.8180295566502463, 0.8180295566502463, 0.8180295566502463, 0.8217733990147783, 0.8217733990147783, 0.8217733990147783, 0.8217733990147783, 0.8217733990147783, 0.8217733990147783, 0.8217733990147783, 0.8217733990147783, 0.8217733990147783, 0.8217733990147783, 0.8273289545703338, 0.8273289545703338, 0.8273289545703338, 0.8273289545703338, 0.8273289545703338, 0.8424151614668857, 0.8424151614668857, 0.8424151614668857, 0.8424151614668857, 0.8424151614668857, 0.8424151614668857, 0.8424151614668857, 0.8424151614668857, 0.8424151614668857, 0.8424151614668857, 0.8424151614668857, 0.8424151614668857, 0.8424151614668857, 0.8424151614668857, 0.8424151614668857, 0.8424151614668857, 0.8424151614668857, 0.8424151614668857, 0.8424151614668857, 0.8424151614668857, 0.8424151614668857, 0.8748877941981391, 0.8748877941981391]}], \"matthews_correlation\": [{\"categories\": [\"0\", \"1\", \"2\", \"3\", \"4\", \"5\", \"6\", \"7\", \"8\", \"9\", \"10\", \"11\", \"12\", \"13\", \"14\", \"15\", \"16\", \"17\", \"18\", \"19\", \"20\", \"21\", \"22\", \"23\", \"24\", \"25\", \"26\", \"27\", \"28\", \"29\", \"30\", \"31\", \"32\", \"33\", \"34\", \"35\", \"36\", \"37\", \"38\", \"39\", \"40\", \"41\", \"42\", \"43\", \"44\", \"45\"], \"mode\": \"markers\", \"name\": \"matthews_correlation\", \"stepped\": false, \"type\": \"scatter\", \"data\": [0.4971784771068948, 0.5619378869070123, 0.5570073641011376, 0.6514525201308929, 0.5604152990038316, 0.4695771758758818, 0.5112612403871046, 0.4888413798298068, 0.654005323417146, 0.5471253448034187, 0.589539101948119, 0.5999606396600073, 0.5579860900076442, 0.5451554726716571, 0.6151068951385458, 0.624813879918563, 0.5806812838016208, 0.6211489849292026, 0.6384372070261811, 0.5720205609529506, 0.6403299898071367, 0.650348623215403, 0.5836025857714988, 0.6750878396863554, 0.5854325426202642, 0.0, 0.611325666038044, 0.6970818531272654, 0.6176608056288101, 0.56557385461327, 0.48114407711365414, 0.5636459785303393, 0.5793450251704911, 0.5949408049960572, 0.604688888221217, 0.680311787101821, 0.6531126750929812, 0.5698124741538027, 0.6352937703727585, 0.5961623597004341, 0.6299412438637545, 0.5754563386679091, 0.6358434309456008, 0.5901799811998195, 0.7898026575696399, 0.7318343589911276]}, {\"categories\": [\"0\", \"1\", \"2\", \"3\", \"4\", \"5\", \"6\", \"7\", \"8\", \"9\", \"10\", \"11\", \"12\", \"13\", \"14\", \"15\", \"16\", \"17\", \"18\", \"19\", \"20\", \"21\", \"22\", \"23\", \"24\", \"25\", \"26\", \"27\", \"28\", \"29\", \"30\", \"31\", \"32\", \"33\", \"34\", \"35\", \"36\", \"37\", \"38\", \"39\", \"40\", \"41\", \"42\", \"43\", \"44\", \"45\"], \"mode\": \"lines\", \"name\": \"matthews_correlation_max\", \"stepped\": true, \"type\": \"scatter\", \"data\": [0.4971784771068948, 0.5619378869070123, 0.5619378869070123, 0.6514525201308929, 0.6514525201308929, 0.6514525201308929, 0.6514525201308929, 0.6514525201308929, 0.654005323417146, 0.654005323417146, 0.654005323417146, 0.654005323417146, 0.654005323417146, 0.654005323417146, 0.654005323417146, 0.654005323417146, 0.654005323417146, 0.654005323417146, 0.654005323417146, 0.654005323417146, 0.654005323417146, 0.654005323417146, 0.654005323417146, 0.6750878396863554, 0.6750878396863554, 0.6750878396863554, 0.6750878396863554, 0.6970818531272654, 0.6970818531272654, 0.6970818531272654, 0.6970818531272654, 0.6970818531272654, 0.6970818531272654, 0.6970818531272654, 0.6970818531272654, 0.6970818531272654, 0.6970818531272654, 0.6970818531272654, 0.6970818531272654, 0.6970818531272654, 0.6970818531272654, 0.6970818531272654, 0.6970818531272654, 0.6970818531272654, 0.7898026575696399, 0.7898026575696399]}], \"accuracy\": [{\"categories\": [\"0\", \"1\", \"2\", \"3\", \"4\", \"5\", \"6\", \"7\", \"8\", \"9\", \"10\", \"11\", \"12\", \"13\", \"14\", \"15\", \"16\", \"17\", \"18\", \"19\", \"20\", \"21\", \"22\", \"23\", \"24\", \"25\", \"26\", \"27\", \"28\", \"29\", \"30\", \"31\", \"32\", \"33\", \"34\", \"35\", \"36\", \"37\", \"38\", \"39\", \"40\", \"41\", \"42\", \"43\", \"44\", \"45\"], \"mode\": \"markers\", \"name\": \"accuracy\", \"stepped\": false, \"type\": \"scatter\", \"data\": [0.7777777777777778, 0.8034188034188033, 0.8205128205128206, 0.8547008547008548, 0.8119658119658119, 0.7777777777777777, 0.7863247863247863, 0.7777777777777777, 0.8547008547008547, 0.8119658119658121, 0.8205128205128206, 0.8290598290598291, 0.8205128205128206, 0.8119658119658121, 0.8376068376068376, 0.8461538461538461, 0.8290598290598291, 0.8376068376068376, 0.8376068376068376, 0.8119658119658121, 0.8461538461538461, 0.8461538461538461, 0.8205128205128204, 0.8547008547008547, 0.8205128205128206, 0.6666666666666666, 0.8290598290598291, 0.8803418803418804, 0.8376068376068376, 0.7948717948717948, 0.717948717948718, 0.8119658119658121, 0.8119658119658119, 0.8205128205128206, 0.8376068376068376, 0.8717948717948718, 0.8461538461538461, 0.8119658119658119, 0.8461538461538461, 0.8290598290598291, 0.8461538461538461, 0.8119658119658119, 0.8547008547008547, 0.8205128205128204, 0.9145299145299145, 0.888888888888889]}, {\"categories\": [\"0\", \"1\", \"2\", \"3\", \"4\", \"5\", \"6\", \"7\", \"8\", \"9\", \"10\", \"11\", \"12\", \"13\", \"14\", \"15\", \"16\", \"17\", \"18\", \"19\", \"20\", \"21\", \"22\", \"23\", \"24\", \"25\", \"26\", \"27\", \"28\", \"29\", \"30\", \"31\", \"32\", \"33\", \"34\", \"35\", \"36\", \"37\", \"38\", \"39\", \"40\", \"41\", \"42\", \"43\", \"44\", \"45\"], \"mode\": \"lines\", \"name\": \"accuracy_max\", \"stepped\": true, \"type\": \"scatter\", \"data\": [0.7777777777777778, 0.8034188034188033, 0.8205128205128206, 0.8547008547008548, 0.8547008547008548, 0.8547008547008548, 0.8547008547008548, 0.8547008547008548, 0.8547008547008548, 0.8547008547008548, 0.8547008547008548, 0.8547008547008548, 0.8547008547008548, 0.8547008547008548, 0.8547008547008548, 0.8547008547008548, 0.8547008547008548, 0.8547008547008548, 0.8547008547008548, 0.8547008547008548, 0.8547008547008548, 0.8547008547008548, 0.8547008547008548, 0.8547008547008548, 0.8547008547008548, 0.8547008547008548, 0.8547008547008548, 0.8803418803418804, 0.8803418803418804, 0.8803418803418804, 0.8803418803418804, 0.8803418803418804, 0.8803418803418804, 0.8803418803418804, 0.8803418803418804, 0.8803418803418804, 0.8803418803418804, 0.8803418803418804, 0.8803418803418804, 0.8803418803418804, 0.8803418803418804, 0.8803418803418804, 0.8803418803418804, 0.8803418803418804, 0.9145299145299145, 0.9145299145299145]}], \"recall_score_macro\": [{\"categories\": [\"0\", \"1\", \"2\", \"3\", \"4\", \"5\", \"6\", \"7\", \"8\", \"9\", \"10\", \"11\", \"12\", \"13\", \"14\", \"15\", \"16\", \"17\", \"18\", \"19\", \"20\", \"21\", \"22\", \"23\", \"24\", \"25\", \"26\", \"27\", \"28\", \"29\", \"30\", \"31\", \"32\", \"33\", \"34\", \"35\", \"36\", \"37\", \"38\", \"39\", \"40\", \"41\", \"42\", \"43\", \"44\", \"45\"], \"mode\": \"markers\", \"name\": \"recall_score_macro\", \"stepped\": false, \"type\": \"scatter\", \"data\": [0.7483935413245758, 0.777196223316913, 0.7716406677613573, 0.8180295566502463, 0.774696223316913, 0.7223549534756432, 0.7553379857690201, 0.7341611932129174, 0.8217733990147783, 0.7740818281335523, 0.7910851122058018, 0.7871100164203613, 0.7687110016420361, 0.7664887794198139, 0.8005295566502463, 0.7979173508483853, 0.7702914614121511, 0.8111316365626711, 0.8273289545703338, 0.7864094143404489, 0.812196223316913, 0.811792556102901, 0.7866406677613574, 0.8424151614668857, 0.7930760810071155, 0.5, 0.8029898741105637, 0.8279433497536947, 0.8008073344280241, 0.7866871921182267, 0.7491680350301039, 0.7811713191023536, 0.7908538587848932, 0.7977983032293378, 0.7949740010946907, 0.821276683087028, 0.8050793650793651, 0.7856157635467981, 0.8177983032293378, 0.7783004926108376, 0.7885125889436234, 0.7841406677613575, 0.8056157635467981, 0.790807334428024, 0.8748877941981391, 0.855807334428024]}, {\"categories\": [\"0\", \"1\", \"2\", \"3\", \"4\", \"5\", \"6\", \"7\", \"8\", \"9\", \"10\", \"11\", \"12\", \"13\", \"14\", \"15\", \"16\", \"17\", \"18\", \"19\", \"20\", \"21\", \"22\", \"23\", \"24\", \"25\", \"26\", \"27\", \"28\", \"29\", \"30\", \"31\", \"32\", \"33\", \"34\", \"35\", \"36\", \"37\", \"38\", \"39\", \"40\", \"41\", \"42\", \"43\", \"44\", \"45\"], \"mode\": \"lines\", \"name\": \"recall_score_macro_max\", \"stepped\": true, \"type\": \"scatter\", \"data\": [0.7483935413245758, 0.777196223316913, 0.777196223316913, 0.8180295566502463, 0.8180295566502463, 0.8180295566502463, 0.8180295566502463, 0.8180295566502463, 0.8217733990147783, 0.8217733990147783, 0.8217733990147783, 0.8217733990147783, 0.8217733990147783, 0.8217733990147783, 0.8217733990147783, 0.8217733990147783, 0.8217733990147783, 0.8217733990147783, 0.8273289545703338, 0.8273289545703338, 0.8273289545703338, 0.8273289545703338, 0.8273289545703338, 0.8424151614668857, 0.8424151614668857, 0.8424151614668857, 0.8424151614668857, 0.8424151614668857, 0.8424151614668857, 0.8424151614668857, 0.8424151614668857, 0.8424151614668857, 0.8424151614668857, 0.8424151614668857, 0.8424151614668857, 0.8424151614668857, 0.8424151614668857, 0.8424151614668857, 0.8424151614668857, 0.8424151614668857, 0.8424151614668857, 0.8424151614668857, 0.8424151614668857, 0.8424151614668857, 0.8748877941981391, 0.8748877941981391]}], \"norm_macro_recall\": [{\"categories\": [\"0\", \"1\", \"2\", \"3\", \"4\", \"5\", \"6\", \"7\", \"8\", \"9\", \"10\", \"11\", \"12\", \"13\", \"14\", \"15\", \"16\", \"17\", \"18\", \"19\", \"20\", \"21\", \"22\", \"23\", \"24\", \"25\", \"26\", \"27\", \"28\", \"29\", \"30\", \"31\", \"32\", \"33\", \"34\", \"35\", \"36\", \"37\", \"38\", \"39\", \"40\", \"41\", \"42\", \"43\", \"44\", \"45\"], \"mode\": \"markers\", \"name\": \"norm_macro_recall\", \"stepped\": false, \"type\": \"scatter\", \"data\": [0.49678708264915156, 0.5543924466338259, 0.5432813355227147, 0.6360591133004926, 0.5493924466338259, 0.4447099069512863, 0.5106759715380403, 0.46832238642583474, 0.6435467980295567, 0.5481636562671046, 0.5821702244116036, 0.5742200328407225, 0.5374220032840722, 0.5329775588396278, 0.6010591133004926, 0.5958347016967708, 0.5405829228243021, 0.6222632731253421, 0.6546579091406678, 0.5728188286808976, 0.6243924466338259, 0.6235851122058019, 0.5732813355227148, 0.6848303229337712, 0.586152162014231, 0.0, 0.6059797482211274, 0.6558866995073892, 0.6016146688560481, 0.5733743842364533, 0.49833607006020797, 0.5623426382047071, 0.5817077175697866, 0.5955966064586754, 0.5899480021893815, 0.6425533661740559, 0.6101587301587301, 0.571231527093596, 0.6355966064586754, 0.5566009852216749, 0.5770251778872468, 0.5682813355227148, 0.6112315270935961, 0.5816146688560481, 0.749775588396278, 0.7116146688560482]}, {\"categories\": [\"0\", \"1\", \"2\", \"3\", \"4\", \"5\", \"6\", \"7\", \"8\", \"9\", \"10\", \"11\", \"12\", \"13\", \"14\", \"15\", \"16\", \"17\", \"18\", \"19\", \"20\", \"21\", \"22\", \"23\", \"24\", \"25\", \"26\", \"27\", \"28\", \"29\", \"30\", \"31\", \"32\", \"33\", \"34\", \"35\", \"36\", \"37\", \"38\", \"39\", \"40\", \"41\", \"42\", \"43\", \"44\", \"45\"], \"mode\": \"lines\", \"name\": \"norm_macro_recall_max\", \"stepped\": true, \"type\": \"scatter\", \"data\": [0.49678708264915156, 0.5543924466338259, 0.5543924466338259, 0.6360591133004926, 0.6360591133004926, 0.6360591133004926, 0.6360591133004926, 0.6360591133004926, 0.6435467980295567, 0.6435467980295567, 0.6435467980295567, 0.6435467980295567, 0.6435467980295567, 0.6435467980295567, 0.6435467980295567, 0.6435467980295567, 0.6435467980295567, 0.6435467980295567, 0.6546579091406678, 0.6546579091406678, 0.6546579091406678, 0.6546579091406678, 0.6546579091406678, 0.6848303229337712, 0.6848303229337712, 0.6848303229337712, 0.6848303229337712, 0.6848303229337712, 0.6848303229337712, 0.6848303229337712, 0.6848303229337712, 0.6848303229337712, 0.6848303229337712, 0.6848303229337712, 0.6848303229337712, 0.6848303229337712, 0.6848303229337712, 0.6848303229337712, 0.6848303229337712, 0.6848303229337712, 0.6848303229337712, 0.6848303229337712, 0.6848303229337712, 0.6848303229337712, 0.749775588396278, 0.749775588396278]}], \"f1_score_macro\": [{\"categories\": [\"0\", \"1\", \"2\", \"3\", \"4\", \"5\", \"6\", \"7\", \"8\", \"9\", \"10\", \"11\", \"12\", \"13\", \"14\", \"15\", \"16\", \"17\", \"18\", \"19\", \"20\", \"21\", \"22\", \"23\", \"24\", \"25\", \"26\", \"27\", \"28\", \"29\", \"30\", \"31\", \"32\", \"33\", \"34\", \"35\", \"36\", \"37\", \"38\", \"39\", \"40\", \"41\", \"42\", \"43\", \"44\", \"45\"], \"mode\": \"markers\", \"name\": \"f1_score_macro\", \"stepped\": false, \"type\": \"scatter\", \"data\": [0.7388679465825079, 0.7720488985345115, 0.7691211556688563, 0.8221148783818588, 0.7715199859747545, 0.7283552702556909, 0.7471072018805867, 0.7354618986802895, 0.8226942457942338, 0.7722848056240347, 0.7885103010424257, 0.7882574696313096, 0.7757459705193552, 0.769209884820708, 0.8039135326261654, 0.8089046650251223, 0.7817546969159871, 0.8061023563849128, 0.8169072876655147, 0.7799671387866308, 0.8141492311034573, 0.8143490715574777, 0.7874280253797884, 0.8338293415575503, 0.7882574696313096, 0.3993493230625584, 0.7979782742452546, 0.8391153856178487, 0.8040473274168906, 0.7715628995637197, 0.7052310731172519, 0.7787894964284806, 0.7811958566913809, 0.7895727702421554, 0.7963824067719057, 0.8305158078557094, 0.814593160912653, 0.7800623993558776, 0.8144792699356872, 0.7913709677419355, 0.8051162376823076, 0.7802710457443469, 0.8131096669557843, 0.7885614827152918, 0.8904253213124959, 0.8634639143013527]}, {\"categories\": [\"0\", \"1\", \"2\", \"3\", \"4\", \"5\", \"6\", \"7\", \"8\", \"9\", \"10\", \"11\", \"12\", \"13\", \"14\", \"15\", \"16\", \"17\", \"18\", \"19\", \"20\", \"21\", \"22\", \"23\", \"24\", \"25\", \"26\", \"27\", \"28\", \"29\", \"30\", \"31\", \"32\", \"33\", \"34\", \"35\", \"36\", \"37\", \"38\", \"39\", \"40\", \"41\", \"42\", \"43\", \"44\", \"45\"], \"mode\": \"lines\", \"name\": \"f1_score_macro_max\", \"stepped\": true, \"type\": \"scatter\", \"data\": [0.7388679465825079, 0.7720488985345115, 0.7720488985345115, 0.8221148783818588, 0.8221148783818588, 0.8221148783818588, 0.8221148783818588, 0.8221148783818588, 0.8226942457942338, 0.8226942457942338, 0.8226942457942338, 0.8226942457942338, 0.8226942457942338, 0.8226942457942338, 0.8226942457942338, 0.8226942457942338, 0.8226942457942338, 0.8226942457942338, 0.8226942457942338, 0.8226942457942338, 0.8226942457942338, 0.8226942457942338, 0.8226942457942338, 0.8338293415575503, 0.8338293415575503, 0.8338293415575503, 0.8338293415575503, 0.8391153856178487, 0.8391153856178487, 0.8391153856178487, 0.8391153856178487, 0.8391153856178487, 0.8391153856178487, 0.8391153856178487, 0.8391153856178487, 0.8391153856178487, 0.8391153856178487, 0.8391153856178487, 0.8391153856178487, 0.8391153856178487, 0.8391153856178487, 0.8391153856178487, 0.8391153856178487, 0.8391153856178487, 0.8904253213124959, 0.8904253213124959]}], \"average_precision_score_weighted\": [{\"categories\": [\"0\", \"1\", \"2\", \"3\", \"4\", \"5\", \"6\", \"7\", \"8\", \"9\", \"10\", \"11\", \"12\", \"13\", \"14\", \"15\", \"16\", \"17\", \"18\", \"19\", \"20\", \"21\", \"22\", \"23\", \"24\", \"25\", \"26\", \"27\", \"28\", \"29\", \"30\", \"31\", \"32\", \"33\", \"34\", \"35\", \"36\", \"37\", \"38\", \"39\", \"40\", \"41\", \"42\", \"43\", \"44\", \"45\"], \"mode\": \"markers\", \"name\": \"average_precision_score_weighted\", \"stepped\": false, \"type\": \"scatter\", \"data\": [0.8739697472378617, 0.8716359067538844, 0.9199383797480151, 0.9204497386467034, 0.8859418290910935, 0.8385682952244989, 0.9014404686272425, 0.8812990571771047, 0.9096983230079981, 0.88488999615577, 0.909135228975698, 0.9332837944894553, 0.9024445873482977, 0.8419833784514932, 0.9048010963274623, 0.861959414947799, 0.9116213786704174, 0.9094058980083615, 0.9147182403611825, 0.8445374664995078, 0.9245591629762506, 0.9119763693272066, 0.9087359534525516, 0.8987538678652548, 0.9007002850122676, 0.8987165890327042, 0.9044727546936343, 0.9446686386245803, 0.9194666563982242, 0.936643984900072, 0.75876880627377, 0.8826995802005592, 0.9330380045119541, 0.8856620203817765, 0.9025166545373345, 0.929051371703235, 0.9013967603228887, 0.9066991975513067, 0.9039121916303902, 0.9017596015292559, 0.9248671560860258, 0.9113851944419805, 0.926774798073254, 0.9155970810866515, 0.9362186454573886, 0.9365172592226441]}, {\"categories\": [\"0\", \"1\", \"2\", \"3\", \"4\", \"5\", \"6\", \"7\", \"8\", \"9\", \"10\", \"11\", \"12\", \"13\", \"14\", \"15\", \"16\", \"17\", \"18\", \"19\", \"20\", \"21\", \"22\", \"23\", \"24\", \"25\", \"26\", \"27\", \"28\", \"29\", \"30\", \"31\", \"32\", \"33\", \"34\", \"35\", \"36\", \"37\", \"38\", \"39\", \"40\", \"41\", \"42\", \"43\", \"44\", \"45\"], \"mode\": \"lines\", \"name\": \"average_precision_score_weighted_max\", \"stepped\": true, \"type\": \"scatter\", \"data\": [0.8739697472378617, 0.8739697472378617, 0.9199383797480151, 0.9204497386467034, 0.9204497386467034, 0.9204497386467034, 0.9204497386467034, 0.9204497386467034, 0.9204497386467034, 0.9204497386467034, 0.9204497386467034, 0.9332837944894553, 0.9332837944894553, 0.9332837944894553, 0.9332837944894553, 0.9332837944894553, 0.9332837944894553, 0.9332837944894553, 0.9332837944894553, 0.9332837944894553, 0.9332837944894553, 0.9332837944894553, 0.9332837944894553, 0.9332837944894553, 0.9332837944894553, 0.9332837944894553, 0.9332837944894553, 0.9446686386245803, 0.9446686386245803, 0.9446686386245803, 0.9446686386245803, 0.9446686386245803, 0.9446686386245803, 0.9446686386245803, 0.9446686386245803, 0.9446686386245803, 0.9446686386245803, 0.9446686386245803, 0.9446686386245803, 0.9446686386245803, 0.9446686386245803, 0.9446686386245803, 0.9446686386245803, 0.9446686386245803, 0.9446686386245803, 0.9446686386245803]}], \"precision_score_weighted\": [{\"categories\": [\"0\", \"1\", \"2\", \"3\", \"4\", \"5\", \"6\", \"7\", \"8\", \"9\", \"10\", \"11\", \"12\", \"13\", \"14\", \"15\", \"16\", \"17\", \"18\", \"19\", \"20\", \"21\", \"22\", \"23\", \"24\", \"25\", \"26\", \"27\", \"28\", \"29\", \"30\", \"31\", \"32\", \"33\", \"34\", \"35\", \"36\", \"37\", \"38\", \"39\", \"40\", \"41\", \"42\", \"43\", \"44\", \"45\"], \"mode\": \"markers\", \"name\": \"precision_score_weighted\", \"stepped\": false, \"type\": \"scatter\", \"data\": [0.7904448621553885, 0.8157685215541252, 0.8182870163368885, 0.8538493777464365, 0.8173939350409937, 0.7733950871205774, 0.796294957479168, 0.787157809983897, 0.8600433698472915, 0.8109248052001675, 0.8270842039224392, 0.8357328945564239, 0.8143315018315018, 0.808701359027446, 0.8370743085416997, 0.843637330411524, 0.826876826876827, 0.842681701231257, 0.8456886960723278, 0.8206931045382363, 0.8510475172975173, 0.8567990099569047, 0.8226769412031559, 0.8654491701248865, 0.8257502631041668, 0.4475126013587552, 0.8382894112060778, 0.8794096099978453, 0.8393023561405913, 0.8188708951866847, 0.7920576131687241, 0.8145450558205282, 0.8260304378201111, 0.8329686722199825, 0.8360732463993333, 0.8718597524479877, 0.8562474042013682, 0.8189207833420357, 0.848227716581194, 0.8285418285418286, 0.8512851147259749, 0.8212341085986598, 0.8523656898656898, 0.8273577093514164, 0.9153869634638866, 0.8891331396294175]}, {\"categories\": [\"0\", \"1\", \"2\", \"3\", \"4\", \"5\", \"6\", \"7\", \"8\", \"9\", \"10\", \"11\", \"12\", \"13\", \"14\", \"15\", \"16\", \"17\", \"18\", \"19\", \"20\", \"21\", \"22\", \"23\", \"24\", \"25\", \"26\", \"27\", \"28\", \"29\", \"30\", \"31\", \"32\", \"33\", \"34\", \"35\", \"36\", \"37\", \"38\", \"39\", \"40\", \"41\", \"42\", \"43\", \"44\", \"45\"], \"mode\": \"lines\", \"name\": \"precision_score_weighted_max\", \"stepped\": true, \"type\": \"scatter\", \"data\": [0.7904448621553885, 0.8157685215541252, 0.8182870163368885, 0.8538493777464365, 0.8538493777464365, 0.8538493777464365, 0.8538493777464365, 0.8538493777464365, 0.8600433698472915, 0.8600433698472915, 0.8600433698472915, 0.8600433698472915, 0.8600433698472915, 0.8600433698472915, 0.8600433698472915, 0.8600433698472915, 0.8600433698472915, 0.8600433698472915, 0.8600433698472915, 0.8600433698472915, 0.8600433698472915, 0.8600433698472915, 0.8600433698472915, 0.8654491701248865, 0.8654491701248865, 0.8654491701248865, 0.8654491701248865, 0.8794096099978453, 0.8794096099978453, 0.8794096099978453, 0.8794096099978453, 0.8794096099978453, 0.8794096099978453, 0.8794096099978453, 0.8794096099978453, 0.8794096099978453, 0.8794096099978453, 0.8794096099978453, 0.8794096099978453, 0.8794096099978453, 0.8794096099978453, 0.8794096099978453, 0.8794096099978453, 0.8794096099978453, 0.9153869634638866, 0.9153869634638866]}], \"AUC_micro\": [{\"categories\": [\"0\", \"1\", \"2\", \"3\", \"4\", \"5\", \"6\", \"7\", \"8\", \"9\", \"10\", \"11\", \"12\", \"13\", \"14\", \"15\", \"16\", \"17\", \"18\", \"19\", \"20\", \"21\", \"22\", \"23\", \"24\", \"25\", \"26\", \"27\", \"28\", \"29\", \"30\", \"31\", \"32\", \"33\", \"34\", \"35\", \"36\", \"37\", \"38\", \"39\", \"40\", \"41\", \"42\", \"43\", \"44\", \"45\"], \"mode\": \"markers\", \"name\": \"AUC_micro\", \"stepped\": false, \"type\": \"scatter\", \"data\": [0.8711374095989481, 0.8783694937541092, 0.9149682226605304, 0.9201183431952663, 0.9015998246767477, 0.8632478632478632, 0.8967784352399737, 0.886039886039886, 0.9156256848564541, 0.8943677405215866, 0.9068595222441376, 0.9268025421871576, 0.9007232084155161, 0.8783694937541092, 0.900942362480824, 0.8836291913214991, 0.9092702169625246, 0.9055445978522902, 0.9219811527503835, 0.8891080429541969, 0.9215428446197677, 0.9066403681788296, 0.9064212141135218, 0.9064212141135218, 0.895901818978742, 0.8439623055007669, 0.8969975893052816, 0.943019943019943, 0.9169406092483016, 0.9119000657462196, 0.7902695595003287, 0.8921761998685076, 0.9211045364891518, 0.9022572868726715, 0.9092702169625246, 0.925706771860618, 0.9026955950032874, 0.9005040543502082, 0.908612754766601, 0.8974358974358975, 0.9145299145299145, 0.9072978303747533, 0.9182555336401491, 0.9113521805829499, 0.9346920885382423, 0.9327197019504712]}, {\"categories\": [\"0\", \"1\", \"2\", \"3\", \"4\", \"5\", \"6\", \"7\", \"8\", \"9\", \"10\", \"11\", \"12\", \"13\", \"14\", \"15\", \"16\", \"17\", \"18\", \"19\", \"20\", \"21\", \"22\", \"23\", \"24\", \"25\", \"26\", \"27\", \"28\", \"29\", \"30\", \"31\", \"32\", \"33\", \"34\", \"35\", \"36\", \"37\", \"38\", \"39\", \"40\", \"41\", \"42\", \"43\", \"44\", \"45\"], \"mode\": \"lines\", \"name\": \"AUC_micro_max\", \"stepped\": true, \"type\": \"scatter\", \"data\": [0.8711374095989481, 0.8783694937541092, 0.9149682226605304, 0.9201183431952663, 0.9201183431952663, 0.9201183431952663, 0.9201183431952663, 0.9201183431952663, 0.9201183431952663, 0.9201183431952663, 0.9201183431952663, 0.9268025421871576, 0.9268025421871576, 0.9268025421871576, 0.9268025421871576, 0.9268025421871576, 0.9268025421871576, 0.9268025421871576, 0.9268025421871576, 0.9268025421871576, 0.9268025421871576, 0.9268025421871576, 0.9268025421871576, 0.9268025421871576, 0.9268025421871576, 0.9268025421871576, 0.9268025421871576, 0.943019943019943, 0.943019943019943, 0.943019943019943, 0.943019943019943, 0.943019943019943, 0.943019943019943, 0.943019943019943, 0.943019943019943, 0.943019943019943, 0.943019943019943, 0.943019943019943, 0.943019943019943, 0.943019943019943, 0.943019943019943, 0.943019943019943, 0.943019943019943, 0.943019943019943, 0.943019943019943, 0.943019943019943]}], \"recall_score_micro\": [{\"categories\": [\"0\", \"1\", \"2\", \"3\", \"4\", \"5\", \"6\", \"7\", \"8\", \"9\", \"10\", \"11\", \"12\", \"13\", \"14\", \"15\", \"16\", \"17\", \"18\", \"19\", \"20\", \"21\", \"22\", \"23\", \"24\", \"25\", \"26\", \"27\", \"28\", \"29\", \"30\", \"31\", \"32\", \"33\", \"34\", \"35\", \"36\", \"37\", \"38\", \"39\", \"40\", \"41\", \"42\", \"43\", \"44\", \"45\"], \"mode\": \"markers\", \"name\": \"recall_score_micro\", \"stepped\": false, \"type\": \"scatter\", \"data\": [0.7777777777777778, 0.8034188034188033, 0.8205128205128206, 0.8547008547008548, 0.8119658119658119, 0.7777777777777777, 0.7863247863247863, 0.7777777777777777, 0.8547008547008547, 0.8119658119658121, 0.8205128205128206, 0.8290598290598291, 0.8205128205128206, 0.8119658119658121, 0.8376068376068376, 0.8461538461538461, 0.8290598290598291, 0.8376068376068376, 0.8376068376068376, 0.8119658119658121, 0.8461538461538461, 0.8461538461538461, 0.8205128205128204, 0.8547008547008547, 0.8205128205128206, 0.6666666666666666, 0.8290598290598291, 0.8803418803418804, 0.8376068376068376, 0.7948717948717948, 0.717948717948718, 0.8119658119658121, 0.8119658119658119, 0.8205128205128206, 0.8376068376068376, 0.8717948717948718, 0.8461538461538461, 0.8119658119658119, 0.8461538461538461, 0.8290598290598291, 0.8461538461538461, 0.8119658119658119, 0.8547008547008547, 0.8205128205128204, 0.9145299145299145, 0.888888888888889]}, {\"categories\": [\"0\", \"1\", \"2\", \"3\", \"4\", \"5\", \"6\", \"7\", \"8\", \"9\", \"10\", \"11\", \"12\", \"13\", \"14\", \"15\", \"16\", \"17\", \"18\", \"19\", \"20\", \"21\", \"22\", \"23\", \"24\", \"25\", \"26\", \"27\", \"28\", \"29\", \"30\", \"31\", \"32\", \"33\", \"34\", \"35\", \"36\", \"37\", \"38\", \"39\", \"40\", \"41\", \"42\", \"43\", \"44\", \"45\"], \"mode\": \"lines\", \"name\": \"recall_score_micro_max\", \"stepped\": true, \"type\": \"scatter\", \"data\": [0.7777777777777778, 0.8034188034188033, 0.8205128205128206, 0.8547008547008548, 0.8547008547008548, 0.8547008547008548, 0.8547008547008548, 0.8547008547008548, 0.8547008547008548, 0.8547008547008548, 0.8547008547008548, 0.8547008547008548, 0.8547008547008548, 0.8547008547008548, 0.8547008547008548, 0.8547008547008548, 0.8547008547008548, 0.8547008547008548, 0.8547008547008548, 0.8547008547008548, 0.8547008547008548, 0.8547008547008548, 0.8547008547008548, 0.8547008547008548, 0.8547008547008548, 0.8547008547008548, 0.8547008547008548, 0.8803418803418804, 0.8803418803418804, 0.8803418803418804, 0.8803418803418804, 0.8803418803418804, 0.8803418803418804, 0.8803418803418804, 0.8803418803418804, 0.8803418803418804, 0.8803418803418804, 0.8803418803418804, 0.8803418803418804, 0.8803418803418804, 0.8803418803418804, 0.8803418803418804, 0.8803418803418804, 0.8803418803418804, 0.9145299145299145, 0.9145299145299145]}]}, \"metricName\": null, \"primaryMetricName\": \"accuracy\", \"showLegend\": false}, \"run_metrics\": [{\"name\": \"experiment_status\", \"run_id\": \"AutoML_1a05dc79-dcc8-4e4f-bb6b-f7065252b6df\", \"categories\": [0, 1, 2, 3, 4, 5, 6, 7, 8, 9, 10, 11, 12, 13], \"series\": [{\"data\": [\"DatasetEvaluation\", \"FeaturesGeneration\", \"DatasetFeaturization\", \"DatasetFeaturizationCompleted\", \"DatasetCrossValidationSplit\", \"ModelSelection\", \"BestRunExplainModel\", \"ModelExplanationDataSetSetup\", \"PickSurrogateModel\", \"EngineeredFeatureExplanations\", \"EngineeredFeatureExplanations\", \"RawFeaturesExplanations\", \"RawFeaturesExplanations\", \"BestRunExplainModel\"]}]}, {\"name\": \"experiment_status_description\", \"run_id\": \"AutoML_1a05dc79-dcc8-4e4f-bb6b-f7065252b6df\", \"categories\": [0, 1, 2, 3, 4, 5, 6, 7, 8, 9, 10, 11, 12, 13], \"series\": [{\"data\": [\"Gathering dataset statistics.\", \"Generating features for the dataset.\", \"Beginning to fit featurizers and featurize the dataset.\", \"Completed fit featurizers and featurizing the dataset.\", \"Generating individually featurized CV splits.\", \"Beginning model selection.\", \"Best run model explanations started\", \"Model explanations data setup completed\", \"Choosing LightGBM as the surrogate model for explanations\", \"Computation of engineered features started\", \"Computation of engineered features completed\", \"Computation of raw features started\", \"Computation of raw features completed\", \"Best run model explanations completed\"]}]}, {\"name\": \"recall_score_weighted\", \"run_id\": \"AutoML_1a05dc79-dcc8-4e4f-bb6b-f7065252b6df\", \"categories\": [0], \"series\": [{\"data\": [0.9145299145299145]}]}, {\"name\": \"recall_score_micro\", \"run_id\": \"AutoML_1a05dc79-dcc8-4e4f-bb6b-f7065252b6df\", \"categories\": [0], \"series\": [{\"data\": [0.9145299145299145]}]}, {\"name\": \"precision_score_macro\", \"run_id\": \"AutoML_1a05dc79-dcc8-4e4f-bb6b-f7065252b6df\", \"categories\": [0], \"series\": [{\"data\": [0.9168956043956045]}]}, {\"name\": \"f1_score_weighted\", \"run_id\": \"AutoML_1a05dc79-dcc8-4e4f-bb6b-f7065252b6df\", \"categories\": [0], \"series\": [{\"data\": [0.9113179656991935]}]}, {\"name\": \"precision_score_weighted\", \"run_id\": \"AutoML_1a05dc79-dcc8-4e4f-bb6b-f7065252b6df\", \"categories\": [0], \"series\": [{\"data\": [0.9153869634638866]}]}, {\"name\": \"f1_score_micro\", \"run_id\": \"AutoML_1a05dc79-dcc8-4e4f-bb6b-f7065252b6df\", \"categories\": [0], \"series\": [{\"data\": [0.9145299145299145]}]}, {\"name\": \"precision_score_micro\", \"run_id\": \"AutoML_1a05dc79-dcc8-4e4f-bb6b-f7065252b6df\", \"categories\": [0], \"series\": [{\"data\": [0.9145299145299145]}]}, {\"name\": \"weighted_accuracy\", \"run_id\": \"AutoML_1a05dc79-dcc8-4e4f-bb6b-f7065252b6df\", \"categories\": [0], \"series\": [{\"data\": [0.9415550491961767]}]}, {\"name\": \"norm_macro_recall\", \"run_id\": \"AutoML_1a05dc79-dcc8-4e4f-bb6b-f7065252b6df\", \"categories\": [0], \"series\": [{\"data\": [0.749775588396278]}]}, {\"name\": \"AUC_micro\", \"run_id\": \"AutoML_1a05dc79-dcc8-4e4f-bb6b-f7065252b6df\", \"categories\": [0], \"series\": [{\"data\": [0.9346920885382423]}]}, {\"name\": \"f1_score_macro\", \"run_id\": \"AutoML_1a05dc79-dcc8-4e4f-bb6b-f7065252b6df\", \"categories\": [0], \"series\": [{\"data\": [0.8904253213124959]}]}, {\"name\": \"AUC_weighted\", \"run_id\": \"AutoML_1a05dc79-dcc8-4e4f-bb6b-f7065252b6df\", \"categories\": [0], \"series\": [{\"data\": [0.9256203247582558]}]}, {\"name\": \"matthews_correlation\", \"run_id\": \"AutoML_1a05dc79-dcc8-4e4f-bb6b-f7065252b6df\", \"categories\": [0], \"series\": [{\"data\": [0.7898026575696399]}]}, {\"name\": \"average_precision_score_weighted\", \"run_id\": \"AutoML_1a05dc79-dcc8-4e4f-bb6b-f7065252b6df\", \"categories\": [0], \"series\": [{\"data\": [0.9362186454573886]}]}, {\"name\": \"recall_score_macro\", \"run_id\": \"AutoML_1a05dc79-dcc8-4e4f-bb6b-f7065252b6df\", \"categories\": [0], \"series\": [{\"data\": [0.8748877941981391]}]}, {\"name\": \"balanced_accuracy\", \"run_id\": \"AutoML_1a05dc79-dcc8-4e4f-bb6b-f7065252b6df\", \"categories\": [0], \"series\": [{\"data\": [0.8748877941981391]}]}, {\"name\": \"accuracy\", \"run_id\": \"AutoML_1a05dc79-dcc8-4e4f-bb6b-f7065252b6df\", \"categories\": [0], \"series\": [{\"data\": [0.9145299145299145]}]}, {\"name\": \"log_loss\", \"run_id\": \"AutoML_1a05dc79-dcc8-4e4f-bb6b-f7065252b6df\", \"categories\": [0], \"series\": [{\"data\": [0.3922144640399667]}]}, {\"name\": \"average_precision_score_macro\", \"run_id\": \"AutoML_1a05dc79-dcc8-4e4f-bb6b-f7065252b6df\", \"categories\": [0], \"series\": [{\"data\": [0.9171005964009072]}]}, {\"name\": \"average_precision_score_micro\", \"run_id\": \"AutoML_1a05dc79-dcc8-4e4f-bb6b-f7065252b6df\", \"categories\": [0], \"series\": [{\"data\": [0.9345898326701384]}]}, {\"name\": \"AUC_macro\", \"run_id\": \"AutoML_1a05dc79-dcc8-4e4f-bb6b-f7065252b6df\", \"categories\": [0], \"series\": [{\"data\": [0.9256203247582558]}]}], \"run_logs\": \"\\nRun is completed.\", \"graph\": {}, \"widget_settings\": {\"childWidgetDisplay\": \"popup\", \"send_telemetry\": false, \"log_level\": \"INFO\", \"sdk_version\": \"1.20.0\"}, \"loading\": false}"
          },
          "metadata": {}
        },
        {
          "output_type": "stream",
          "name": "stdout",
          "text": [
            "\n",
            "\n",
            "****************************************************************************************************\n",
            "DATA GUARDRAILS: \n",
            "\n",
            "TYPE:         Class balancing detection\n",
            "STATUS:       PASSED\n",
            "DESCRIPTION:  Your inputs were analyzed, and all classes are balanced in your training data.\n",
            "              Learn more about imbalanced data: https://aka.ms/AutomatedMLImbalancedData\n",
            "\n",
            "****************************************************************************************************\n",
            "\n",
            "TYPE:         Missing feature values imputation\n",
            "STATUS:       PASSED\n",
            "DESCRIPTION:  No feature missing values were detected in the training data.\n",
            "              Learn more about missing value imputation: https://aka.ms/AutomatedMLFeaturization\n",
            "\n",
            "****************************************************************************************************\n",
            "\n",
            "TYPE:         High cardinality feature detection\n",
            "STATUS:       PASSED\n",
            "DESCRIPTION:  Your inputs were analyzed, and no high cardinality features were detected.\n",
            "              Learn more about high cardinality feature handling: https://aka.ms/AutomatedMLFeaturization\n",
            "\n",
            "****************************************************************************************************\n",
            "\n",
            "****************************************************************************************************\n",
            "ITERATION: The iteration being evaluated.\n",
            "PIPELINE: A summary description of the pipeline being evaluated.\n",
            "DURATION: Time taken for the current iteration.\n",
            "METRIC: The result of computing score on the fitted pipeline.\n",
            "BEST: The best observed score thus far.\n",
            "****************************************************************************************************\n",
            "\n",
            " ITERATION   PIPELINE                                       DURATION      METRIC      BEST\n",
            "         0   MaxAbsScaler LightGBM                          0:03:59       0.7778    0.7778\n",
            "         1   MaxAbsScaler XGBoostClassifier                 0:03:36       0.8034    0.8034\n",
            "         2   MinMaxScaler RandomForest                      0:00:52       0.8205    0.8205\n",
            "         3   MinMaxScaler RandomForest                      0:00:54       0.8547    0.8547\n",
            "         4   MinMaxScaler RandomForest                      0:03:50       0.8120    0.8547\n",
            "         5   MinMaxScaler SVM                               0:00:49       0.7778    0.8547\n",
            "         6   MaxAbsScaler GradientBoosting                  0:01:03       0.7863    0.8547\n",
            "         7   SparseNormalizer LightGBM                      0:00:57       0.7778    0.8547\n",
            "        10   StandardScalerWrapper RandomForest             0:00:56       0.8205    0.8547\n",
            "        11   RobustScaler ExtremeRandomTrees                0:00:55       0.8291    0.8547\n",
            "         8   SparseNormalizer XGBoostClassifier             0:01:02       0.8547    0.8547\n",
            "         9   SparseNormalizer XGBoostClassifier             0:00:55       0.8120    0.8547\n",
            "        12   MinMaxScaler LightGBM                          0:00:50       0.8205    0.8547\n",
            "        13   MaxAbsScaler LightGBM                          0:00:55       0.8120    0.8547\n",
            "        14   StandardScalerWrapper RandomForest             0:00:52       0.8376    0.8547\n",
            "        15   StandardScalerWrapper LightGBM                 0:00:52       0.8462    0.8547\n",
            "        16   RobustScaler LightGBM                          0:01:00       0.8291    0.8547\n",
            "        17   MinMaxScaler LightGBM                          0:00:57       0.8376    0.8547\n",
            "        18   SparseNormalizer LightGBM                      0:00:45       0.8376    0.8547\n",
            "        19   RobustScaler LightGBM                          0:00:50       0.8120    0.8547\n",
            "        20   StandardScalerWrapper RandomForest             0:00:53       0.8462    0.8547\n",
            "        21   StandardScalerWrapper LightGBM                 0:00:53       0.8462    0.8547\n",
            "        22   MaxAbsScaler LightGBM                          0:00:50       0.8205    0.8547\n",
            "        23   SparseNormalizer XGBoostClassifier             0:00:56       0.8547    0.8547\n",
            "        24   MinMaxScaler LightGBM                          0:00:51       0.8205    0.8547\n",
            "        25   StandardScalerWrapper RandomForest             0:00:53       0.6667    0.8547\n",
            "        26   StandardScalerWrapper XGBoostClassifier        0:00:53       0.8291    0.8547\n",
            "        27   StandardScalerWrapper ExtremeRandomTrees       0:00:55       0.8803    0.8803\n",
            "        28   RobustScaler RandomForest                      0:01:07       0.8376    0.8803\n",
            "        29   MaxAbsScaler ExtremeRandomTrees                0:00:58       0.7949    0.8803\n",
            "        30   SparseNormalizer RandomForest                  0:00:51       0.7179    0.8803\n",
            "        31   MinMaxScaler LightGBM                          0:00:47       0.8120    0.8803\n",
            "        32   MinMaxScaler LogisticRegression                0:00:52       0.8120    0.8803\n",
            "        33   StandardScalerWrapper XGBoostClassifier        0:00:54       0.8205    0.8803\n",
            "        34   StandardScalerWrapper XGBoostClassifier        0:00:49       0.8376    0.8803\n",
            "        35   RobustScaler ExtremeRandomTrees                0:00:51       0.8718    0.8803\n",
            "        36   StandardScalerWrapper LightGBM                 0:00:53       0.8462    0.8803\n",
            "        37   StandardScalerWrapper XGBoostClassifier        0:00:46       0.8120    0.8803\n",
            "        38   StandardScalerWrapper LightGBM                 0:00:48       0.8462    0.8803\n",
            "        39   StandardScalerWrapper LightGBM                 0:00:52       0.8291    0.8803\n",
            "        40   StandardScalerWrapper ExtremeRandomTrees       0:01:05       0.8462    0.8803\n",
            "        41   MaxAbsScaler RandomForest                      0:00:54       0.8120    0.8803\n",
            "        42   StandardScalerWrapper ExtremeRandomTrees       0:00:59       0.8547    0.8803\n",
            "        43   MinMaxScaler RandomForest                      0:00:49       0.8205    0.8803\n",
            "        44    VotingEnsemble                                0:01:35       0.9145    0.9145\n",
            "        45    StackEnsemble                                 0:01:33       0.8889    0.9145\n"
          ]
        },
        {
          "output_type": "execute_result",
          "execution_count": 30,
          "data": {
            "text/plain": "{'runId': 'AutoML_1a05dc79-dcc8-4e4f-bb6b-f7065252b6df',\n 'target': 'computeluster',\n 'status': 'Completed',\n 'startTimeUtc': '2021-02-11T17:16:27.876278Z',\n 'endTimeUtc': '2021-02-11T17:40:13.451169Z',\n 'properties': {'num_iterations': '1000',\n  'training_type': 'TrainFull',\n  'acquisition_function': 'EI',\n  'primary_metric': 'accuracy',\n  'train_split': '0',\n  'acquisition_parameter': '0',\n  'num_cross_validation': '3',\n  'target': 'computeluster',\n  'AMLSettingsJsonString': '{\"path\":null,\"name\":\"placement_prediction\",\"subscription_id\":\"6b4af8be-9931-443e-90f6-c4c34a1f9737\",\"resource_group\":\"aml-quickstarts-138594\",\"workspace_name\":\"quick-starts-ws-138594\",\"region\":\"southcentralus\",\"compute_target\":\"computeluster\",\"spark_service\":null,\"azure_service\":\"remote\",\"many_models\":false,\"pipeline_fetch_max_batch_size\":1,\"iterations\":1000,\"primary_metric\":\"accuracy\",\"task_type\":\"classification\",\"data_script\":null,\"validation_size\":0.0,\"n_cross_validations\":3,\"y_min\":null,\"y_max\":null,\"num_classes\":null,\"featurization\":\"auto\",\"_ignore_package_version_incompatibilities\":false,\"is_timeseries\":false,\"max_cores_per_iteration\":-1,\"max_concurrent_iterations\":4,\"iteration_timeout_minutes\":null,\"mem_in_mb\":null,\"enforce_time_on_windows\":false,\"experiment_timeout_minutes\":30,\"experiment_exit_score\":null,\"whitelist_models\":null,\"blacklist_algos\":[\"TensorFlowLinearClassifier\",\"TensorFlowDNN\"],\"supported_models\":[\"GradientBoosting\",\"AveragedPerceptronClassifier\",\"ExtremeRandomTrees\",\"SVM\",\"DecisionTree\",\"LightGBM\",\"TensorFlowLinearClassifier\",\"KNN\",\"XGBoostClassifier\",\"LinearSVM\",\"SGD\",\"MultinomialNaiveBayes\",\"BernoulliNaiveBayes\",\"TensorFlowDNN\",\"RandomForest\",\"LogisticRegression\"],\"auto_blacklist\":true,\"blacklist_samples_reached\":false,\"exclude_nan_labels\":true,\"verbosity\":20,\"_debug_log\":\"azureml_automl.log\",\"show_warnings\":false,\"model_explainability\":true,\"service_url\":null,\"sdk_url\":null,\"sdk_packages\":null,\"enable_onnx_compatible_models\":false,\"enable_split_onnx_featurizer_estimator_models\":false,\"vm_type\":\"STANDARD_D2_V2\",\"telemetry_verbosity\":20,\"send_telemetry\":true,\"enable_dnn\":false,\"scenario\":\"SDK-1.13.0\",\"environment_label\":null,\"force_text_dnn\":false,\"enable_feature_sweeping\":true,\"enable_early_stopping\":true,\"early_stopping_n_iters\":10,\"metrics\":null,\"enable_ensembling\":true,\"enable_stack_ensembling\":true,\"ensemble_iterations\":15,\"enable_tf\":false,\"enable_subsampling\":null,\"subsample_seed\":null,\"enable_nimbusml\":false,\"enable_streaming\":false,\"force_streaming\":false,\"track_child_runs\":true,\"allowed_private_models\":[],\"label_column_name\":\"placement_status\",\"weight_column_name\":null,\"cv_split_column_names\":null,\"enable_local_managed\":false,\"_local_managed_run_id\":null,\"cost_mode\":1,\"lag_length\":0,\"metric_operation\":\"maximize\",\"preprocess\":true}',\n  'DataPrepJsonString': '{\\\\\"training_data\\\\\": \\\\\"{\\\\\\\\\\\\\"blocks\\\\\\\\\\\\\": [{\\\\\\\\\\\\\"id\\\\\\\\\\\\\": \\\\\\\\\\\\\"70c2cd63-3306-4435-a347-e82401622e3e\\\\\\\\\\\\\", \\\\\\\\\\\\\"type\\\\\\\\\\\\\": \\\\\\\\\\\\\"Microsoft.DPrep.GetFilesBlock\\\\\\\\\\\\\", \\\\\\\\\\\\\"arguments\\\\\\\\\\\\\": {\\\\\\\\\\\\\"isArchive\\\\\\\\\\\\\": false, \\\\\\\\\\\\\"path\\\\\\\\\\\\\": {\\\\\\\\\\\\\"target\\\\\\\\\\\\\": 4, \\\\\\\\\\\\\"resourceDetails\\\\\\\\\\\\\": [{\\\\\\\\\\\\\"path\\\\\\\\\\\\\": \\\\\\\\\\\\\"https://raw.githubusercontent.com/gaganmanku96/Capstone-Project-Azure-Machine-Learning/master/students_placement_data.csv\\\\\\\\\\\\\"}]}}, \\\\\\\\\\\\\"localData\\\\\\\\\\\\\": {}, \\\\\\\\\\\\\"isEnabled\\\\\\\\\\\\\": true, \\\\\\\\\\\\\"name\\\\\\\\\\\\\": null, \\\\\\\\\\\\\"annotation\\\\\\\\\\\\\": null}, {\\\\\\\\\\\\\"id\\\\\\\\\\\\\": \\\\\\\\\\\\\"c2b56b1d-e955-4254-a60e-a7661e12f184\\\\\\\\\\\\\", \\\\\\\\\\\\\"type\\\\\\\\\\\\\": \\\\\\\\\\\\\"Microsoft.DPrep.ParseDelimitedBlock\\\\\\\\\\\\\", \\\\\\\\\\\\\"arguments\\\\\\\\\\\\\": {\\\\\\\\\\\\\"columnHeadersMode\\\\\\\\\\\\\": 3, \\\\\\\\\\\\\"fileEncoding\\\\\\\\\\\\\": 0, \\\\\\\\\\\\\"handleQuotedLineBreaks\\\\\\\\\\\\\": false, \\\\\\\\\\\\\"preview\\\\\\\\\\\\\": false, \\\\\\\\\\\\\"separator\\\\\\\\\\\\\": \\\\\\\\\\\\\",\\\\\\\\\\\\\", \\\\\\\\\\\\\"skipRows\\\\\\\\\\\\\": 0, \\\\\\\\\\\\\"skipRowsMode\\\\\\\\\\\\\": 0}, \\\\\\\\\\\\\"localData\\\\\\\\\\\\\": {}, \\\\\\\\\\\\\"isEnabled\\\\\\\\\\\\\": true, \\\\\\\\\\\\\"name\\\\\\\\\\\\\": null, \\\\\\\\\\\\\"annotation\\\\\\\\\\\\\": null}, {\\\\\\\\\\\\\"id\\\\\\\\\\\\\": \\\\\\\\\\\\\"be447d1b-4496-4ca9-b590-24ee6b1a403b\\\\\\\\\\\\\", \\\\\\\\\\\\\"type\\\\\\\\\\\\\": \\\\\\\\\\\\\"Microsoft.DPrep.DropColumnsBlock\\\\\\\\\\\\\", \\\\\\\\\\\\\"arguments\\\\\\\\\\\\\": {\\\\\\\\\\\\\"columns\\\\\\\\\\\\\": {\\\\\\\\\\\\\"type\\\\\\\\\\\\\": 0, \\\\\\\\\\\\\"details\\\\\\\\\\\\\": {\\\\\\\\\\\\\"selectedColumns\\\\\\\\\\\\\": [\\\\\\\\\\\\\"Path\\\\\\\\\\\\\"]}}}, \\\\\\\\\\\\\"localData\\\\\\\\\\\\\": {}, \\\\\\\\\\\\\"isEnabled\\\\\\\\\\\\\": true, \\\\\\\\\\\\\"name\\\\\\\\\\\\\": null, \\\\\\\\\\\\\"annotation\\\\\\\\\\\\\": null}, {\\\\\\\\\\\\\"id\\\\\\\\\\\\\": \\\\\\\\\\\\\"9b08006a-2260-4e46-94cc-dfdb390cb24f\\\\\\\\\\\\\", \\\\\\\\\\\\\"type\\\\\\\\\\\\\": \\\\\\\\\\\\\"Microsoft.DPrep.SetColumnTypesBlock\\\\\\\\\\\\\", \\\\\\\\\\\\\"arguments\\\\\\\\\\\\\": {\\\\\\\\\\\\\"columnConversion\\\\\\\\\\\\\": [{\\\\\\\\\\\\\"column\\\\\\\\\\\\\": {\\\\\\\\\\\\\"type\\\\\\\\\\\\\": 2, \\\\\\\\\\\\\"details\\\\\\\\\\\\\": {\\\\\\\\\\\\\"selectedColumn\\\\\\\\\\\\\": \\\\\\\\\\\\\"roll_no\\\\\\\\\\\\\"}}, \\\\\\\\\\\\\"typeProperty\\\\\\\\\\\\\": 2}, {\\\\\\\\\\\\\"column\\\\\\\\\\\\\": {\\\\\\\\\\\\\"type\\\\\\\\\\\\\": 2, \\\\\\\\\\\\\"details\\\\\\\\\\\\\": {\\\\\\\\\\\\\"selectedColumn\\\\\\\\\\\\\": \\\\\\\\\\\\\"gender\\\\\\\\\\\\\"}}, \\\\\\\\\\\\\"typeProperty\\\\\\\\\\\\\": 0}, {\\\\\\\\\\\\\"column\\\\\\\\\\\\\": {\\\\\\\\\\\\\"type\\\\\\\\\\\\\": 2, \\\\\\\\\\\\\"details\\\\\\\\\\\\\": {\\\\\\\\\\\\\"selectedColumn\\\\\\\\\\\\\": \\\\\\\\\\\\\"section\\\\\\\\\\\\\"}}, \\\\\\\\\\\\\"typeProperty\\\\\\\\\\\\\": 0}, {\\\\\\\\\\\\\"column\\\\\\\\\\\\\": {\\\\\\\\\\\\\"type\\\\\\\\\\\\\": 2, \\\\\\\\\\\\\"details\\\\\\\\\\\\\": {\\\\\\\\\\\\\"selectedColumn\\\\\\\\\\\\\": \\\\\\\\\\\\\"SSC_percentage\\\\\\\\\\\\\"}}, \\\\\\\\\\\\\"typeProperty\\\\\\\\\\\\\": 3}, {\\\\\\\\\\\\\"column\\\\\\\\\\\\\": {\\\\\\\\\\\\\"type\\\\\\\\\\\\\": 2, \\\\\\\\\\\\\"details\\\\\\\\\\\\\": {\\\\\\\\\\\\\"selectedColumn\\\\\\\\\\\\\": \\\\\\\\\\\\\"inter_diploma_percentage\\\\\\\\\\\\\"}}, \\\\\\\\\\\\\"typeProperty\\\\\\\\\\\\\": 3}, {\\\\\\\\\\\\\"column\\\\\\\\\\\\\": {\\\\\\\\\\\\\"type\\\\\\\\\\\\\": 2, \\\\\\\\\\\\\"details\\\\\\\\\\\\\": {\\\\\\\\\\\\\"selectedColumn\\\\\\\\\\\\\": \\\\\\\\\\\\\"undergraduation_percentage\\\\\\\\\\\\\"}}, \\\\\\\\\\\\\"typeProperty\\\\\\\\\\\\\": 3}, {\\\\\\\\\\\\\"column\\\\\\\\\\\\\": {\\\\\\\\\\\\\"type\\\\\\\\\\\\\": 2, \\\\\\\\\\\\\"details\\\\\\\\\\\\\": {\\\\\\\\\\\\\"selectedColumn\\\\\\\\\\\\\": \\\\\\\\\\\\\"n_backlogs\\\\\\\\\\\\\"}}, \\\\\\\\\\\\\"typeProperty\\\\\\\\\\\\\": 2}, {\\\\\\\\\\\\\"column\\\\\\\\\\\\\": {\\\\\\\\\\\\\"type\\\\\\\\\\\\\": 2, \\\\\\\\\\\\\"details\\\\\\\\\\\\\": {\\\\\\\\\\\\\"selectedColumn\\\\\\\\\\\\\": \\\\\\\\\\\\\"registered_for_placement_training\\\\\\\\\\\\\"}}, \\\\\\\\\\\\\"typeProperty\\\\\\\\\\\\\": 1}, {\\\\\\\\\\\\\"column\\\\\\\\\\\\\": {\\\\\\\\\\\\\"type\\\\\\\\\\\\\": 2, \\\\\\\\\\\\\"details\\\\\\\\\\\\\": {\\\\\\\\\\\\\"selectedColumn\\\\\\\\\\\\\": \\\\\\\\\\\\\"placement_status\\\\\\\\\\\\\"}}, \\\\\\\\\\\\\"typeProperty\\\\\\\\\\\\\": 0}]}, \\\\\\\\\\\\\"localData\\\\\\\\\\\\\": {}, \\\\\\\\\\\\\"isEnabled\\\\\\\\\\\\\": true, \\\\\\\\\\\\\"name\\\\\\\\\\\\\": null, \\\\\\\\\\\\\"annotation\\\\\\\\\\\\\": null}], \\\\\\\\\\\\\"inspectors\\\\\\\\\\\\\": [], \\\\\\\\\\\\\"meta\\\\\\\\\\\\\": {\\\\\\\\\\\\\"savedDatasetId\\\\\\\\\\\\\": \\\\\\\\\\\\\"87193310-c9ea-4daf-8683-a72862e09ee6\\\\\\\\\\\\\", \\\\\\\\\\\\\"datasetType\\\\\\\\\\\\\": \\\\\\\\\\\\\"tabular\\\\\\\\\\\\\", \\\\\\\\\\\\\"subscriptionId\\\\\\\\\\\\\": \\\\\\\\\\\\\"6b4af8be-9931-443e-90f6-c4c34a1f9737\\\\\\\\\\\\\", \\\\\\\\\\\\\"workspaceId\\\\\\\\\\\\\": \\\\\\\\\\\\\"0750d223-0157-43e4-a234-85c6b611aa98\\\\\\\\\\\\\", \\\\\\\\\\\\\"workspaceLocation\\\\\\\\\\\\\": \\\\\\\\\\\\\"southcentralus\\\\\\\\\\\\\"}}\\\\\", \\\\\"activities\\\\\": 0}',\n  'EnableSubsampling': None,\n  'runTemplate': 'AutoML',\n  'azureml.runsource': 'automl',\n  'display_task_type': 'classification',\n  'dependencies_versions': '{\"azureml-widgets\": \"1.20.0\", \"azureml-train\": \"1.20.0\", \"azureml-train-restclients-hyperdrive\": \"1.20.0\", \"azureml-train-core\": \"1.20.0\", \"azureml-train-automl\": \"1.20.0\", \"azureml-train-automl-runtime\": \"1.20.0\", \"azureml-train-automl-client\": \"1.20.0\", \"azureml-tensorboard\": \"1.20.0\", \"azureml-telemetry\": \"1.20.0\", \"azureml-sdk\": \"1.20.0\", \"azureml-samples\": \"0+unknown\", \"azureml-pipeline\": \"1.20.0\", \"azureml-pipeline-steps\": \"1.20.0\", \"azureml-pipeline-core\": \"1.20.0\", \"azureml-opendatasets\": \"1.20.0\", \"azureml-model-management-sdk\": \"1.0.1b6.post1\", \"azureml-mlflow\": \"1.20.0.post1\", \"azureml-interpret\": \"1.20.0\", \"azureml-explain-model\": \"1.20.0\", \"azureml-defaults\": \"1.20.0\", \"azureml-dataset-runtime\": \"1.20.0\", \"azureml-dataprep\": \"2.7.3\", \"azureml-dataprep-rslex\": \"1.5.0\", \"azureml-dataprep-native\": \"27.0.0\", \"azureml-datadrift\": \"1.20.0\", \"azureml-core\": \"1.20.0\", \"azureml-contrib-services\": \"1.20.0\", \"azureml-contrib-server\": \"1.20.0\", \"azureml-contrib-reinforcementlearning\": \"1.20.0\", \"azureml-contrib-pipeline-steps\": \"1.20.0\", \"azureml-contrib-notebook\": \"1.20.0\", \"azureml-contrib-interpret\": \"1.20.0\", \"azureml-contrib-gbdt\": \"1.20.0\", \"azureml-contrib-fairness\": \"1.20.0\", \"azureml-contrib-dataset\": \"1.20.0\", \"azureml-cli-common\": \"1.20.0\", \"azureml-automl-runtime\": \"1.20.0\", \"azureml-automl-core\": \"1.20.0\", \"azureml-accel-models\": \"1.20.0\"}',\n  '_aml_system_scenario_identification': 'Remote.Parent',\n  'ClientType': 'SDK',\n  'environment_cpu_name': 'AzureML-AutoML',\n  'environment_cpu_label': 'prod',\n  'environment_gpu_name': 'AzureML-AutoML-GPU',\n  'environment_gpu_label': 'prod',\n  'root_attribution': 'automl',\n  'attribution': 'AutoML',\n  'Orchestrator': 'AutoML',\n  'CancelUri': 'https://southcentralus.experiments.azureml.net/jasmine/v1.0/subscriptions/6b4af8be-9931-443e-90f6-c4c34a1f9737/resourceGroups/aml-quickstarts-138594/providers/Microsoft.MachineLearningServices/workspaces/quick-starts-ws-138594/experimentids/a005ef7a-ad4c-44e9-a450-9544310313f2/cancel/AutoML_1a05dc79-dcc8-4e4f-bb6b-f7065252b6df',\n  'ClientSdkVersion': '1.21.0',\n  'snapshotId': '00000000-0000-0000-0000-000000000000',\n  'SetupRunId': 'AutoML_1a05dc79-dcc8-4e4f-bb6b-f7065252b6df_setup',\n  'SetupRunContainerId': 'dcid.AutoML_1a05dc79-dcc8-4e4f-bb6b-f7065252b6df_setup',\n  'FeaturizationRunJsonPath': 'featurizer_container.json',\n  'FeaturizationRunId': 'AutoML_1a05dc79-dcc8-4e4f-bb6b-f7065252b6df_featurize',\n  'ProblemInfoJsonString': '{\"dataset_num_categorical\": 0, \"is_sparse\": false, \"subsampling\": false, \"dataset_classes\": 2, \"dataset_features\": 8, \"dataset_samples\": 117, \"single_frequency_class_detected\": false}',\n  'ModelExplainRunId': 'AutoML_1a05dc79-dcc8-4e4f-bb6b-f7065252b6df_ModelExplain'},\n 'inputDatasets': [{'dataset': {'id': '87193310-c9ea-4daf-8683-a72862e09ee6'}, 'consumptionDetails': {'type': 'RunInput', 'inputName': 'training_data', 'mechanism': 'Direct'}}],\n 'outputDatasets': [],\n 'logFiles': {},\n 'submittedBy': 'ODL_User 138594'}"
          },
          "metadata": {}
        }
      ],
      "execution_count": 30,
      "metadata": {
        "gather": {
          "logged": 1613065570901
        },
        "jupyter": {
          "outputs_hidden": false,
          "source_hidden": false
        },
        "nteract": {
          "transient": {
            "deleting": false
          }
        }
      }
    },
    {
      "cell_type": "markdown",
      "source": [
        "## Best Model\n",
        "\n",
        "TODO: In the cell below, get the best model from the automl experiments and display all the properties of the model.\n",
        "\n"
      ],
      "metadata": {}
    },
    {
      "cell_type": "code",
      "source": [
        "best_run, fitted_model = remote_run.get_output()\r\n",
        "print(best_run)\r\n",
        "print(fitted_model)\r\n",
        "best_run_metrics = best_run.get_metrics()\r\n",
        "for metric_name in best_run_metrics:\r\n",
        "    metric = best_run_metrics[metric_name]\r\n",
        "    print(metric_name, metric)"
      ],
      "outputs": [
        {
          "output_type": "stream",
          "name": "stderr",
          "text": [
            "WARNING:root:The version of the SDK does not match the version the model was trained on.\n",
            "WARNING:root:The consistency in the result may not be guaranteed.\n",
            "WARNING:root:Package:azureml-automl-core, training version:1.21.0, current version:1.20.0\n",
            "Package:azureml-automl-runtime, training version:1.21.0, current version:1.20.0\n",
            "Package:azureml-core, training version:1.21.0.post1, current version:1.20.0\n",
            "Package:azureml-dataprep, training version:2.8.2, current version:2.7.3\n",
            "Package:azureml-dataprep-native, training version:28.0.0, current version:27.0.0\n",
            "Package:azureml-dataprep-rslex, training version:1.6.0, current version:1.5.0\n",
            "Package:azureml-dataset-runtime, training version:1.21.0, current version:1.20.0\n",
            "Package:azureml-defaults, training version:1.21.0, current version:1.20.0\n",
            "Package:azureml-interpret, training version:1.21.0, current version:1.20.0\n",
            "Package:azureml-pipeline-core, training version:1.21.0, current version:1.20.0\n",
            "Package:azureml-telemetry, training version:1.21.0, current version:1.20.0\n",
            "Package:azureml-train-automl-client, training version:1.21.0, current version:1.20.0\n",
            "Package:azureml-train-automl-runtime, training version:1.21.0, current version:1.20.0\n",
            "WARNING:root:Please ensure the version of your local conda dependencies match the version on which your model was trained in order to properly retrieve your model.\n"
          ]
        },
        {
          "output_type": "stream",
          "name": "stdout",
          "text": [
            "Run(Experiment: placement_prediction,\n",
            "Id: AutoML_1a05dc79-dcc8-4e4f-bb6b-f7065252b6df_44,\n",
            "Type: azureml.scriptrun,\n",
            "Status: Completed)\n",
            "Pipeline(memory=None,\n",
            "         steps=[('datatransformer',\n",
            "                 DataTransformer(enable_dnn=None, enable_feature_sweeping=None,\n",
            "                                 feature_sweeping_config=None,\n",
            "                                 feature_sweeping_timeout=None,\n",
            "                                 featurization_config=None, force_text_dnn=None,\n",
            "                                 is_cross_validation=None,\n",
            "                                 is_onnx_compatible=None, logger=None,\n",
            "                                 observer=None, task=None, working_dir=None)),\n",
            "                ('prefittedsoftvotingclassifier',...\n",
            "                                                                                                    min_impurity_decrease=0.0,\n",
            "                                                                                                    min_impurity_split=None,\n",
            "                                                                                                    min_samples_leaf=0.3194736842105263,\n",
            "                                                                                                    min_samples_split=0.6657894736842105,\n",
            "                                                                                                    min_weight_fraction_leaf=0.0,\n",
            "                                                                                                    n_estimators=400,\n",
            "                                                                                                    n_jobs=-1,\n",
            "                                                                                                    oob_score=True,\n",
            "                                                                                                    random_state=None,\n",
            "                                                                                                    verbose=0,\n",
            "                                                                                                    warm_start=False))],\n",
            "                                                                     verbose=False))],\n",
            "                                               flatten_transform=None,\n",
            "                                               weights=[0.125, 0.125, 0.125,\n",
            "                                                        0.125, 0.125, 0.25,\n",
            "                                                        0.125]))],\n",
            "         verbose=False)\n",
            "Y_transformer(['LabelEncoder', LabelEncoder()])\n",
            "AUC_macro 0.9256203247582558\n",
            "average_precision_score_micro 0.9345898326701384\n",
            "norm_macro_recall 0.749775588396278\n",
            "f1_score_macro 0.8904253213124959\n",
            "f1_score_micro 0.9145299145299145\n",
            "matthews_correlation 0.7898026575696399\n",
            "accuracy 0.9145299145299145\n",
            "weighted_accuracy 0.9415550491961767\n",
            "precision_score_micro 0.9145299145299145\n",
            "AUC_weighted 0.9256203247582558\n",
            "balanced_accuracy 0.8748877941981391\n",
            "precision_score_weighted 0.9153869634638866\n",
            "recall_score_macro 0.8748877941981391\n",
            "recall_score_weighted 0.9145299145299145\n",
            "AUC_micro 0.9346920885382423\n",
            "f1_score_weighted 0.9113179656991935\n",
            "log_loss 0.3922144640399667\n",
            "precision_score_macro 0.9168956043956045\n",
            "average_precision_score_macro 0.9171005964009072\n",
            "recall_score_micro 0.9145299145299145\n",
            "average_precision_score_weighted 0.9362186454573886\n",
            "confusion_matrix aml://artifactId/ExperimentRun/dcid.AutoML_1a05dc79-dcc8-4e4f-bb6b-f7065252b6df_44/confusion_matrix\n",
            "accuracy_table aml://artifactId/ExperimentRun/dcid.AutoML_1a05dc79-dcc8-4e4f-bb6b-f7065252b6df_44/accuracy_table\n"
          ]
        }
      ],
      "execution_count": 29,
      "metadata": {
        "gather": {
          "logged": 1613065285683
        },
        "jupyter": {
          "outputs_hidden": false,
          "source_hidden": false
        },
        "nteract": {
          "transient": {
            "deleting": false
          }
        }
      }
    },
    {
      "cell_type": "code",
      "source": [
        "#TODO: Save the best model\r\n",
        "import pickle\r\n",
        "\r\n",
        "best_remote_run,best_automl_model=remote_run.get_output()\r\n",
        "\r\n",
        "model_name = \"automl_model.pkl\"\r\n",
        "with open(model_name, 'wb') as f:\r\n",
        "    pickle.dump(best_automl_model,f)"
      ],
      "outputs": [
        {
          "output_type": "stream",
          "name": "stderr",
          "text": [
            "WARNING:root:The version of the SDK does not match the version the model was trained on.\n",
            "WARNING:root:The consistency in the result may not be guaranteed.\n",
            "WARNING:root:Package:azureml-automl-core, training version:1.21.0, current version:1.20.0\n",
            "Package:azureml-automl-runtime, training version:1.21.0, current version:1.20.0\n",
            "Package:azureml-core, training version:1.21.0.post1, current version:1.20.0\n",
            "Package:azureml-dataprep, training version:2.8.2, current version:2.7.3\n",
            "Package:azureml-dataprep-native, training version:28.0.0, current version:27.0.0\n",
            "Package:azureml-dataprep-rslex, training version:1.6.0, current version:1.5.0\n",
            "Package:azureml-dataset-runtime, training version:1.21.0, current version:1.20.0\n",
            "Package:azureml-defaults, training version:1.21.0, current version:1.20.0\n",
            "Package:azureml-interpret, training version:1.21.0, current version:1.20.0\n",
            "Package:azureml-pipeline-core, training version:1.21.0, current version:1.20.0\n",
            "Package:azureml-telemetry, training version:1.21.0, current version:1.20.0\n",
            "Package:azureml-train-automl-client, training version:1.21.0, current version:1.20.0\n",
            "Package:azureml-train-automl-runtime, training version:1.21.0, current version:1.20.0\n",
            "WARNING:root:Please ensure the version of your local conda dependencies match the version on which your model was trained in order to properly retrieve your model.\n"
          ]
        }
      ],
      "execution_count": 31,
      "metadata": {
        "gather": {
          "logged": 1613065644197
        },
        "jupyter": {
          "outputs_hidden": false,
          "source_hidden": false
        },
        "nteract": {
          "transient": {
            "deleting": false
          }
        }
      }
    },
    {
      "cell_type": "markdown",
      "source": [
        "## Model Deployment\n",
        "\n",
        "Remember you have to deploy only one of the two models you trained.. Perform the steps in the rest of this notebook only if you wish to deploy this model.\n",
        "\n",
        "TODO: In the cell below, register the model, create an inference config and deploy the model as a web service."
      ],
      "metadata": {}
    },
    {
      "cell_type": "code",
      "source": [
        "from azureml.core.model import Model\r\n",
        "\r\n",
        "model = Model.register(ws, model_path='./automl_model.pkl', model_name='placement_prediction')"
      ],
      "outputs": [
        {
          "output_type": "stream",
          "name": "stdout",
          "text": [
            "Registering model placement_prediction\n"
          ]
        }
      ],
      "execution_count": 33,
      "metadata": {
        "gather": {
          "logged": 1613065693134
        },
        "jupyter": {
          "outputs_hidden": false,
          "source_hidden": false
        },
        "nteract": {
          "transient": {
            "deleting": false
          }
        }
      }
    },
    {
      "cell_type": "code",
      "source": [
        "from azureml.core.model import InferenceConfig\r\n",
        "from azureml.core.environment import Environment\r\n",
        "from azureml.core.conda_dependencies import CondaDependencies\r\n",
        "from azureml.core.webservice import LocalWebservice, AciWebservice\r\n",
        "\r\n",
        "myenv = Environment.get(ws, name='AzureML-AutoML')\r\n",
        "# myenv = Environment.from_pip_requirements(name = \"myenv\",\r\n",
        "#                                           file_path = \"requirements.txt\")     \r\n",
        "\r\n",
        "inference_config = InferenceConfig(entry_script=\"score.py\",\r\n",
        "                                   environment=myenv)\r\n",
        "# deployment_config = LocalWebservice.deploy_configuration(port=8000)\r\n",
        "aci_config = AciWebservice.deploy_configuration(cpu_cores=1, memory_gb=1, enable_app_insights=True, auth_enabled=True)\r\n",
        "\r\n",
        "\r\n",
        "service = Model.deploy(ws, name='placementpredctiondeployment', models=[model],inference_config=inference_config, deployment_config=aci_config, overwrite=True)\r\n",
        "service.wait_for_deployment(show_output=True)"
      ],
      "outputs": [
        {
          "output_type": "stream",
          "name": "stdout",
          "text": [
            "Tips: You can try get_logs(): https://aka.ms/debugimage#dockerlog or local deployment: https://aka.ms/debugimage#debug-locally to debug if deployment takes longer than 10 minutes.\n",
            "Running.........................................................................\n",
            "Succeeded\n",
            "ACI service creation operation finished, operation \"Succeeded\"\n"
          ]
        }
      ],
      "execution_count": 35,
      "metadata": {
        "collapsed": true,
        "jupyter": {
          "source_hidden": false,
          "outputs_hidden": false
        },
        "nteract": {
          "transient": {
            "deleting": false
          }
        },
        "gather": {
          "logged": 1613066545673
        }
      }
    },
    {
      "cell_type": "markdown",
      "source": [
        "TODO: In the cell below, send a request to the web service you deployed to test it."
      ],
      "metadata": {
        "collapsed": true,
        "gather": {
          "logged": 1598431657736
        },
        "jupyter": {
          "outputs_hidden": false,
          "source_hidden": false
        },
        "nteract": {
          "transient": {
            "deleting": false
          }
        }
      }
    },
    {
      "cell_type": "code",
      "source": [
        "primary_key, secondry_key = service.get_keys()"
      ],
      "outputs": [],
      "execution_count": 36,
      "metadata": {
        "collapsed": true,
        "jupyter": {
          "source_hidden": false,
          "outputs_hidden": false
        },
        "nteract": {
          "transient": {
            "deleting": false
          }
        },
        "gather": {
          "logged": 1613067169464
        }
      }
    },
    {
      "cell_type": "code",
      "source": [
        "import requests\r\n",
        "import json\r\n",
        "\r\n",
        "uri = service.scoring_uri\r\n",
        "data = {\"data\":\r\n",
        "        [\r\n",
        "            {\r\n",
        "               \"roll_no\": 1,\r\n",
        "               \"gender\": \"M\",\r\n",
        "               \"section\": \"A\",\r\n",
        "               \"SSC_percentage\": 63.1,\r\n",
        "               \"inter_diploma_percentage\": 52.2,\r\n",
        "               \"undergraduation_percentage\": 50.55,\r\n",
        "               \"n_backlogs\": 7,\r\n",
        "               \"registered_for_placement_training\": \"YES\"\r\n",
        "               },\r\n",
        "            {\r\n",
        "               \"roll_no\": 2,\r\n",
        "               \"gender\": \"F\",\r\n",
        "               \"section\": \"A\",\r\n",
        "               \"SSC_percentage\": 63.1,\r\n",
        "               \"inter_diploma_percentage\": 52.2,\r\n",
        "               \"undergraduation_percentage\": 50.55,\r\n",
        "               \"n_backlogs\": 0,\r\n",
        "               \"registered_for_placement_training\": \"NO\"\r\n",
        "            },\r\n",
        "        ]\r\n",
        "        }\r\n",
        "headers = {'Content-Type': 'application/json'}\r\n",
        "headers['Authorization'] = f'Bearer {primary_key}'\r\n",
        "\r\n",
        "payload = json.dumps(data)\r\n",
        "respone = requests.post(uri, payload, headers=headers)\r\n",
        "print(respone.text)"
      ],
      "outputs": [
        {
          "output_type": "stream",
          "name": "stdout",
          "text": [
            "\"{\\\"result\\\": [\\\"Not placed\\\", \\\"Not placed\\\"]}\"\n"
          ]
        }
      ],
      "execution_count": 37,
      "metadata": {
        "gather": {
          "logged": 1613067178096
        },
        "jupyter": {
          "outputs_hidden": false,
          "source_hidden": false
        },
        "nteract": {
          "transient": {
            "deleting": false
          }
        }
      }
    },
    {
      "cell_type": "markdown",
      "source": [
        "TODO: In the cell below, print the logs of the web service and delete the service"
      ],
      "metadata": {
        "collapsed": true,
        "gather": {
          "logged": 1598432765711
        },
        "jupyter": {
          "outputs_hidden": false,
          "source_hidden": false
        },
        "nteract": {
          "transient": {
            "deleting": false
          }
        }
      }
    },
    {
      "cell_type": "code",
      "source": [
        "# print logs of the webservice\r\n",
        "logs = service.get_logs()\r\n",
        "print(logs)"
      ],
      "outputs": [
        {
          "output_type": "stream",
          "name": "stdout",
          "text": [
            "2021-02-11T18:01:38,066743300+00:00 - iot-server/run \n",
            "2021-02-11T18:01:38,069037100+00:00 - gunicorn/run \n",
            "2021-02-11T18:01:38,067772600+00:00 - rsyslog/run \n",
            "2021-02-11T18:01:38,084965700+00:00 - nginx/run \n",
            "/usr/sbin/nginx: /azureml-envs/azureml_09ff55f546b313bb1ab136a466214499/lib/libcrypto.so.1.0.0: no version information available (required by /usr/sbin/nginx)\n",
            "/usr/sbin/nginx: /azureml-envs/azureml_09ff55f546b313bb1ab136a466214499/lib/libcrypto.so.1.0.0: no version information available (required by /usr/sbin/nginx)\n",
            "/usr/sbin/nginx: /azureml-envs/azureml_09ff55f546b313bb1ab136a466214499/lib/libssl.so.1.0.0: no version information available (required by /usr/sbin/nginx)\n",
            "/usr/sbin/nginx: /azureml-envs/azureml_09ff55f546b313bb1ab136a466214499/lib/libssl.so.1.0.0: no version information available (required by /usr/sbin/nginx)\n",
            "/usr/sbin/nginx: /azureml-envs/azureml_09ff55f546b313bb1ab136a466214499/lib/libssl.so.1.0.0: no version information available (required by /usr/sbin/nginx)\n",
            "rsyslogd: /azureml-envs/azureml_09ff55f546b313bb1ab136a466214499/lib/libuuid.so.1: no version information available (required by rsyslogd)\n",
            "EdgeHubConnectionString and IOTEDGE_IOTHUBHOSTNAME are not set. Exiting...\n",
            "2021-02-11T18:01:39,009002200+00:00 - iot-server/finish 1 0\n",
            "2021-02-11T18:01:39,020590100+00:00 - Exit code 1 is normal. Not restarting iot-server.\n",
            "Starting gunicorn 19.9.0\n",
            "Listening at: http://127.0.0.1:31311 (64)\n",
            "Using worker: sync\n",
            "worker timeout is set to 300\n",
            "Booting worker with pid: 93\n",
            "SPARK_HOME not set. Skipping PySpark Initialization.\n",
            "Generating new fontManager, this may take some time...\n",
            "Initializing logger\n",
            "2021-02-11 18:01:43,761 | root | INFO | Starting up app insights client\n",
            "2021-02-11 18:01:43,763 | root | INFO | Starting up request id generator\n",
            "2021-02-11 18:01:43,763 | root | INFO | Starting up app insight hooks\n",
            "2021-02-11 18:01:43,763 | root | INFO | Invoking user's init function\n",
            "2021-02-11 18:01:53,494 | root | INFO | Users's init has completed successfully\n",
            "2021-02-11 18:01:53,499 | root | INFO | Skipping middleware: dbg_model_info as it's not enabled.\n",
            "2021-02-11 18:01:53,499 | root | INFO | Skipping middleware: dbg_resource_usage as it's not enabled.\n",
            "2021-02-11 18:01:53,502 | root | INFO | Scoring timeout is found from os.environ: 60000 ms\n",
            "2021-02-11 18:02:22,917 | root | INFO | Swagger file not present\n",
            "2021-02-11 18:02:22,917 | root | INFO | 404\n",
            "127.0.0.1 - - [11/Feb/2021:18:02:22 +0000] \"GET /swagger.json HTTP/1.0\" 404 19 \"-\" \"Go-http-client/1.1\"\n",
            "2021-02-11 18:02:24,843 | root | INFO | Swagger file not present\n",
            "2021-02-11 18:02:24,843 | root | INFO | 404\n",
            "127.0.0.1 - - [11/Feb/2021:18:02:24 +0000] \"GET /swagger.json HTTP/1.0\" 404 19 \"-\" \"Go-http-client/1.1\"\n",
            "2021-02-11 18:12:56,541 | root | INFO | Validation Request Content-Type\n",
            "2021-02-11 18:12:56,545 | root | INFO | Scoring Timer is set to 60.0 seconds\n",
            "2021-02-11 18:12:57,332 | root | INFO | 200\n",
            "127.0.0.1 - - [11/Feb/2021:18:12:57 +0000] \"POST /score HTTP/1.0\" 200 48 \"-\" \"python-requests/2.25.1\"\n",
            "\n"
          ]
        }
      ],
      "execution_count": 38,
      "metadata": {
        "jupyter": {
          "outputs_hidden": false,
          "source_hidden": false
        },
        "nteract": {
          "transient": {
            "deleting": false
          }
        },
        "gather": {
          "logged": 1613067326239
        }
      }
    },
    {
      "cell_type": "code",
      "source": [
        "service.delete()"
      ],
      "outputs": [],
      "execution_count": 47,
      "metadata": {
        "collapsed": true,
        "jupyter": {
          "source_hidden": false,
          "outputs_hidden": false
        },
        "nteract": {
          "transient": {
            "deleting": false
          }
        },
        "gather": {
          "logged": 1612129211060
        }
      }
    }
  ],
  "metadata": {
    "kernel_info": {
      "name": "python3"
    },
    "kernelspec": {
      "name": "python3",
      "language": "python",
      "display_name": "Python 3"
    },
    "language_info": {
      "name": "python",
      "version": "3.6.9",
      "mimetype": "text/x-python",
      "codemirror_mode": {
        "name": "ipython",
        "version": 3
      },
      "pygments_lexer": "ipython3",
      "nbconvert_exporter": "python",
      "file_extension": ".py"
    },
    "nteract": {
      "version": "nteract-front-end@1.0.0"
    }
  },
  "nbformat": 4,
  "nbformat_minor": 2
}